{
 "cells": [
  {
   "cell_type": "markdown",
   "id": "fb74a2d9",
   "metadata": {},
   "source": [
    "# Tweets analyzer.\n",
    "\n",
    "#### This Notebook analyzes tweets to from individuals to a company. The please note:\n",
    "##### 1. The main goal of this notebook is to analyze questions and reviews left by users for company's therefore to get more relevant data I have excluded tweets with attachments and only included tweets which are not replies to tweets or retweets.\n",
    "\n",
    "#### 2. The data has been scrapped from twitter directly using octoparse 8. This data is from the periods between 01/01/2021 to 31/12/2021."
   ]
  },
  {
   "cell_type": "code",
   "execution_count": 141,
   "id": "f9d2e3f4",
   "metadata": {},
   "outputs": [
    {
     "name": "stdout",
     "output_type": "stream",
     "text": [
      "Requirement already satisfied: spacy in c:\\users\\user\\anaconda3\\lib\\site-packages (3.2.1)\n",
      "Requirement already satisfied: langcodes<4.0.0,>=3.2.0 in c:\\users\\user\\anaconda3\\lib\\site-packages (from spacy) (3.3.0)\n",
      "Requirement already satisfied: srsly<3.0.0,>=2.4.1 in c:\\users\\user\\anaconda3\\lib\\site-packages (from spacy) (2.4.2)\n",
      "Requirement already satisfied: requests<3.0.0,>=2.13.0 in c:\\users\\user\\anaconda3\\lib\\site-packages (from spacy) (2.25.1)\n",
      "Requirement already satisfied: numpy>=1.15.0 in c:\\users\\user\\anaconda3\\lib\\site-packages (from spacy) (1.19.5)\n",
      "Requirement already satisfied: cymem<2.1.0,>=2.0.2 in c:\\users\\user\\anaconda3\\lib\\site-packages (from spacy) (2.0.6)\n",
      "Requirement already satisfied: wasabi<1.1.0,>=0.8.1 in c:\\users\\user\\anaconda3\\lib\\site-packages (from spacy) (0.9.0)\n",
      "Requirement already satisfied: pathy>=0.3.5 in c:\\users\\user\\anaconda3\\lib\\site-packages (from spacy) (0.6.1)\n",
      "Requirement already satisfied: catalogue<2.1.0,>=2.0.6 in c:\\users\\user\\anaconda3\\lib\\site-packages (from spacy) (2.0.6)\n",
      "Requirement already satisfied: preshed<3.1.0,>=3.0.2 in c:\\users\\user\\anaconda3\\lib\\site-packages (from spacy) (3.0.6)\n",
      "Requirement already satisfied: spacy-loggers<2.0.0,>=1.0.0 in c:\\users\\user\\anaconda3\\lib\\site-packages (from spacy) (1.0.1)\n",
      "Requirement already satisfied: murmurhash<1.1.0,>=0.28.0 in c:\\users\\user\\anaconda3\\lib\\site-packages (from spacy) (1.0.6)\n",
      "Requirement already satisfied: setuptools in c:\\users\\user\\anaconda3\\lib\\site-packages (from spacy) (60.5.0)\n",
      "Requirement already satisfied: typer<0.5.0,>=0.3.0 in c:\\users\\user\\anaconda3\\lib\\site-packages (from spacy) (0.4.0)\n",
      "Requirement already satisfied: spacy-legacy<3.1.0,>=3.0.8 in c:\\users\\user\\anaconda3\\lib\\site-packages (from spacy) (3.0.8)\n",
      "Requirement already satisfied: blis<0.8.0,>=0.4.0 in c:\\users\\user\\anaconda3\\lib\\site-packages (from spacy) (0.7.5)\n",
      "Requirement already satisfied: tqdm<5.0.0,>=4.38.0 in c:\\users\\user\\anaconda3\\lib\\site-packages (from spacy) (4.59.0)\n",
      "Requirement already satisfied: jinja2 in c:\\users\\user\\anaconda3\\lib\\site-packages (from spacy) (2.11.3)\n",
      "Requirement already satisfied: packaging>=20.0 in c:\\users\\user\\anaconda3\\lib\\site-packages (from spacy) (20.9)\n",
      "Requirement already satisfied: pydantic!=1.8,!=1.8.1,<1.9.0,>=1.7.4 in c:\\users\\user\\anaconda3\\lib\\site-packages (from spacy) (1.8.2)\n",
      "Requirement already satisfied: thinc<8.1.0,>=8.0.12 in c:\\users\\user\\anaconda3\\lib\\site-packages (from spacy) (8.0.13)\n",
      "Requirement already satisfied: pyparsing>=2.0.2 in c:\\users\\user\\anaconda3\\lib\\site-packages (from packaging>=20.0->spacy) (2.4.7)\n",
      "Requirement already satisfied: smart-open<6.0.0,>=5.0.0 in c:\\users\\user\\anaconda3\\lib\\site-packages (from pathy>=0.3.5->spacy) (5.2.1)\n",
      "Requirement already satisfied: typing-extensions>=3.7.4.3 in c:\\users\\user\\anaconda3\\lib\\site-packages (from pydantic!=1.8,!=1.8.1,<1.9.0,>=1.7.4->spacy) (3.7.4.3)\n",
      "Requirement already satisfied: chardet<5,>=3.0.2 in c:\\users\\user\\anaconda3\\lib\\site-packages (from requests<3.0.0,>=2.13.0->spacy) (4.0.0)\n",
      "Requirement already satisfied: idna<3,>=2.5 in c:\\users\\user\\anaconda3\\lib\\site-packages (from requests<3.0.0,>=2.13.0->spacy) (2.10)\n",
      "Requirement already satisfied: urllib3<1.27,>=1.21.1 in c:\\users\\user\\anaconda3\\lib\\site-packages (from requests<3.0.0,>=2.13.0->spacy) (1.26.4)\n",
      "Requirement already satisfied: certifi>=2017.4.17 in c:\\users\\user\\anaconda3\\lib\\site-packages (from requests<3.0.0,>=2.13.0->spacy) (2020.12.5)\n",
      "Requirement already satisfied: click<9.0.0,>=7.1.1 in c:\\users\\user\\anaconda3\\lib\\site-packages (from typer<0.5.0,>=0.3.0->spacy) (7.1.2)\n",
      "Requirement already satisfied: MarkupSafe>=0.23 in c:\\users\\user\\anaconda3\\lib\\site-packages (from jinja2->spacy) (1.1.1)\n",
      "^C\n",
      "Requirement already satisfied: spacy-langdetect in c:\\users\\user\\anaconda3\\lib\\site-packages (0.1.2)\n",
      "Requirement already satisfied: pytest in c:\\users\\user\\anaconda3\\lib\\site-packages (from spacy-langdetect) (6.2.3)\n",
      "Requirement already satisfied: langdetect==1.0.7 in c:\\users\\user\\anaconda3\\lib\\site-packages (from spacy-langdetect) (1.0.7)\n",
      "Requirement already satisfied: six in c:\\users\\user\\anaconda3\\lib\\site-packages (from langdetect==1.0.7->spacy-langdetect) (1.15.0)\n",
      "Requirement already satisfied: attrs>=19.2.0 in c:\\users\\user\\anaconda3\\lib\\site-packages (from pytest->spacy-langdetect) (20.3.0)\n",
      "Requirement already satisfied: iniconfig in c:\\users\\user\\anaconda3\\lib\\site-packages (from pytest->spacy-langdetect) (1.1.1)\n",
      "Requirement already satisfied: packaging in c:\\users\\user\\anaconda3\\lib\\site-packages (from pytest->spacy-langdetect) (20.9)\n",
      "Requirement already satisfied: pluggy<1.0.0a1,>=0.12 in c:\\users\\user\\anaconda3\\lib\\site-packages (from pytest->spacy-langdetect) (0.13.1)\n",
      "Requirement already satisfied: py>=1.8.2 in c:\\users\\user\\anaconda3\\lib\\site-packages (from pytest->spacy-langdetect) (1.10.0)\n",
      "Requirement already satisfied: toml in c:\\users\\user\\anaconda3\\lib\\site-packages (from pytest->spacy-langdetect) (0.10.2)\n",
      "Requirement already satisfied: atomicwrites>=1.0 in c:\\users\\user\\anaconda3\\lib\\site-packages (from pytest->spacy-langdetect) (1.4.0)\n",
      "Requirement already satisfied: colorama in c:\\users\\user\\anaconda3\\lib\\site-packages (from pytest->spacy-langdetect) (0.4.4)\n",
      "Requirement already satisfied: pyparsing>=2.0.2 in c:\\users\\user\\anaconda3\\lib\\site-packages (from packaging->pytest->spacy-langdetect) (2.4.7)\n",
      "Requirement already satisfied: pyspellchecker in c:\\users\\user\\anaconda3\\lib\\site-packages (0.6.3)\n"
     ]
    }
   ],
   "source": [
    "!pip install spacy\n",
    "!python -m spacy download en_core_web_sm\n",
    "!pip install spacy-langdetect\n",
    "!pip install pyspellchecker\n",
    "\n",
    "import pandas as pd\n",
    "import re\n",
    "import plotly.express as px\n",
    "import numpy as np\n",
    "import datetime\n",
    "import spacy"
   ]
  },
  {
   "cell_type": "code",
   "execution_count": 2,
   "id": "c9b7ab50",
   "metadata": {},
   "outputs": [],
   "source": [
    "df = pd.read_csv('data/kplc_twitter_2021.csv')"
   ]
  },
  {
   "cell_type": "code",
   "execution_count": 3,
   "id": "efe2a020",
   "metadata": {},
   "outputs": [],
   "source": [
    "def convertCountToInt(count):\n",
    "    if(isinstance(count,str) and count[-1].lower() in ['k','m']):\n",
    "        multiplier = 1000  if count[-1].lower() == 'k' else 1000000\n",
    "        count = float(count[:len(count)-1]) * multiplier\n",
    "    return int(count)\n",
    "\n",
    "def cleanTweet1(tweet):\n",
    "    pattern = r'\\n'\n",
    "    return re.sub(pattern,' ',tweet)"
   ]
  },
  {
   "cell_type": "code",
   "execution_count": 4,
   "id": "db6c8e72",
   "metadata": {},
   "outputs": [],
   "source": [
    "#converting comments, reshare and likes to int\n",
    "df.fillna(0,inplace=True)\n",
    "\n",
    "intColumns = ['comments','reshare','likes']\n",
    "\n",
    "for column in intColumns:\n",
    "    df[column] = df[column].apply(convertCountToInt);\n",
    "    \n"
   ]
  },
  {
   "cell_type": "code",
   "execution_count": 5,
   "id": "b88a7e30",
   "metadata": {},
   "outputs": [
    {
     "data": {
      "text/plain": [
       "Name             0\n",
       "handle           0\n",
       "Time             0\n",
       "tweet            0\n",
       "comments         0\n",
       "reshare          0\n",
       "likes            0\n",
       "tweet_cleaned    0\n",
       "dtype: int64"
      ]
     },
     "execution_count": 5,
     "metadata": {},
     "output_type": "execute_result"
    }
   ],
   "source": [
    "#we'll remove next line tags to cleanup the data\n",
    "df['tweet_cleaned'] = df['tweet'].apply(cleanTweet1)\n",
    "\n",
    "#checking whether there are any null columns\n",
    "df.isnull().sum()"
   ]
  },
  {
   "cell_type": "code",
   "execution_count": 6,
   "id": "7f97072f",
   "metadata": {},
   "outputs": [
    {
     "data": {
      "text/html": [
       "<div>\n",
       "<style scoped>\n",
       "    .dataframe tbody tr th:only-of-type {\n",
       "        vertical-align: middle;\n",
       "    }\n",
       "\n",
       "    .dataframe tbody tr th {\n",
       "        vertical-align: top;\n",
       "    }\n",
       "\n",
       "    .dataframe thead th {\n",
       "        text-align: right;\n",
       "    }\n",
       "</style>\n",
       "<table border=\"1\" class=\"dataframe\">\n",
       "  <thead>\n",
       "    <tr style=\"text-align: right;\">\n",
       "      <th></th>\n",
       "      <th>handle</th>\n",
       "      <th>Time</th>\n",
       "      <th>tweet</th>\n",
       "      <th>comments</th>\n",
       "      <th>reshare</th>\n",
       "      <th>likes</th>\n",
       "      <th>tweet_cleaned</th>\n",
       "    </tr>\n",
       "  </thead>\n",
       "  <tbody>\n",
       "    <tr>\n",
       "      <th>1636</th>\n",
       "      <td>@seanC_1O</td>\n",
       "      <td>2021-05-04T15:44:36.000Z</td>\n",
       "      <td>Tangu Friday KPLC wamekataa kutengeneza stima ...</td>\n",
       "      <td>1</td>\n",
       "      <td>1</td>\n",
       "      <td>2</td>\n",
       "      <td>Tangu Friday KPLC wamekataa kutengeneza stima ...</td>\n",
       "    </tr>\n",
       "    <tr>\n",
       "      <th>1126</th>\n",
       "      <td>@amanialvinn</td>\n",
       "      <td>2021-07-28T09:50:08.000Z</td>\n",
       "      <td>#kplccustomercare \\n@KenyaPower_Care\\n \\n@Keny...</td>\n",
       "      <td>1</td>\n",
       "      <td>0</td>\n",
       "      <td>0</td>\n",
       "      <td>#kplccustomercare  @KenyaPower_Care   @KenyaPo...</td>\n",
       "    </tr>\n",
       "    <tr>\n",
       "      <th>1583</th>\n",
       "      <td>@lydssham</td>\n",
       "      <td>2021-05-12T15:05:01.000Z</td>\n",
       "      <td>Dear Customer,Your complaint for prepaid meter...</td>\n",
       "      <td>0</td>\n",
       "      <td>0</td>\n",
       "      <td>1</td>\n",
       "      <td>Dear Customer,Your complaint for prepaid meter...</td>\n",
       "    </tr>\n",
       "    <tr>\n",
       "      <th>1911</th>\n",
       "      <td>@kakayoung01</td>\n",
       "      <td>2021-04-08T15:00:10.000Z</td>\n",
       "      <td>Hello \\n@KenyaPower_Care\\n \\n@KenyaPower\\n  fo...</td>\n",
       "      <td>0</td>\n",
       "      <td>0</td>\n",
       "      <td>0</td>\n",
       "      <td>Hello  @KenyaPower_Care   @KenyaPower   for th...</td>\n",
       "    </tr>\n",
       "    <tr>\n",
       "      <th>404</th>\n",
       "      <td>@ansibuor</td>\n",
       "      <td>2021-11-16T12:53:36.000Z</td>\n",
       "      <td>Now that we are talking about fraudsters, \\n@K...</td>\n",
       "      <td>1</td>\n",
       "      <td>3</td>\n",
       "      <td>10</td>\n",
       "      <td>Now that we are talking about fraudsters,  @Ke...</td>\n",
       "    </tr>\n",
       "    <tr>\n",
       "      <th>1305</th>\n",
       "      <td>@injilipaul</td>\n",
       "      <td>2021-06-27T08:39:04.000Z</td>\n",
       "      <td>No power! Since Saturday 26th june mid morning...</td>\n",
       "      <td>1</td>\n",
       "      <td>0</td>\n",
       "      <td>0</td>\n",
       "      <td>No power! Since Saturday 26th june mid morning...</td>\n",
       "    </tr>\n",
       "    <tr>\n",
       "      <th>822</th>\n",
       "      <td>@hingittah</td>\n",
       "      <td>2021-09-15T18:42:42.000Z</td>\n",
       "      <td>....with fuel prices up, will our hydroelectri...</td>\n",
       "      <td>0</td>\n",
       "      <td>0</td>\n",
       "      <td>0</td>\n",
       "      <td>....with fuel prices up, will our hydroelectri...</td>\n",
       "    </tr>\n",
       "    <tr>\n",
       "      <th>707</th>\n",
       "      <td>@reggaeholic_</td>\n",
       "      <td>2021-10-06T14:28:05.000Z</td>\n",
       "      <td>Sijawahi ona \\n@KenyaPower_Care\\n , \\n@KenyaPo...</td>\n",
       "      <td>0</td>\n",
       "      <td>0</td>\n",
       "      <td>0</td>\n",
       "      <td>Sijawahi ona  @KenyaPower_Care  ,  @KenyaPower...</td>\n",
       "    </tr>\n",
       "    <tr>\n",
       "      <th>2189</th>\n",
       "      <td>@MosesNtabo</td>\n",
       "      <td>2021-03-10T07:28:56.000Z</td>\n",
       "      <td>I hope this &gt;&gt; \\n@sos_kibe_\\n  not \\n@KenyaPow...</td>\n",
       "      <td>1</td>\n",
       "      <td>0</td>\n",
       "      <td>0</td>\n",
       "      <td>I hope this &gt;&gt;  @sos_kibe_   not  @KenyaPower ...</td>\n",
       "    </tr>\n",
       "    <tr>\n",
       "      <th>1214</th>\n",
       "      <td>@KituiOnline</td>\n",
       "      <td>2021-07-11T17:26:22.000Z</td>\n",
       "      <td>Kitui: There are trees interfering with powerl...</td>\n",
       "      <td>0</td>\n",
       "      <td>0</td>\n",
       "      <td>2</td>\n",
       "      <td>Kitui: There are trees interfering with powerl...</td>\n",
       "    </tr>\n",
       "  </tbody>\n",
       "</table>\n",
       "</div>"
      ],
      "text/plain": [
       "             handle                      Time  \\\n",
       "1636      @seanC_1O  2021-05-04T15:44:36.000Z   \n",
       "1126   @amanialvinn  2021-07-28T09:50:08.000Z   \n",
       "1583      @lydssham  2021-05-12T15:05:01.000Z   \n",
       "1911   @kakayoung01  2021-04-08T15:00:10.000Z   \n",
       "404       @ansibuor  2021-11-16T12:53:36.000Z   \n",
       "1305    @injilipaul  2021-06-27T08:39:04.000Z   \n",
       "822      @hingittah  2021-09-15T18:42:42.000Z   \n",
       "707   @reggaeholic_  2021-10-06T14:28:05.000Z   \n",
       "2189    @MosesNtabo  2021-03-10T07:28:56.000Z   \n",
       "1214   @KituiOnline  2021-07-11T17:26:22.000Z   \n",
       "\n",
       "                                                  tweet  comments  reshare  \\\n",
       "1636  Tangu Friday KPLC wamekataa kutengeneza stima ...         1        1   \n",
       "1126  #kplccustomercare \\n@KenyaPower_Care\\n \\n@Keny...         1        0   \n",
       "1583  Dear Customer,Your complaint for prepaid meter...         0        0   \n",
       "1911  Hello \\n@KenyaPower_Care\\n \\n@KenyaPower\\n  fo...         0        0   \n",
       "404   Now that we are talking about fraudsters, \\n@K...         1        3   \n",
       "1305  No power! Since Saturday 26th june mid morning...         1        0   \n",
       "822   ....with fuel prices up, will our hydroelectri...         0        0   \n",
       "707   Sijawahi ona \\n@KenyaPower_Care\\n , \\n@KenyaPo...         0        0   \n",
       "2189  I hope this >> \\n@sos_kibe_\\n  not \\n@KenyaPow...         1        0   \n",
       "1214  Kitui: There are trees interfering with powerl...         0        0   \n",
       "\n",
       "      likes                                      tweet_cleaned  \n",
       "1636      2  Tangu Friday KPLC wamekataa kutengeneza stima ...  \n",
       "1126      0  #kplccustomercare  @KenyaPower_Care   @KenyaPo...  \n",
       "1583      1  Dear Customer,Your complaint for prepaid meter...  \n",
       "1911      0  Hello  @KenyaPower_Care   @KenyaPower   for th...  \n",
       "404      10  Now that we are talking about fraudsters,  @Ke...  \n",
       "1305      0  No power! Since Saturday 26th june mid morning...  \n",
       "822       0  ....with fuel prices up, will our hydroelectri...  \n",
       "707       0  Sijawahi ona  @KenyaPower_Care  ,  @KenyaPower...  \n",
       "2189      0  I hope this >>  @sos_kibe_   not  @KenyaPower ...  \n",
       "1214      2  Kitui: There are trees interfering with powerl...  "
      ]
     },
     "execution_count": 6,
     "metadata": {},
     "output_type": "execute_result"
    }
   ],
   "source": [
    "#we'll remove the name column since we don't need it for the analysis\n",
    "df.drop(['Name'],axis=1,inplace = True)\n",
    "\n",
    "df.sample(10, random_state=10)"
   ]
  },
  {
   "cell_type": "code",
   "execution_count": 7,
   "id": "501ea005",
   "metadata": {},
   "outputs": [
    {
     "data": {
      "text/html": [
       "<div>\n",
       "<style scoped>\n",
       "    .dataframe tbody tr th:only-of-type {\n",
       "        vertical-align: middle;\n",
       "    }\n",
       "\n",
       "    .dataframe tbody tr th {\n",
       "        vertical-align: top;\n",
       "    }\n",
       "\n",
       "    .dataframe thead th {\n",
       "        text-align: right;\n",
       "    }\n",
       "</style>\n",
       "<table border=\"1\" class=\"dataframe\">\n",
       "  <thead>\n",
       "    <tr style=\"text-align: right;\">\n",
       "      <th></th>\n",
       "      <th>handle</th>\n",
       "      <th>Time</th>\n",
       "      <th>tweet</th>\n",
       "      <th>comments</th>\n",
       "      <th>reshare</th>\n",
       "      <th>likes</th>\n",
       "      <th>tweet_cleaned</th>\n",
       "      <th>Month</th>\n",
       "      <th>Day</th>\n",
       "    </tr>\n",
       "  </thead>\n",
       "  <tbody>\n",
       "    <tr>\n",
       "      <th>2640</th>\n",
       "      <td>@2FingersKenya</td>\n",
       "      <td>16:38:06</td>\n",
       "      <td>Hi \\n@KenyaPower\\n \\n@KenyaPower_Care\\n power ...</td>\n",
       "      <td>1</td>\n",
       "      <td>0</td>\n",
       "      <td>0</td>\n",
       "      <td>Hi  @KenyaPower   @KenyaPower_Care  power outa...</td>\n",
       "      <td>1</td>\n",
       "      <td>13</td>\n",
       "    </tr>\n",
       "    <tr>\n",
       "      <th>1673</th>\n",
       "      <td>@johnmark254</td>\n",
       "      <td>18:08:30</td>\n",
       "      <td>#pawasawa  \\n@KenyaPower\\n  \\n@KenyaPower_Care...</td>\n",
       "      <td>1</td>\n",
       "      <td>0</td>\n",
       "      <td>0</td>\n",
       "      <td>#pawasawa   @KenyaPower    @KenyaPower_Care   ...</td>\n",
       "      <td>4</td>\n",
       "      <td>30</td>\n",
       "    </tr>\n",
       "    <tr>\n",
       "      <th>732</th>\n",
       "      <td>@Birchok_H</td>\n",
       "      <td>18:40:08</td>\n",
       "      <td>Dear \\n@KenyaPower_Care\\n kindly assist with t...</td>\n",
       "      <td>1</td>\n",
       "      <td>0</td>\n",
       "      <td>0</td>\n",
       "      <td>Dear  @KenyaPower_Care  kindly assist with tok...</td>\n",
       "      <td>10</td>\n",
       "      <td>3</td>\n",
       "    </tr>\n",
       "    <tr>\n",
       "      <th>267</th>\n",
       "      <td>@AllanKamau12</td>\n",
       "      <td>11:08:40</td>\n",
       "      <td>Hello \\n@KenyaPower_Care\\n \\n@KenyaPower\\n  we...</td>\n",
       "      <td>1</td>\n",
       "      <td>0</td>\n",
       "      <td>0</td>\n",
       "      <td>Hello  @KenyaPower_Care   @KenyaPower   we exp...</td>\n",
       "      <td>11</td>\n",
       "      <td>29</td>\n",
       "    </tr>\n",
       "    <tr>\n",
       "      <th>450</th>\n",
       "      <td>@Mercymunyingi</td>\n",
       "      <td>07:38:51</td>\n",
       "      <td>#kplccustomercare \\n@kenyapower\\n \\n@KenyaPowe...</td>\n",
       "      <td>1</td>\n",
       "      <td>1</td>\n",
       "      <td>0</td>\n",
       "      <td>#kplccustomercare  @kenyapower   @KenyaPower_C...</td>\n",
       "      <td>11</td>\n",
       "      <td>9</td>\n",
       "    </tr>\n",
       "    <tr>\n",
       "      <th>2586</th>\n",
       "      <td>@Mca_Trickyy</td>\n",
       "      <td>10:30:05</td>\n",
       "      <td>Dear \\n@KenyaPower\\n \\n@KenyaPower_Care\\n same...</td>\n",
       "      <td>1</td>\n",
       "      <td>0</td>\n",
       "      <td>0</td>\n",
       "      <td>Dear  @KenyaPower   @KenyaPower_Care  same 'bl...</td>\n",
       "      <td>1</td>\n",
       "      <td>24</td>\n",
       "    </tr>\n",
       "    <tr>\n",
       "      <th>412</th>\n",
       "      <td>@ItsGasheri</td>\n",
       "      <td>14:16:01</td>\n",
       "      <td>Oyaaaaaaa \\n@KenyaPower_Care\\n \\n@KenyaPower\\n...</td>\n",
       "      <td>2</td>\n",
       "      <td>0</td>\n",
       "      <td>0</td>\n",
       "      <td>Oyaaaaaaa  @KenyaPower_Care   @KenyaPower  No ...</td>\n",
       "      <td>11</td>\n",
       "      <td>15</td>\n",
       "    </tr>\n",
       "    <tr>\n",
       "      <th>2677</th>\n",
       "      <td>@MichKatami</td>\n",
       "      <td>10:35:18</td>\n",
       "      <td>\"Mwangaza wamlika, nchi ya songa Mbele...\"\\n\\n...</td>\n",
       "      <td>1</td>\n",
       "      <td>0</td>\n",
       "      <td>0</td>\n",
       "      <td>\"Mwangaza wamlika, nchi ya songa Mbele...\"  \"P...</td>\n",
       "      <td>1</td>\n",
       "      <td>10</td>\n",
       "    </tr>\n",
       "    <tr>\n",
       "      <th>219</th>\n",
       "      <td>@stevemusilih</td>\n",
       "      <td>10:11:15</td>\n",
       "      <td>Good afternoon \\n@KenyaPower\\n \\n@KenyaPower_C...</td>\n",
       "      <td>1</td>\n",
       "      <td>0</td>\n",
       "      <td>0</td>\n",
       "      <td>Good afternoon  @KenyaPower   @KenyaPower_Care...</td>\n",
       "      <td>12</td>\n",
       "      <td>3</td>\n",
       "    </tr>\n",
       "    <tr>\n",
       "      <th>2180</th>\n",
       "      <td>@ihaji_marilu</td>\n",
       "      <td>16:49:03</td>\n",
       "      <td>It's so unfortunate for a busy street like Kee...</td>\n",
       "      <td>0</td>\n",
       "      <td>1</td>\n",
       "      <td>0</td>\n",
       "      <td>It's so unfortunate for a busy street like Kee...</td>\n",
       "      <td>3</td>\n",
       "      <td>11</td>\n",
       "    </tr>\n",
       "  </tbody>\n",
       "</table>\n",
       "</div>"
      ],
      "text/plain": [
       "              handle      Time  \\\n",
       "2640  @2FingersKenya  16:38:06   \n",
       "1673    @johnmark254  18:08:30   \n",
       "732       @Birchok_H  18:40:08   \n",
       "267    @AllanKamau12  11:08:40   \n",
       "450   @Mercymunyingi  07:38:51   \n",
       "2586    @Mca_Trickyy  10:30:05   \n",
       "412      @ItsGasheri  14:16:01   \n",
       "2677     @MichKatami  10:35:18   \n",
       "219    @stevemusilih  10:11:15   \n",
       "2180   @ihaji_marilu  16:49:03   \n",
       "\n",
       "                                                  tweet  comments  reshare  \\\n",
       "2640  Hi \\n@KenyaPower\\n \\n@KenyaPower_Care\\n power ...         1        0   \n",
       "1673  #pawasawa  \\n@KenyaPower\\n  \\n@KenyaPower_Care...         1        0   \n",
       "732   Dear \\n@KenyaPower_Care\\n kindly assist with t...         1        0   \n",
       "267   Hello \\n@KenyaPower_Care\\n \\n@KenyaPower\\n  we...         1        0   \n",
       "450   #kplccustomercare \\n@kenyapower\\n \\n@KenyaPowe...         1        1   \n",
       "2586  Dear \\n@KenyaPower\\n \\n@KenyaPower_Care\\n same...         1        0   \n",
       "412   Oyaaaaaaa \\n@KenyaPower_Care\\n \\n@KenyaPower\\n...         2        0   \n",
       "2677  \"Mwangaza wamlika, nchi ya songa Mbele...\"\\n\\n...         1        0   \n",
       "219   Good afternoon \\n@KenyaPower\\n \\n@KenyaPower_C...         1        0   \n",
       "2180  It's so unfortunate for a busy street like Kee...         0        1   \n",
       "\n",
       "      likes                                      tweet_cleaned  Month  Day  \n",
       "2640      0  Hi  @KenyaPower   @KenyaPower_Care  power outa...      1   13  \n",
       "1673      0  #pawasawa   @KenyaPower    @KenyaPower_Care   ...      4   30  \n",
       "732       0  Dear  @KenyaPower_Care  kindly assist with tok...     10    3  \n",
       "267       0  Hello  @KenyaPower_Care   @KenyaPower   we exp...     11   29  \n",
       "450       0  #kplccustomercare  @kenyapower   @KenyaPower_C...     11    9  \n",
       "2586      0  Dear  @KenyaPower   @KenyaPower_Care  same 'bl...      1   24  \n",
       "412       0  Oyaaaaaaa  @KenyaPower_Care   @KenyaPower  No ...     11   15  \n",
       "2677      0  \"Mwangaza wamlika, nchi ya songa Mbele...\"  \"P...      1   10  \n",
       "219       0  Good afternoon  @KenyaPower   @KenyaPower_Care...     12    3  \n",
       "2180      0  It's so unfortunate for a busy street like Kee...      3   11  "
      ]
     },
     "execution_count": 7,
     "metadata": {},
     "output_type": "execute_result"
    }
   ],
   "source": [
    "# we need to format the date in a more analsis friendly way\n",
    "df['Month'] = pd.DatetimeIndex(df['Time']).month\n",
    "df['Day'] = pd.DatetimeIndex(df['Time']).day\n",
    "df['Time'] = pd.DatetimeIndex(df['Time']).time\n",
    "\n",
    "df.sample(10, random_state=7)"
   ]
  },
  {
   "cell_type": "code",
   "execution_count": 33,
   "id": "d85d786b",
   "metadata": {},
   "outputs": [],
   "source": [
    "from spacy.language import Language\n",
    "from spacy_langdetect import LanguageDetector\n",
    "def get_lang_detector(nlp, name):\n",
    "    return LanguageDetector()\n",
    "\n",
    "LanguageClassifier = spacy.load(\"en_core_web_sm\")\n",
    "Language.factory(\"language_detector\", func=get_lang_detector)\n",
    "LanguageClassifier.add_pipe('language_detector', last=True)"
   ]
  },
  {
   "cell_type": "code",
   "execution_count": 45,
   "id": "b499c11f",
   "metadata": {},
   "outputs": [],
   "source": [
    "#since we have tweets in both swahili and english, we will first categorize them into the respective language.\n",
    "df['language'] = df['tweet'].apply(lambda tweet: 'Swahili' if LanguageClassifier(tweet)._.language['language']== 'sw' else 'English')"
   ]
  },
  {
   "cell_type": "code",
   "execution_count": 50,
   "id": "8ebb0fc0",
   "metadata": {},
   "outputs": [
    {
     "data": {
      "text/html": [
       "<div>\n",
       "<style scoped>\n",
       "    .dataframe tbody tr th:only-of-type {\n",
       "        vertical-align: middle;\n",
       "    }\n",
       "\n",
       "    .dataframe tbody tr th {\n",
       "        vertical-align: top;\n",
       "    }\n",
       "\n",
       "    .dataframe thead th {\n",
       "        text-align: right;\n",
       "    }\n",
       "</style>\n",
       "<table border=\"1\" class=\"dataframe\">\n",
       "  <thead>\n",
       "    <tr style=\"text-align: right;\">\n",
       "      <th></th>\n",
       "      <th>handle</th>\n",
       "      <th>Time</th>\n",
       "      <th>tweet</th>\n",
       "      <th>comments</th>\n",
       "      <th>reshare</th>\n",
       "      <th>likes</th>\n",
       "      <th>tweet_cleaned</th>\n",
       "      <th>Month</th>\n",
       "      <th>Day</th>\n",
       "      <th>language</th>\n",
       "    </tr>\n",
       "  </thead>\n",
       "  <tbody>\n",
       "    <tr>\n",
       "      <th>2640</th>\n",
       "      <td>@2FingersKenya</td>\n",
       "      <td>16:38:06</td>\n",
       "      <td>Hi \\n@KenyaPower\\n \\n@KenyaPower_Care\\n power ...</td>\n",
       "      <td>1</td>\n",
       "      <td>0</td>\n",
       "      <td>0</td>\n",
       "      <td>Hi  @KenyaPower   @KenyaPower_Care  power outa...</td>\n",
       "      <td>1</td>\n",
       "      <td>13</td>\n",
       "      <td>English</td>\n",
       "    </tr>\n",
       "    <tr>\n",
       "      <th>1673</th>\n",
       "      <td>@johnmark254</td>\n",
       "      <td>18:08:30</td>\n",
       "      <td>#pawasawa  \\n@KenyaPower\\n  \\n@KenyaPower_Care...</td>\n",
       "      <td>1</td>\n",
       "      <td>0</td>\n",
       "      <td>0</td>\n",
       "      <td>#pawasawa   @KenyaPower    @KenyaPower_Care   ...</td>\n",
       "      <td>4</td>\n",
       "      <td>30</td>\n",
       "      <td>English</td>\n",
       "    </tr>\n",
       "    <tr>\n",
       "      <th>732</th>\n",
       "      <td>@Birchok_H</td>\n",
       "      <td>18:40:08</td>\n",
       "      <td>Dear \\n@KenyaPower_Care\\n kindly assist with t...</td>\n",
       "      <td>1</td>\n",
       "      <td>0</td>\n",
       "      <td>0</td>\n",
       "      <td>Dear  @KenyaPower_Care  kindly assist with tok...</td>\n",
       "      <td>10</td>\n",
       "      <td>3</td>\n",
       "      <td>English</td>\n",
       "    </tr>\n",
       "    <tr>\n",
       "      <th>267</th>\n",
       "      <td>@AllanKamau12</td>\n",
       "      <td>11:08:40</td>\n",
       "      <td>Hello \\n@KenyaPower_Care\\n \\n@KenyaPower\\n  we...</td>\n",
       "      <td>1</td>\n",
       "      <td>0</td>\n",
       "      <td>0</td>\n",
       "      <td>Hello  @KenyaPower_Care   @KenyaPower   we exp...</td>\n",
       "      <td>11</td>\n",
       "      <td>29</td>\n",
       "      <td>English</td>\n",
       "    </tr>\n",
       "    <tr>\n",
       "      <th>450</th>\n",
       "      <td>@Mercymunyingi</td>\n",
       "      <td>07:38:51</td>\n",
       "      <td>#kplccustomercare \\n@kenyapower\\n \\n@KenyaPowe...</td>\n",
       "      <td>1</td>\n",
       "      <td>1</td>\n",
       "      <td>0</td>\n",
       "      <td>#kplccustomercare  @kenyapower   @KenyaPower_C...</td>\n",
       "      <td>11</td>\n",
       "      <td>9</td>\n",
       "      <td>English</td>\n",
       "    </tr>\n",
       "    <tr>\n",
       "      <th>2586</th>\n",
       "      <td>@Mca_Trickyy</td>\n",
       "      <td>10:30:05</td>\n",
       "      <td>Dear \\n@KenyaPower\\n \\n@KenyaPower_Care\\n same...</td>\n",
       "      <td>1</td>\n",
       "      <td>0</td>\n",
       "      <td>0</td>\n",
       "      <td>Dear  @KenyaPower   @KenyaPower_Care  same 'bl...</td>\n",
       "      <td>1</td>\n",
       "      <td>24</td>\n",
       "      <td>English</td>\n",
       "    </tr>\n",
       "    <tr>\n",
       "      <th>412</th>\n",
       "      <td>@ItsGasheri</td>\n",
       "      <td>14:16:01</td>\n",
       "      <td>Oyaaaaaaa \\n@KenyaPower_Care\\n \\n@KenyaPower\\n...</td>\n",
       "      <td>2</td>\n",
       "      <td>0</td>\n",
       "      <td>0</td>\n",
       "      <td>Oyaaaaaaa  @KenyaPower_Care   @KenyaPower  No ...</td>\n",
       "      <td>11</td>\n",
       "      <td>15</td>\n",
       "      <td>English</td>\n",
       "    </tr>\n",
       "    <tr>\n",
       "      <th>2677</th>\n",
       "      <td>@MichKatami</td>\n",
       "      <td>10:35:18</td>\n",
       "      <td>\"Mwangaza wamlika, nchi ya songa Mbele...\"\\n\\n...</td>\n",
       "      <td>1</td>\n",
       "      <td>0</td>\n",
       "      <td>0</td>\n",
       "      <td>\"Mwangaza wamlika, nchi ya songa Mbele...\"  \"P...</td>\n",
       "      <td>1</td>\n",
       "      <td>10</td>\n",
       "      <td>Swahili</td>\n",
       "    </tr>\n",
       "    <tr>\n",
       "      <th>219</th>\n",
       "      <td>@stevemusilih</td>\n",
       "      <td>10:11:15</td>\n",
       "      <td>Good afternoon \\n@KenyaPower\\n \\n@KenyaPower_C...</td>\n",
       "      <td>1</td>\n",
       "      <td>0</td>\n",
       "      <td>0</td>\n",
       "      <td>Good afternoon  @KenyaPower   @KenyaPower_Care...</td>\n",
       "      <td>12</td>\n",
       "      <td>3</td>\n",
       "      <td>English</td>\n",
       "    </tr>\n",
       "    <tr>\n",
       "      <th>2180</th>\n",
       "      <td>@ihaji_marilu</td>\n",
       "      <td>16:49:03</td>\n",
       "      <td>It's so unfortunate for a busy street like Kee...</td>\n",
       "      <td>0</td>\n",
       "      <td>1</td>\n",
       "      <td>0</td>\n",
       "      <td>It's so unfortunate for a busy street like Kee...</td>\n",
       "      <td>3</td>\n",
       "      <td>11</td>\n",
       "      <td>English</td>\n",
       "    </tr>\n",
       "  </tbody>\n",
       "</table>\n",
       "</div>"
      ],
      "text/plain": [
       "              handle      Time  \\\n",
       "2640  @2FingersKenya  16:38:06   \n",
       "1673    @johnmark254  18:08:30   \n",
       "732       @Birchok_H  18:40:08   \n",
       "267    @AllanKamau12  11:08:40   \n",
       "450   @Mercymunyingi  07:38:51   \n",
       "2586    @Mca_Trickyy  10:30:05   \n",
       "412      @ItsGasheri  14:16:01   \n",
       "2677     @MichKatami  10:35:18   \n",
       "219    @stevemusilih  10:11:15   \n",
       "2180   @ihaji_marilu  16:49:03   \n",
       "\n",
       "                                                  tweet  comments  reshare  \\\n",
       "2640  Hi \\n@KenyaPower\\n \\n@KenyaPower_Care\\n power ...         1        0   \n",
       "1673  #pawasawa  \\n@KenyaPower\\n  \\n@KenyaPower_Care...         1        0   \n",
       "732   Dear \\n@KenyaPower_Care\\n kindly assist with t...         1        0   \n",
       "267   Hello \\n@KenyaPower_Care\\n \\n@KenyaPower\\n  we...         1        0   \n",
       "450   #kplccustomercare \\n@kenyapower\\n \\n@KenyaPowe...         1        1   \n",
       "2586  Dear \\n@KenyaPower\\n \\n@KenyaPower_Care\\n same...         1        0   \n",
       "412   Oyaaaaaaa \\n@KenyaPower_Care\\n \\n@KenyaPower\\n...         2        0   \n",
       "2677  \"Mwangaza wamlika, nchi ya songa Mbele...\"\\n\\n...         1        0   \n",
       "219   Good afternoon \\n@KenyaPower\\n \\n@KenyaPower_C...         1        0   \n",
       "2180  It's so unfortunate for a busy street like Kee...         0        1   \n",
       "\n",
       "      likes                                      tweet_cleaned  Month  Day  \\\n",
       "2640      0  Hi  @KenyaPower   @KenyaPower_Care  power outa...      1   13   \n",
       "1673      0  #pawasawa   @KenyaPower    @KenyaPower_Care   ...      4   30   \n",
       "732       0  Dear  @KenyaPower_Care  kindly assist with tok...     10    3   \n",
       "267       0  Hello  @KenyaPower_Care   @KenyaPower   we exp...     11   29   \n",
       "450       0  #kplccustomercare  @kenyapower   @KenyaPower_C...     11    9   \n",
       "2586      0  Dear  @KenyaPower   @KenyaPower_Care  same 'bl...      1   24   \n",
       "412       0  Oyaaaaaaa  @KenyaPower_Care   @KenyaPower  No ...     11   15   \n",
       "2677      0  \"Mwangaza wamlika, nchi ya songa Mbele...\"  \"P...      1   10   \n",
       "219       0  Good afternoon  @KenyaPower   @KenyaPower_Care...     12    3   \n",
       "2180      0  It's so unfortunate for a busy street like Kee...      3   11   \n",
       "\n",
       "     language  \n",
       "2640  English  \n",
       "1673  English  \n",
       "732   English  \n",
       "267   English  \n",
       "450   English  \n",
       "2586  English  \n",
       "412   English  \n",
       "2677  Swahili  \n",
       "219   English  \n",
       "2180  English  "
      ]
     },
     "execution_count": 50,
     "metadata": {},
     "output_type": "execute_result"
    }
   ],
   "source": [
    "df.sample(10, random_state=7)"
   ]
  },
  {
   "cell_type": "code",
   "execution_count": 66,
   "id": "45fecd7c",
   "metadata": {},
   "outputs": [
    {
     "data": {
      "application/vnd.plotly.v1+json": {
       "config": {
        "plotlyServerURL": "https://plot.ly"
       },
       "data": [
        {
         "alignmentgroup": "True",
         "hovertemplate": "Language=%{x}<br>Number of tweets=%{y}<extra></extra>",
         "legendgroup": "",
         "marker": {
          "color": "#636efa",
          "pattern": {
           "shape": ""
          }
         },
         "name": "",
         "offsetgroup": "",
         "orientation": "v",
         "showlegend": false,
         "textposition": "auto",
         "type": "bar",
         "x": [
          "English",
          "Swahili"
         ],
         "xaxis": "x",
         "y": [
          2646,
          137
         ],
         "yaxis": "y"
        }
       ],
       "layout": {
        "barmode": "relative",
        "legend": {
         "tracegroupgap": 0
        },
        "template": {
         "data": {
          "bar": [
           {
            "error_x": {
             "color": "#2a3f5f"
            },
            "error_y": {
             "color": "#2a3f5f"
            },
            "marker": {
             "line": {
              "color": "#E5ECF6",
              "width": 0.5
             },
             "pattern": {
              "fillmode": "overlay",
              "size": 10,
              "solidity": 0.2
             }
            },
            "type": "bar"
           }
          ],
          "barpolar": [
           {
            "marker": {
             "line": {
              "color": "#E5ECF6",
              "width": 0.5
             },
             "pattern": {
              "fillmode": "overlay",
              "size": 10,
              "solidity": 0.2
             }
            },
            "type": "barpolar"
           }
          ],
          "carpet": [
           {
            "aaxis": {
             "endlinecolor": "#2a3f5f",
             "gridcolor": "white",
             "linecolor": "white",
             "minorgridcolor": "white",
             "startlinecolor": "#2a3f5f"
            },
            "baxis": {
             "endlinecolor": "#2a3f5f",
             "gridcolor": "white",
             "linecolor": "white",
             "minorgridcolor": "white",
             "startlinecolor": "#2a3f5f"
            },
            "type": "carpet"
           }
          ],
          "choropleth": [
           {
            "colorbar": {
             "outlinewidth": 0,
             "ticks": ""
            },
            "type": "choropleth"
           }
          ],
          "contour": [
           {
            "colorbar": {
             "outlinewidth": 0,
             "ticks": ""
            },
            "colorscale": [
             [
              0,
              "#0d0887"
             ],
             [
              0.1111111111111111,
              "#46039f"
             ],
             [
              0.2222222222222222,
              "#7201a8"
             ],
             [
              0.3333333333333333,
              "#9c179e"
             ],
             [
              0.4444444444444444,
              "#bd3786"
             ],
             [
              0.5555555555555556,
              "#d8576b"
             ],
             [
              0.6666666666666666,
              "#ed7953"
             ],
             [
              0.7777777777777778,
              "#fb9f3a"
             ],
             [
              0.8888888888888888,
              "#fdca26"
             ],
             [
              1,
              "#f0f921"
             ]
            ],
            "type": "contour"
           }
          ],
          "contourcarpet": [
           {
            "colorbar": {
             "outlinewidth": 0,
             "ticks": ""
            },
            "type": "contourcarpet"
           }
          ],
          "heatmap": [
           {
            "colorbar": {
             "outlinewidth": 0,
             "ticks": ""
            },
            "colorscale": [
             [
              0,
              "#0d0887"
             ],
             [
              0.1111111111111111,
              "#46039f"
             ],
             [
              0.2222222222222222,
              "#7201a8"
             ],
             [
              0.3333333333333333,
              "#9c179e"
             ],
             [
              0.4444444444444444,
              "#bd3786"
             ],
             [
              0.5555555555555556,
              "#d8576b"
             ],
             [
              0.6666666666666666,
              "#ed7953"
             ],
             [
              0.7777777777777778,
              "#fb9f3a"
             ],
             [
              0.8888888888888888,
              "#fdca26"
             ],
             [
              1,
              "#f0f921"
             ]
            ],
            "type": "heatmap"
           }
          ],
          "heatmapgl": [
           {
            "colorbar": {
             "outlinewidth": 0,
             "ticks": ""
            },
            "colorscale": [
             [
              0,
              "#0d0887"
             ],
             [
              0.1111111111111111,
              "#46039f"
             ],
             [
              0.2222222222222222,
              "#7201a8"
             ],
             [
              0.3333333333333333,
              "#9c179e"
             ],
             [
              0.4444444444444444,
              "#bd3786"
             ],
             [
              0.5555555555555556,
              "#d8576b"
             ],
             [
              0.6666666666666666,
              "#ed7953"
             ],
             [
              0.7777777777777778,
              "#fb9f3a"
             ],
             [
              0.8888888888888888,
              "#fdca26"
             ],
             [
              1,
              "#f0f921"
             ]
            ],
            "type": "heatmapgl"
           }
          ],
          "histogram": [
           {
            "marker": {
             "pattern": {
              "fillmode": "overlay",
              "size": 10,
              "solidity": 0.2
             }
            },
            "type": "histogram"
           }
          ],
          "histogram2d": [
           {
            "colorbar": {
             "outlinewidth": 0,
             "ticks": ""
            },
            "colorscale": [
             [
              0,
              "#0d0887"
             ],
             [
              0.1111111111111111,
              "#46039f"
             ],
             [
              0.2222222222222222,
              "#7201a8"
             ],
             [
              0.3333333333333333,
              "#9c179e"
             ],
             [
              0.4444444444444444,
              "#bd3786"
             ],
             [
              0.5555555555555556,
              "#d8576b"
             ],
             [
              0.6666666666666666,
              "#ed7953"
             ],
             [
              0.7777777777777778,
              "#fb9f3a"
             ],
             [
              0.8888888888888888,
              "#fdca26"
             ],
             [
              1,
              "#f0f921"
             ]
            ],
            "type": "histogram2d"
           }
          ],
          "histogram2dcontour": [
           {
            "colorbar": {
             "outlinewidth": 0,
             "ticks": ""
            },
            "colorscale": [
             [
              0,
              "#0d0887"
             ],
             [
              0.1111111111111111,
              "#46039f"
             ],
             [
              0.2222222222222222,
              "#7201a8"
             ],
             [
              0.3333333333333333,
              "#9c179e"
             ],
             [
              0.4444444444444444,
              "#bd3786"
             ],
             [
              0.5555555555555556,
              "#d8576b"
             ],
             [
              0.6666666666666666,
              "#ed7953"
             ],
             [
              0.7777777777777778,
              "#fb9f3a"
             ],
             [
              0.8888888888888888,
              "#fdca26"
             ],
             [
              1,
              "#f0f921"
             ]
            ],
            "type": "histogram2dcontour"
           }
          ],
          "mesh3d": [
           {
            "colorbar": {
             "outlinewidth": 0,
             "ticks": ""
            },
            "type": "mesh3d"
           }
          ],
          "parcoords": [
           {
            "line": {
             "colorbar": {
              "outlinewidth": 0,
              "ticks": ""
             }
            },
            "type": "parcoords"
           }
          ],
          "pie": [
           {
            "automargin": true,
            "type": "pie"
           }
          ],
          "scatter": [
           {
            "marker": {
             "colorbar": {
              "outlinewidth": 0,
              "ticks": ""
             }
            },
            "type": "scatter"
           }
          ],
          "scatter3d": [
           {
            "line": {
             "colorbar": {
              "outlinewidth": 0,
              "ticks": ""
             }
            },
            "marker": {
             "colorbar": {
              "outlinewidth": 0,
              "ticks": ""
             }
            },
            "type": "scatter3d"
           }
          ],
          "scattercarpet": [
           {
            "marker": {
             "colorbar": {
              "outlinewidth": 0,
              "ticks": ""
             }
            },
            "type": "scattercarpet"
           }
          ],
          "scattergeo": [
           {
            "marker": {
             "colorbar": {
              "outlinewidth": 0,
              "ticks": ""
             }
            },
            "type": "scattergeo"
           }
          ],
          "scattergl": [
           {
            "marker": {
             "colorbar": {
              "outlinewidth": 0,
              "ticks": ""
             }
            },
            "type": "scattergl"
           }
          ],
          "scattermapbox": [
           {
            "marker": {
             "colorbar": {
              "outlinewidth": 0,
              "ticks": ""
             }
            },
            "type": "scattermapbox"
           }
          ],
          "scatterpolar": [
           {
            "marker": {
             "colorbar": {
              "outlinewidth": 0,
              "ticks": ""
             }
            },
            "type": "scatterpolar"
           }
          ],
          "scatterpolargl": [
           {
            "marker": {
             "colorbar": {
              "outlinewidth": 0,
              "ticks": ""
             }
            },
            "type": "scatterpolargl"
           }
          ],
          "scatterternary": [
           {
            "marker": {
             "colorbar": {
              "outlinewidth": 0,
              "ticks": ""
             }
            },
            "type": "scatterternary"
           }
          ],
          "surface": [
           {
            "colorbar": {
             "outlinewidth": 0,
             "ticks": ""
            },
            "colorscale": [
             [
              0,
              "#0d0887"
             ],
             [
              0.1111111111111111,
              "#46039f"
             ],
             [
              0.2222222222222222,
              "#7201a8"
             ],
             [
              0.3333333333333333,
              "#9c179e"
             ],
             [
              0.4444444444444444,
              "#bd3786"
             ],
             [
              0.5555555555555556,
              "#d8576b"
             ],
             [
              0.6666666666666666,
              "#ed7953"
             ],
             [
              0.7777777777777778,
              "#fb9f3a"
             ],
             [
              0.8888888888888888,
              "#fdca26"
             ],
             [
              1,
              "#f0f921"
             ]
            ],
            "type": "surface"
           }
          ],
          "table": [
           {
            "cells": {
             "fill": {
              "color": "#EBF0F8"
             },
             "line": {
              "color": "white"
             }
            },
            "header": {
             "fill": {
              "color": "#C8D4E3"
             },
             "line": {
              "color": "white"
             }
            },
            "type": "table"
           }
          ]
         },
         "layout": {
          "annotationdefaults": {
           "arrowcolor": "#2a3f5f",
           "arrowhead": 0,
           "arrowwidth": 1
          },
          "autotypenumbers": "strict",
          "coloraxis": {
           "colorbar": {
            "outlinewidth": 0,
            "ticks": ""
           }
          },
          "colorscale": {
           "diverging": [
            [
             0,
             "#8e0152"
            ],
            [
             0.1,
             "#c51b7d"
            ],
            [
             0.2,
             "#de77ae"
            ],
            [
             0.3,
             "#f1b6da"
            ],
            [
             0.4,
             "#fde0ef"
            ],
            [
             0.5,
             "#f7f7f7"
            ],
            [
             0.6,
             "#e6f5d0"
            ],
            [
             0.7,
             "#b8e186"
            ],
            [
             0.8,
             "#7fbc41"
            ],
            [
             0.9,
             "#4d9221"
            ],
            [
             1,
             "#276419"
            ]
           ],
           "sequential": [
            [
             0,
             "#0d0887"
            ],
            [
             0.1111111111111111,
             "#46039f"
            ],
            [
             0.2222222222222222,
             "#7201a8"
            ],
            [
             0.3333333333333333,
             "#9c179e"
            ],
            [
             0.4444444444444444,
             "#bd3786"
            ],
            [
             0.5555555555555556,
             "#d8576b"
            ],
            [
             0.6666666666666666,
             "#ed7953"
            ],
            [
             0.7777777777777778,
             "#fb9f3a"
            ],
            [
             0.8888888888888888,
             "#fdca26"
            ],
            [
             1,
             "#f0f921"
            ]
           ],
           "sequentialminus": [
            [
             0,
             "#0d0887"
            ],
            [
             0.1111111111111111,
             "#46039f"
            ],
            [
             0.2222222222222222,
             "#7201a8"
            ],
            [
             0.3333333333333333,
             "#9c179e"
            ],
            [
             0.4444444444444444,
             "#bd3786"
            ],
            [
             0.5555555555555556,
             "#d8576b"
            ],
            [
             0.6666666666666666,
             "#ed7953"
            ],
            [
             0.7777777777777778,
             "#fb9f3a"
            ],
            [
             0.8888888888888888,
             "#fdca26"
            ],
            [
             1,
             "#f0f921"
            ]
           ]
          },
          "colorway": [
           "#636efa",
           "#EF553B",
           "#00cc96",
           "#ab63fa",
           "#FFA15A",
           "#19d3f3",
           "#FF6692",
           "#B6E880",
           "#FF97FF",
           "#FECB52"
          ],
          "font": {
           "color": "#2a3f5f"
          },
          "geo": {
           "bgcolor": "white",
           "lakecolor": "white",
           "landcolor": "#E5ECF6",
           "showlakes": true,
           "showland": true,
           "subunitcolor": "white"
          },
          "hoverlabel": {
           "align": "left"
          },
          "hovermode": "closest",
          "mapbox": {
           "style": "light"
          },
          "paper_bgcolor": "white",
          "plot_bgcolor": "#E5ECF6",
          "polar": {
           "angularaxis": {
            "gridcolor": "white",
            "linecolor": "white",
            "ticks": ""
           },
           "bgcolor": "#E5ECF6",
           "radialaxis": {
            "gridcolor": "white",
            "linecolor": "white",
            "ticks": ""
           }
          },
          "scene": {
           "xaxis": {
            "backgroundcolor": "#E5ECF6",
            "gridcolor": "white",
            "gridwidth": 2,
            "linecolor": "white",
            "showbackground": true,
            "ticks": "",
            "zerolinecolor": "white"
           },
           "yaxis": {
            "backgroundcolor": "#E5ECF6",
            "gridcolor": "white",
            "gridwidth": 2,
            "linecolor": "white",
            "showbackground": true,
            "ticks": "",
            "zerolinecolor": "white"
           },
           "zaxis": {
            "backgroundcolor": "#E5ECF6",
            "gridcolor": "white",
            "gridwidth": 2,
            "linecolor": "white",
            "showbackground": true,
            "ticks": "",
            "zerolinecolor": "white"
           }
          },
          "shapedefaults": {
           "line": {
            "color": "#2a3f5f"
           }
          },
          "ternary": {
           "aaxis": {
            "gridcolor": "white",
            "linecolor": "white",
            "ticks": ""
           },
           "baxis": {
            "gridcolor": "white",
            "linecolor": "white",
            "ticks": ""
           },
           "bgcolor": "#E5ECF6",
           "caxis": {
            "gridcolor": "white",
            "linecolor": "white",
            "ticks": ""
           }
          },
          "title": {
           "x": 0.05
          },
          "xaxis": {
           "automargin": true,
           "gridcolor": "white",
           "linecolor": "white",
           "ticks": "",
           "title": {
            "standoff": 15
           },
           "zerolinecolor": "white",
           "zerolinewidth": 2
          },
          "yaxis": {
           "automargin": true,
           "gridcolor": "white",
           "linecolor": "white",
           "ticks": "",
           "title": {
            "standoff": 15
           },
           "zerolinecolor": "white",
           "zerolinewidth": 2
          }
         }
        },
        "title": {
         "text": "Counts of tweets by language"
        },
        "xaxis": {
         "anchor": "y",
         "domain": [
          0,
          1
         ],
         "title": {
          "text": "Language"
         }
        },
        "yaxis": {
         "anchor": "x",
         "domain": [
          0,
          1
         ],
         "title": {
          "text": "Number of tweets"
         }
        }
       }
      },
      "text/html": [
       "<div>                            <div id=\"2bdd8c4b-2748-4a03-862b-120591cc2e68\" class=\"plotly-graph-div\" style=\"height:525px; width:100%;\"></div>            <script type=\"text/javascript\">                require([\"plotly\"], function(Plotly) {                    window.PLOTLYENV=window.PLOTLYENV || {};                                    if (document.getElementById(\"2bdd8c4b-2748-4a03-862b-120591cc2e68\")) {                    Plotly.newPlot(                        \"2bdd8c4b-2748-4a03-862b-120591cc2e68\",                        [{\"alignmentgroup\":\"True\",\"hovertemplate\":\"Language=%{x}<br>Number of tweets=%{y}<extra></extra>\",\"legendgroup\":\"\",\"marker\":{\"color\":\"#636efa\",\"pattern\":{\"shape\":\"\"}},\"name\":\"\",\"offsetgroup\":\"\",\"orientation\":\"v\",\"showlegend\":false,\"textposition\":\"auto\",\"type\":\"bar\",\"x\":[\"English\",\"Swahili\"],\"xaxis\":\"x\",\"y\":[2646,137],\"yaxis\":\"y\"}],                        {\"barmode\":\"relative\",\"legend\":{\"tracegroupgap\":0},\"template\":{\"data\":{\"bar\":[{\"error_x\":{\"color\":\"#2a3f5f\"},\"error_y\":{\"color\":\"#2a3f5f\"},\"marker\":{\"line\":{\"color\":\"#E5ECF6\",\"width\":0.5},\"pattern\":{\"fillmode\":\"overlay\",\"size\":10,\"solidity\":0.2}},\"type\":\"bar\"}],\"barpolar\":[{\"marker\":{\"line\":{\"color\":\"#E5ECF6\",\"width\":0.5},\"pattern\":{\"fillmode\":\"overlay\",\"size\":10,\"solidity\":0.2}},\"type\":\"barpolar\"}],\"carpet\":[{\"aaxis\":{\"endlinecolor\":\"#2a3f5f\",\"gridcolor\":\"white\",\"linecolor\":\"white\",\"minorgridcolor\":\"white\",\"startlinecolor\":\"#2a3f5f\"},\"baxis\":{\"endlinecolor\":\"#2a3f5f\",\"gridcolor\":\"white\",\"linecolor\":\"white\",\"minorgridcolor\":\"white\",\"startlinecolor\":\"#2a3f5f\"},\"type\":\"carpet\"}],\"choropleth\":[{\"colorbar\":{\"outlinewidth\":0,\"ticks\":\"\"},\"type\":\"choropleth\"}],\"contour\":[{\"colorbar\":{\"outlinewidth\":0,\"ticks\":\"\"},\"colorscale\":[[0.0,\"#0d0887\"],[0.1111111111111111,\"#46039f\"],[0.2222222222222222,\"#7201a8\"],[0.3333333333333333,\"#9c179e\"],[0.4444444444444444,\"#bd3786\"],[0.5555555555555556,\"#d8576b\"],[0.6666666666666666,\"#ed7953\"],[0.7777777777777778,\"#fb9f3a\"],[0.8888888888888888,\"#fdca26\"],[1.0,\"#f0f921\"]],\"type\":\"contour\"}],\"contourcarpet\":[{\"colorbar\":{\"outlinewidth\":0,\"ticks\":\"\"},\"type\":\"contourcarpet\"}],\"heatmap\":[{\"colorbar\":{\"outlinewidth\":0,\"ticks\":\"\"},\"colorscale\":[[0.0,\"#0d0887\"],[0.1111111111111111,\"#46039f\"],[0.2222222222222222,\"#7201a8\"],[0.3333333333333333,\"#9c179e\"],[0.4444444444444444,\"#bd3786\"],[0.5555555555555556,\"#d8576b\"],[0.6666666666666666,\"#ed7953\"],[0.7777777777777778,\"#fb9f3a\"],[0.8888888888888888,\"#fdca26\"],[1.0,\"#f0f921\"]],\"type\":\"heatmap\"}],\"heatmapgl\":[{\"colorbar\":{\"outlinewidth\":0,\"ticks\":\"\"},\"colorscale\":[[0.0,\"#0d0887\"],[0.1111111111111111,\"#46039f\"],[0.2222222222222222,\"#7201a8\"],[0.3333333333333333,\"#9c179e\"],[0.4444444444444444,\"#bd3786\"],[0.5555555555555556,\"#d8576b\"],[0.6666666666666666,\"#ed7953\"],[0.7777777777777778,\"#fb9f3a\"],[0.8888888888888888,\"#fdca26\"],[1.0,\"#f0f921\"]],\"type\":\"heatmapgl\"}],\"histogram\":[{\"marker\":{\"pattern\":{\"fillmode\":\"overlay\",\"size\":10,\"solidity\":0.2}},\"type\":\"histogram\"}],\"histogram2d\":[{\"colorbar\":{\"outlinewidth\":0,\"ticks\":\"\"},\"colorscale\":[[0.0,\"#0d0887\"],[0.1111111111111111,\"#46039f\"],[0.2222222222222222,\"#7201a8\"],[0.3333333333333333,\"#9c179e\"],[0.4444444444444444,\"#bd3786\"],[0.5555555555555556,\"#d8576b\"],[0.6666666666666666,\"#ed7953\"],[0.7777777777777778,\"#fb9f3a\"],[0.8888888888888888,\"#fdca26\"],[1.0,\"#f0f921\"]],\"type\":\"histogram2d\"}],\"histogram2dcontour\":[{\"colorbar\":{\"outlinewidth\":0,\"ticks\":\"\"},\"colorscale\":[[0.0,\"#0d0887\"],[0.1111111111111111,\"#46039f\"],[0.2222222222222222,\"#7201a8\"],[0.3333333333333333,\"#9c179e\"],[0.4444444444444444,\"#bd3786\"],[0.5555555555555556,\"#d8576b\"],[0.6666666666666666,\"#ed7953\"],[0.7777777777777778,\"#fb9f3a\"],[0.8888888888888888,\"#fdca26\"],[1.0,\"#f0f921\"]],\"type\":\"histogram2dcontour\"}],\"mesh3d\":[{\"colorbar\":{\"outlinewidth\":0,\"ticks\":\"\"},\"type\":\"mesh3d\"}],\"parcoords\":[{\"line\":{\"colorbar\":{\"outlinewidth\":0,\"ticks\":\"\"}},\"type\":\"parcoords\"}],\"pie\":[{\"automargin\":true,\"type\":\"pie\"}],\"scatter\":[{\"marker\":{\"colorbar\":{\"outlinewidth\":0,\"ticks\":\"\"}},\"type\":\"scatter\"}],\"scatter3d\":[{\"line\":{\"colorbar\":{\"outlinewidth\":0,\"ticks\":\"\"}},\"marker\":{\"colorbar\":{\"outlinewidth\":0,\"ticks\":\"\"}},\"type\":\"scatter3d\"}],\"scattercarpet\":[{\"marker\":{\"colorbar\":{\"outlinewidth\":0,\"ticks\":\"\"}},\"type\":\"scattercarpet\"}],\"scattergeo\":[{\"marker\":{\"colorbar\":{\"outlinewidth\":0,\"ticks\":\"\"}},\"type\":\"scattergeo\"}],\"scattergl\":[{\"marker\":{\"colorbar\":{\"outlinewidth\":0,\"ticks\":\"\"}},\"type\":\"scattergl\"}],\"scattermapbox\":[{\"marker\":{\"colorbar\":{\"outlinewidth\":0,\"ticks\":\"\"}},\"type\":\"scattermapbox\"}],\"scatterpolar\":[{\"marker\":{\"colorbar\":{\"outlinewidth\":0,\"ticks\":\"\"}},\"type\":\"scatterpolar\"}],\"scatterpolargl\":[{\"marker\":{\"colorbar\":{\"outlinewidth\":0,\"ticks\":\"\"}},\"type\":\"scatterpolargl\"}],\"scatterternary\":[{\"marker\":{\"colorbar\":{\"outlinewidth\":0,\"ticks\":\"\"}},\"type\":\"scatterternary\"}],\"surface\":[{\"colorbar\":{\"outlinewidth\":0,\"ticks\":\"\"},\"colorscale\":[[0.0,\"#0d0887\"],[0.1111111111111111,\"#46039f\"],[0.2222222222222222,\"#7201a8\"],[0.3333333333333333,\"#9c179e\"],[0.4444444444444444,\"#bd3786\"],[0.5555555555555556,\"#d8576b\"],[0.6666666666666666,\"#ed7953\"],[0.7777777777777778,\"#fb9f3a\"],[0.8888888888888888,\"#fdca26\"],[1.0,\"#f0f921\"]],\"type\":\"surface\"}],\"table\":[{\"cells\":{\"fill\":{\"color\":\"#EBF0F8\"},\"line\":{\"color\":\"white\"}},\"header\":{\"fill\":{\"color\":\"#C8D4E3\"},\"line\":{\"color\":\"white\"}},\"type\":\"table\"}]},\"layout\":{\"annotationdefaults\":{\"arrowcolor\":\"#2a3f5f\",\"arrowhead\":0,\"arrowwidth\":1},\"autotypenumbers\":\"strict\",\"coloraxis\":{\"colorbar\":{\"outlinewidth\":0,\"ticks\":\"\"}},\"colorscale\":{\"diverging\":[[0,\"#8e0152\"],[0.1,\"#c51b7d\"],[0.2,\"#de77ae\"],[0.3,\"#f1b6da\"],[0.4,\"#fde0ef\"],[0.5,\"#f7f7f7\"],[0.6,\"#e6f5d0\"],[0.7,\"#b8e186\"],[0.8,\"#7fbc41\"],[0.9,\"#4d9221\"],[1,\"#276419\"]],\"sequential\":[[0.0,\"#0d0887\"],[0.1111111111111111,\"#46039f\"],[0.2222222222222222,\"#7201a8\"],[0.3333333333333333,\"#9c179e\"],[0.4444444444444444,\"#bd3786\"],[0.5555555555555556,\"#d8576b\"],[0.6666666666666666,\"#ed7953\"],[0.7777777777777778,\"#fb9f3a\"],[0.8888888888888888,\"#fdca26\"],[1.0,\"#f0f921\"]],\"sequentialminus\":[[0.0,\"#0d0887\"],[0.1111111111111111,\"#46039f\"],[0.2222222222222222,\"#7201a8\"],[0.3333333333333333,\"#9c179e\"],[0.4444444444444444,\"#bd3786\"],[0.5555555555555556,\"#d8576b\"],[0.6666666666666666,\"#ed7953\"],[0.7777777777777778,\"#fb9f3a\"],[0.8888888888888888,\"#fdca26\"],[1.0,\"#f0f921\"]]},\"colorway\":[\"#636efa\",\"#EF553B\",\"#00cc96\",\"#ab63fa\",\"#FFA15A\",\"#19d3f3\",\"#FF6692\",\"#B6E880\",\"#FF97FF\",\"#FECB52\"],\"font\":{\"color\":\"#2a3f5f\"},\"geo\":{\"bgcolor\":\"white\",\"lakecolor\":\"white\",\"landcolor\":\"#E5ECF6\",\"showlakes\":true,\"showland\":true,\"subunitcolor\":\"white\"},\"hoverlabel\":{\"align\":\"left\"},\"hovermode\":\"closest\",\"mapbox\":{\"style\":\"light\"},\"paper_bgcolor\":\"white\",\"plot_bgcolor\":\"#E5ECF6\",\"polar\":{\"angularaxis\":{\"gridcolor\":\"white\",\"linecolor\":\"white\",\"ticks\":\"\"},\"bgcolor\":\"#E5ECF6\",\"radialaxis\":{\"gridcolor\":\"white\",\"linecolor\":\"white\",\"ticks\":\"\"}},\"scene\":{\"xaxis\":{\"backgroundcolor\":\"#E5ECF6\",\"gridcolor\":\"white\",\"gridwidth\":2,\"linecolor\":\"white\",\"showbackground\":true,\"ticks\":\"\",\"zerolinecolor\":\"white\"},\"yaxis\":{\"backgroundcolor\":\"#E5ECF6\",\"gridcolor\":\"white\",\"gridwidth\":2,\"linecolor\":\"white\",\"showbackground\":true,\"ticks\":\"\",\"zerolinecolor\":\"white\"},\"zaxis\":{\"backgroundcolor\":\"#E5ECF6\",\"gridcolor\":\"white\",\"gridwidth\":2,\"linecolor\":\"white\",\"showbackground\":true,\"ticks\":\"\",\"zerolinecolor\":\"white\"}},\"shapedefaults\":{\"line\":{\"color\":\"#2a3f5f\"}},\"ternary\":{\"aaxis\":{\"gridcolor\":\"white\",\"linecolor\":\"white\",\"ticks\":\"\"},\"baxis\":{\"gridcolor\":\"white\",\"linecolor\":\"white\",\"ticks\":\"\"},\"bgcolor\":\"#E5ECF6\",\"caxis\":{\"gridcolor\":\"white\",\"linecolor\":\"white\",\"ticks\":\"\"}},\"title\":{\"x\":0.05},\"xaxis\":{\"automargin\":true,\"gridcolor\":\"white\",\"linecolor\":\"white\",\"ticks\":\"\",\"title\":{\"standoff\":15},\"zerolinecolor\":\"white\",\"zerolinewidth\":2},\"yaxis\":{\"automargin\":true,\"gridcolor\":\"white\",\"linecolor\":\"white\",\"ticks\":\"\",\"title\":{\"standoff\":15},\"zerolinecolor\":\"white\",\"zerolinewidth\":2}}},\"title\":{\"text\":\"Counts of tweets by language\"},\"xaxis\":{\"anchor\":\"y\",\"domain\":[0.0,1.0],\"title\":{\"text\":\"Language\"}},\"yaxis\":{\"anchor\":\"x\",\"domain\":[0.0,1.0],\"title\":{\"text\":\"Number of tweets\"}}},                        {\"responsive\": true}                    ).then(function(){\n",
       "                            \n",
       "var gd = document.getElementById('2bdd8c4b-2748-4a03-862b-120591cc2e68');\n",
       "var x = new MutationObserver(function (mutations, observer) {{\n",
       "        var display = window.getComputedStyle(gd).display;\n",
       "        if (!display || display === 'none') {{\n",
       "            console.log([gd, 'removed!']);\n",
       "            Plotly.purge(gd);\n",
       "            observer.disconnect();\n",
       "        }}\n",
       "}});\n",
       "\n",
       "// Listen for the removal of the full notebook cells\n",
       "var notebookContainer = gd.closest('#notebook-container');\n",
       "if (notebookContainer) {{\n",
       "    x.observe(notebookContainer, {childList: true});\n",
       "}}\n",
       "\n",
       "// Listen for the clearing of the current output cell\n",
       "var outputEl = gd.closest('.output');\n",
       "if (outputEl) {{\n",
       "    x.observe(outputEl, {childList: true});\n",
       "}}\n",
       "\n",
       "                        })                };                });            </script>        </div>"
      ]
     },
     "metadata": {},
     "output_type": "display_data"
    }
   ],
   "source": [
    "#Lets see the count of kiswahili vs English reviews\n",
    "df['language'].value_counts()\n",
    "\n",
    "fig = px.bar(df, \n",
    "             y=df['language'].value_counts().values, \n",
    "             x=df['language'].value_counts().index,\n",
    "             title = \"Counts of tweets by language\",\n",
    "            labels={\"x\":\"Language\",\"y\":\"Number of tweets\"})\n",
    "fig.show()\n"
   ]
  },
  {
   "cell_type": "code",
   "execution_count": 74,
   "id": "91141d13",
   "metadata": {},
   "outputs": [
    {
     "data": {
      "application/vnd.plotly.v1+json": {
       "config": {
        "plotlyServerURL": "https://plot.ly"
       },
       "data": [
        {
         "alignmentgroup": "True",
         "hovertemplate": "tweetLength=%{y}<extra></extra>",
         "legendgroup": "",
         "marker": {
          "color": "#636efa"
         },
         "name": "",
         "notched": false,
         "offsetgroup": "",
         "orientation": "v",
         "showlegend": false,
         "type": "box",
         "x0": " ",
         "xaxis": "x",
         "y": [
          280,
          281,
          165,
          125,
          276,
          260,
          283,
          241,
          119,
          280,
          100,
          152,
          287,
          275,
          64,
          105,
          131,
          282,
          253,
          287,
          280,
          90,
          152,
          260,
          286,
          255,
          110,
          157,
          94,
          113,
          96,
          282,
          92,
          97,
          119,
          220,
          127,
          158,
          259,
          282,
          34,
          244,
          141,
          281,
          228,
          62,
          269,
          284,
          133,
          69,
          265,
          116,
          106,
          281,
          84,
          160,
          105,
          144,
          111,
          138,
          125,
          74,
          93,
          142,
          205,
          82,
          103,
          194,
          100,
          178,
          78,
          69,
          257,
          178,
          69,
          54,
          50,
          145,
          74,
          83,
          73,
          123,
          115,
          228,
          208,
          263,
          279,
          268,
          235,
          250,
          263,
          192,
          90,
          75,
          141,
          54,
          234,
          143,
          220,
          85,
          154,
          175,
          83,
          100,
          281,
          60,
          273,
          215,
          116,
          200,
          151,
          123,
          84,
          124,
          249,
          54,
          288,
          225,
          126,
          257,
          88,
          125,
          288,
          69,
          143,
          70,
          114,
          264,
          104,
          118,
          128,
          93,
          223,
          100,
          252,
          283,
          172,
          217,
          157,
          166,
          107,
          80,
          216,
          48,
          137,
          140,
          115,
          167,
          63,
          196,
          135,
          156,
          228,
          80,
          217,
          149,
          230,
          79,
          54,
          196,
          220,
          265,
          215,
          215,
          152,
          204,
          221,
          151,
          115,
          189,
          123,
          96,
          146,
          110,
          72,
          183,
          284,
          121,
          151,
          283,
          107,
          206,
          114,
          124,
          121,
          214,
          194,
          170,
          77,
          56,
          283,
          147,
          280,
          283,
          281,
          90,
          275,
          175,
          143,
          156,
          108,
          54,
          183,
          130,
          262,
          71,
          242,
          185,
          124,
          281,
          121,
          226,
          272,
          277,
          285,
          213,
          112,
          175,
          281,
          160,
          153,
          224,
          67,
          112,
          174,
          280,
          281,
          99,
          226,
          214,
          142,
          171,
          58,
          252,
          279,
          238,
          276,
          221,
          178,
          140,
          138,
          214,
          106,
          170,
          83,
          51,
          143,
          181,
          71,
          171,
          171,
          151,
          157,
          110,
          214,
          179,
          280,
          218,
          123,
          261,
          72,
          253,
          265,
          229,
          86,
          148,
          112,
          219,
          150,
          285,
          116,
          179,
          93,
          126,
          151,
          144,
          82,
          189,
          61,
          160,
          230,
          58,
          210,
          99,
          259,
          74,
          104,
          258,
          228,
          278,
          107,
          167,
          61,
          254,
          71,
          267,
          171,
          35,
          269,
          88,
          110,
          150,
          279,
          78,
          190,
          268,
          283,
          221,
          283,
          124,
          109,
          96,
          227,
          174,
          173,
          110,
          195,
          139,
          79,
          205,
          164,
          163,
          55,
          164,
          243,
          70,
          263,
          172,
          148,
          101,
          83,
          209,
          67,
          48,
          125,
          95,
          138,
          197,
          89,
          130,
          126,
          134,
          91,
          93,
          87,
          190,
          190,
          37,
          122,
          217,
          144,
          127,
          92,
          278,
          146,
          108,
          92,
          104,
          143,
          149,
          124,
          102,
          245,
          223,
          166,
          212,
          202,
          176,
          226,
          177,
          254,
          256,
          279,
          43,
          263,
          64,
          161,
          128,
          148,
          232,
          233,
          121,
          67,
          114,
          286,
          63,
          257,
          264,
          160,
          106,
          246,
          99,
          62,
          123,
          98,
          247,
          131,
          151,
          251,
          97,
          115,
          137,
          198,
          94,
          279,
          168,
          74,
          283,
          88,
          62,
          179,
          75,
          64,
          283,
          97,
          199,
          269,
          129,
          233,
          149,
          139,
          230,
          164,
          112,
          219,
          93,
          115,
          152,
          230,
          246,
          157,
          173,
          64,
          126,
          252,
          275,
          257,
          102,
          272,
          102,
          281,
          271,
          110,
          151,
          200,
          187,
          153,
          54,
          119,
          105,
          145,
          86,
          55,
          69,
          77,
          45,
          71,
          110,
          157,
          81,
          189,
          110,
          280,
          118,
          99,
          118,
          153,
          104,
          170,
          268,
          237,
          237,
          152,
          165,
          127,
          110,
          238,
          224,
          72,
          263,
          226,
          201,
          112,
          147,
          180,
          199,
          269,
          190,
          104,
          191,
          146,
          229,
          98,
          246,
          284,
          235,
          210,
          279,
          108,
          125,
          174,
          229,
          282,
          214,
          107,
          169,
          103,
          272,
          101,
          172,
          151,
          243,
          129,
          207,
          128,
          173,
          122,
          151,
          274,
          136,
          80,
          54,
          140,
          52,
          96,
          99,
          206,
          227,
          193,
          108,
          147,
          175,
          126,
          241,
          142,
          129,
          74,
          146,
          282,
          159,
          190,
          273,
          277,
          117,
          242,
          267,
          221,
          232,
          133,
          293,
          271,
          100,
          99,
          79,
          156,
          222,
          105,
          282,
          253,
          99,
          281,
          39,
          75,
          238,
          200,
          122,
          211,
          91,
          190,
          244,
          143,
          185,
          165,
          198,
          144,
          81,
          203,
          281,
          275,
          158,
          195,
          91,
          224,
          93,
          164,
          265,
          226,
          130,
          185,
          227,
          194,
          145,
          127,
          271,
          72,
          95,
          58,
          276,
          142,
          100,
          103,
          149,
          47,
          93,
          157,
          54,
          126,
          147,
          70,
          109,
          284,
          105,
          145,
          156,
          162,
          147,
          271,
          136,
          172,
          257,
          283,
          208,
          72,
          130,
          214,
          210,
          214,
          109,
          130,
          251,
          156,
          157,
          138,
          284,
          251,
          221,
          109,
          64,
          161,
          161,
          196,
          183,
          35,
          106,
          156,
          85,
          79,
          138,
          105,
          183,
          205,
          242,
          47,
          265,
          206,
          184,
          105,
          131,
          122,
          181,
          97,
          206,
          150,
          171,
          124,
          222,
          113,
          203,
          118,
          167,
          172,
          134,
          77,
          119,
          106,
          158,
          183,
          250,
          67,
          55,
          66,
          126,
          232,
          174,
          246,
          138,
          158,
          184,
          87,
          123,
          96,
          281,
          64,
          283,
          97,
          87,
          271,
          97,
          201,
          65,
          250,
          201,
          225,
          153,
          214,
          201,
          109,
          155,
          91,
          106,
          195,
          174,
          126,
          268,
          100,
          77,
          284,
          82,
          93,
          213,
          75,
          105,
          151,
          150,
          141,
          230,
          146,
          87,
          96,
          268,
          79,
          54,
          127,
          135,
          109,
          158,
          146,
          150,
          238,
          123,
          146,
          262,
          80,
          134,
          269,
          99,
          283,
          81,
          190,
          263,
          147,
          238,
          232,
          260,
          211,
          51,
          254,
          212,
          277,
          97,
          188,
          207,
          232,
          167,
          78,
          209,
          66,
          90,
          97,
          126,
          113,
          89,
          243,
          83,
          128,
          95,
          158,
          153,
          156,
          101,
          188,
          275,
          102,
          236,
          283,
          80,
          159,
          60,
          60,
          287,
          196,
          74,
          232,
          238,
          153,
          262,
          67,
          224,
          109,
          75,
          232,
          241,
          192,
          249,
          149,
          93,
          261,
          159,
          271,
          98,
          138,
          175,
          173,
          251,
          112,
          143,
          282,
          194,
          110,
          281,
          65,
          103,
          239,
          286,
          245,
          117,
          113,
          239,
          233,
          167,
          141,
          110,
          202,
          233,
          107,
          74,
          148,
          286,
          126,
          134,
          151,
          99,
          77,
          223,
          189,
          116,
          38,
          227,
          283,
          77,
          63,
          66,
          50,
          142,
          116,
          236,
          56,
          198,
          250,
          151,
          201,
          160,
          284,
          102,
          102,
          115,
          54,
          100,
          286,
          91,
          61,
          185,
          116,
          113,
          117,
          73,
          124,
          276,
          135,
          275,
          226,
          65,
          258,
          65,
          176,
          44,
          200,
          111,
          66,
          120,
          147,
          235,
          233,
          73,
          248,
          217,
          190,
          60,
          159,
          198,
          74,
          165,
          191,
          49,
          257,
          221,
          80,
          152,
          92,
          272,
          164,
          158,
          127,
          154,
          109,
          194,
          94,
          138,
          158,
          152,
          64,
          278,
          105,
          74,
          168,
          159,
          276,
          152,
          246,
          163,
          73,
          295,
          164,
          275,
          272,
          262,
          152,
          158,
          89,
          90,
          236,
          98,
          267,
          256,
          229,
          104,
          72,
          104,
          87,
          284,
          78,
          94,
          103,
          149,
          52,
          135,
          124,
          108,
          158,
          269,
          287,
          184,
          216,
          259,
          156,
          284,
          152,
          158,
          77,
          263,
          277,
          162,
          237,
          125,
          161,
          66,
          195,
          130,
          115,
          87,
          114,
          227,
          177,
          79,
          109,
          122,
          166,
          159,
          107,
          171,
          136,
          101,
          102,
          161,
          107,
          232,
          185,
          50,
          246,
          133,
          169,
          185,
          78,
          225,
          61,
          85,
          82,
          114,
          155,
          181,
          258,
          282,
          69,
          87,
          277,
          109,
          90,
          284,
          169,
          191,
          284,
          256,
          210,
          282,
          183,
          283,
          142,
          138,
          262,
          99,
          159,
          212,
          128,
          67,
          142,
          177,
          120,
          129,
          132,
          86,
          210,
          198,
          191,
          57,
          113,
          133,
          195,
          145,
          227,
          212,
          110,
          207,
          93,
          115,
          132,
          81,
          93,
          217,
          140,
          101,
          216,
          126,
          63,
          119,
          278,
          267,
          74,
          101,
          144,
          204,
          142,
          162,
          202,
          149,
          231,
          73,
          116,
          285,
          84,
          145,
          158,
          209,
          102,
          79,
          244,
          63,
          163,
          180,
          235,
          151,
          142,
          81,
          93,
          118,
          192,
          141,
          81,
          98,
          74,
          110,
          60,
          87,
          76,
          286,
          143,
          83,
          166,
          147,
          100,
          140,
          87,
          249,
          274,
          165,
          174,
          90,
          152,
          161,
          215,
          92,
          246,
          90,
          98,
          103,
          228,
          92,
          130,
          94,
          251,
          114,
          242,
          153,
          184,
          282,
          168,
          194,
          124,
          237,
          106,
          269,
          101,
          45,
          194,
          108,
          122,
          273,
          137,
          109,
          180,
          180,
          181,
          180,
          162,
          187,
          80,
          229,
          108,
          112,
          120,
          141,
          95,
          164,
          116,
          158,
          158,
          108,
          101,
          151,
          157,
          165,
          76,
          261,
          113,
          276,
          261,
          272,
          230,
          132,
          55,
          151,
          164,
          150,
          57,
          74,
          262,
          111,
          139,
          54,
          108,
          288,
          236,
          158,
          281,
          293,
          198,
          163,
          129,
          219,
          150,
          126,
          104,
          150,
          89,
          87,
          224,
          206,
          152,
          189,
          271,
          97,
          85,
          172,
          120,
          103,
          151,
          135,
          155,
          93,
          275,
          140,
          264,
          128,
          172,
          103,
          177,
          183,
          220,
          158,
          254,
          180,
          237,
          170,
          174,
          76,
          79,
          181,
          249,
          150,
          119,
          72,
          225,
          121,
          101,
          212,
          84,
          136,
          186,
          102,
          248,
          278,
          82,
          80,
          93,
          229,
          256,
          88,
          152,
          45,
          97,
          200,
          207,
          279,
          89,
          119,
          283,
          102,
          130,
          128,
          109,
          128,
          246,
          245,
          82,
          195,
          269,
          125,
          76,
          121,
          192,
          44,
          93,
          159,
          148,
          150,
          119,
          165,
          60,
          99,
          197,
          87,
          275,
          180,
          144,
          108,
          60,
          100,
          184,
          259,
          237,
          120,
          124,
          123,
          111,
          84,
          137,
          269,
          54,
          106,
          150,
          165,
          284,
          150,
          282,
          156,
          94,
          191,
          269,
          175,
          106,
          65,
          212,
          211,
          165,
          277,
          282,
          118,
          156,
          150,
          90,
          246,
          116,
          225,
          91,
          78,
          48,
          86,
          121,
          138,
          87,
          192,
          68,
          74,
          150,
          273,
          100,
          119,
          150,
          283,
          97,
          153,
          138,
          191,
          230,
          119,
          148,
          94,
          164,
          146,
          177,
          130,
          260,
          150,
          167,
          119,
          125,
          89,
          82,
          150,
          91,
          259,
          149,
          174,
          89,
          165,
          34,
          150,
          87,
          149,
          148,
          65,
          267,
          181,
          67,
          256,
          78,
          181,
          194,
          80,
          243,
          266,
          104,
          141,
          80,
          227,
          221,
          233,
          151,
          138,
          201,
          283,
          107,
          164,
          280,
          54,
          160,
          109,
          62,
          155,
          164,
          160,
          257,
          183,
          233,
          83,
          151,
          283,
          136,
          137,
          92,
          99,
          87,
          84,
          95,
          191,
          229,
          97,
          181,
          128,
          288,
          181,
          260,
          205,
          181,
          131,
          106,
          127,
          192,
          79,
          92,
          109,
          105,
          83,
          73,
          188,
          207,
          198,
          190,
          246,
          236,
          282,
          168,
          66,
          85,
          76,
          273,
          181,
          63,
          81,
          205,
          141,
          134,
          190,
          181,
          181,
          105,
          134,
          122,
          216,
          196,
          127,
          70,
          66,
          103,
          112,
          212,
          187,
          245,
          146,
          130,
          193,
          137,
          59,
          122,
          137,
          172,
          137,
          212,
          149,
          276,
          130,
          181,
          139,
          222,
          190,
          71,
          128,
          177,
          166,
          67,
          150,
          103,
          283,
          269,
          171,
          207,
          125,
          101,
          109,
          188,
          210,
          232,
          70,
          284,
          91,
          121,
          94,
          284,
          97,
          267,
          217,
          279,
          109,
          244,
          272,
          91,
          167,
          81,
          139,
          92,
          116,
          155,
          113,
          62,
          96,
          164,
          172,
          83,
          152,
          161,
          232,
          286,
          193,
          53,
          146,
          173,
          146,
          177,
          263,
          131,
          106,
          219,
          265,
          114,
          102,
          79,
          231,
          146,
          226,
          91,
          109,
          145,
          95,
          92,
          114,
          130,
          109,
          232,
          225,
          92,
          78,
          97,
          84,
          174,
          68,
          132,
          146,
          116,
          89,
          55,
          93,
          203,
          66,
          152,
          219,
          254,
          139,
          79,
          94,
          146,
          210,
          57,
          94,
          203,
          59,
          267,
          185,
          179,
          117,
          62,
          140,
          277,
          202,
          100,
          243,
          60,
          185,
          95,
          146,
          127,
          57,
          118,
          246,
          212,
          128,
          138,
          79,
          178,
          232,
          75,
          94,
          114,
          220,
          176,
          188,
          113,
          203,
          106,
          273,
          280,
          100,
          277,
          179,
          234,
          49,
          59,
          95,
          225,
          73,
          193,
          179,
          93,
          86,
          171,
          239,
          160,
          259,
          85,
          149,
          147,
          229,
          127,
          128,
          47,
          54,
          108,
          64,
          131,
          148,
          284,
          279,
          177,
          75,
          167,
          142,
          283,
          283,
          85,
          110,
          282,
          222,
          219,
          90,
          54,
          195,
          252,
          262,
          173,
          184,
          256,
          137,
          179,
          216,
          106,
          96,
          204,
          106,
          149,
          131,
          221,
          141,
          144,
          81,
          180,
          233,
          97,
          113,
          130,
          164,
          221,
          273,
          146,
          135,
          148,
          89,
          75,
          153,
          72,
          281,
          56,
          93,
          108,
          201,
          283,
          110,
          192,
          135,
          275,
          111,
          106,
          118,
          253,
          54,
          141,
          142,
          253,
          76,
          282,
          62,
          70,
          86,
          234,
          92,
          221,
          91,
          54,
          168,
          218,
          171,
          81,
          279,
          92,
          128,
          131,
          218,
          101,
          137,
          192,
          208,
          277,
          89,
          212,
          173,
          186,
          183,
          119,
          180,
          171,
          81,
          128,
          54,
          205,
          207,
          130,
          121,
          273,
          122,
          140,
          163,
          146,
          226,
          163,
          180,
          288,
          94,
          273,
          282,
          62,
          93,
          99,
          155,
          248,
          229,
          52,
          253,
          112,
          142,
          236,
          87,
          217,
          165,
          69,
          241,
          131,
          240,
          120,
          180,
          251,
          110,
          96,
          107,
          125,
          147,
          191,
          178,
          67,
          227,
          278,
          147,
          65,
          202,
          233,
          82,
          113,
          111,
          76,
          55,
          279,
          66,
          97,
          102,
          276,
          208,
          106,
          122,
          285,
          105,
          165,
          201,
          114,
          261,
          241,
          268,
          83,
          99,
          221,
          54,
          54,
          117,
          137,
          51,
          94,
          91,
          77,
          117,
          245,
          174,
          162,
          278,
          281,
          281,
          113,
          254,
          110,
          268,
          121,
          164,
          128,
          216,
          217,
          228,
          265,
          145,
          133,
          102,
          128,
          275,
          164,
          60,
          161,
          185,
          104,
          83,
          75,
          106,
          97,
          132,
          155,
          84,
          280,
          135,
          87,
          276,
          151,
          66,
          111,
          186,
          189,
          284,
          128,
          139,
          134,
          265,
          260,
          74,
          106,
          95,
          147,
          171,
          121,
          47,
          188,
          193,
          242,
          111,
          278,
          54,
          114,
          172,
          127,
          75,
          161,
          123,
          49,
          258,
          286,
          207,
          194,
          283,
          284,
          261,
          127,
          150,
          240,
          279,
          182,
          91,
          163,
          155,
          130,
          104,
          164,
          102,
          138,
          290,
          86,
          95,
          132,
          284,
          113,
          185,
          181,
          275,
          141,
          96,
          80,
          54,
          106,
          144,
          205,
          72,
          179,
          223,
          260,
          136,
          103,
          69,
          104,
          89,
          109,
          89,
          94,
          72,
          185,
          298,
          89,
          281,
          119,
          276,
          95,
          260,
          77,
          60,
          168,
          54,
          54,
          227,
          273,
          137,
          163,
          137,
          189,
          196,
          268,
          113,
          243,
          201,
          282,
          91,
          116,
          196,
          121,
          47,
          101,
          95,
          259,
          158,
          115,
          128,
          73,
          235,
          164,
          66,
          196,
          58,
          92,
          234,
          92,
          79,
          101,
          112,
          276,
          72,
          127,
          147,
          175,
          130,
          149,
          148,
          149,
          157,
          117,
          103,
          57,
          166,
          122,
          167,
          71,
          162,
          84,
          195,
          149,
          84,
          81,
          144,
          137,
          116,
          139,
          236,
          130,
          131,
          167,
          227,
          93,
          219,
          136,
          161,
          175,
          161,
          219,
          208,
          86,
          203,
          228,
          215,
          287,
          296,
          201,
          291,
          289,
          292,
          62,
          217,
          83,
          151,
          121,
          148,
          287,
          286,
          163,
          213,
          63,
          279,
          198,
          122,
          168,
          210,
          90,
          255,
          282,
          103,
          252,
          79,
          108,
          107,
          117,
          260,
          135,
          206,
          86,
          276,
          108,
          211,
          120,
          208,
          74,
          148,
          130,
          283,
          108,
          134,
          78,
          282,
          58,
          261,
          161,
          247,
          276,
          278,
          86,
          142,
          125,
          100,
          266,
          122,
          79,
          104,
          283,
          132,
          92,
          154,
          116,
          132,
          132,
          186,
          204,
          185,
          111,
          286,
          168,
          108,
          267,
          159,
          288,
          170,
          107,
          252,
          68,
          220,
          177,
          134,
          252,
          248,
          223,
          254,
          211,
          112,
          100,
          291,
          117,
          163,
          128,
          59,
          109,
          202,
          80,
          200,
          219,
          280,
          163,
          263,
          231,
          109,
          121,
          63,
          216,
          138,
          100,
          241,
          117,
          81,
          140,
          142,
          204,
          122,
          123,
          159,
          156,
          86,
          58,
          133,
          170,
          75,
          195,
          199,
          92,
          77,
          150,
          216,
          95,
          74,
          204,
          123,
          160,
          66,
          125,
          161,
          45,
          40,
          170,
          95,
          103,
          111,
          188,
          262,
          107,
          92,
          195,
          90,
          243,
          243,
          124,
          59,
          124,
          279,
          102,
          149,
          142,
          155,
          78,
          164,
          217,
          219,
          163,
          224,
          66,
          117,
          57,
          172,
          199,
          104,
          54,
          208,
          124,
          59,
          54,
          81,
          99,
          125,
          173,
          218,
          184,
          80,
          61,
          49,
          140,
          70,
          260,
          232,
          76,
          67,
          94,
          183,
          283,
          141,
          84,
          280,
          162,
          87,
          230,
          54,
          175,
          175,
          48,
          158,
          245,
          201,
          162,
          279,
          195,
          101,
          160,
          146,
          152,
          164,
          207,
          74,
          175,
          81,
          249,
          91,
          214,
          141,
          218,
          85,
          54,
          193,
          81,
          122,
          172,
          119,
          180,
          137,
          61,
          244,
          157,
          226,
          164,
          258,
          279,
          71,
          164,
          268,
          141,
          139,
          227,
          163,
          181,
          248,
          282,
          194,
          145,
          70,
          267,
          123,
          132,
          155,
          104,
          172,
          188,
          154,
          104,
          164,
          254,
          169,
          282,
          282,
          272,
          240,
          238,
          156,
          76,
          57,
          262,
          150,
          201,
          129,
          108,
          223,
          124,
          160,
          211,
          272,
          137,
          105,
          261,
          158,
          46,
          103,
          93,
          48,
          235,
          183,
          122,
          115,
          246,
          164,
          215,
          126,
          108,
          183,
          204,
          169,
          104,
          113,
          126,
          183,
          133,
          101,
          213,
          82,
          85,
          107,
          103,
          163,
          114,
          49,
          73,
          209,
          223,
          210,
          101,
          84,
          78,
          282,
          163,
          167,
          92,
          284,
          287,
          190,
          209,
          95,
          275,
          121,
          73,
          268,
          270,
          177,
          66,
          122,
          143,
          106,
          77,
          142,
          151,
          144,
          199,
          54,
          201,
          58,
          133,
          144,
          147,
          111,
          182,
          79,
          194,
          280,
          174,
          207,
          233,
          154,
          138,
          68,
          143,
          163,
          192,
          122,
          126,
          175,
          70,
          128,
          137,
          149,
          113,
          215,
          93,
          111,
          131,
          47,
          96,
          125,
          100,
          99,
          119,
          237,
          95,
          106,
          245,
          97,
          283,
          155,
          168,
          190,
          237,
          72,
          165,
          208,
          108,
          75,
          187,
          54,
          76,
          124,
          185,
          152,
          163,
          64,
          167,
          143,
          77,
          131,
          96,
          97,
          87,
          281,
          184,
          65,
          222,
          182,
          135,
          98,
          131,
          146,
          105,
          145,
          180,
          167,
          65,
          108,
          54,
          47,
          284,
          243,
          278,
          83,
          211,
          260,
          250,
          100,
          73,
          194,
          241,
          236,
          88,
          271,
          138,
          130,
          199,
          126,
          187,
          253,
          105,
          113,
          101,
          51,
          147,
          99,
          250,
          114,
          271,
          105,
          94,
          60,
          281,
          285,
          104,
          103,
          247,
          254,
          82,
          186,
          37,
          132,
          203,
          163,
          95,
          83,
          105,
          171,
          215,
          281,
          153,
          87,
          181,
          202,
          204,
          56,
          96,
          244,
          129,
          83,
          65,
          159,
          163,
          277,
          103,
          191,
          161,
          276,
          145,
          161,
          96,
          66,
          86,
          82,
          98,
          250,
          233,
          210,
          82,
          93,
          224,
          124,
          93,
          246,
          76,
          105,
          212,
          153,
          281,
          156,
          201,
          79,
          68,
          221,
          150,
          89,
          81,
          163,
          282,
          134,
          258,
          216,
          159,
          90,
          112,
          278,
          94,
          137,
          95,
          287,
          165,
          282,
          127,
          274,
          288,
          287,
          87,
          106,
          130,
          169,
          110,
          92,
          155,
          263,
          142,
          65,
          101,
          63,
          125,
          164,
          88,
          151,
          201,
          257,
          264,
          196,
          287,
          74,
          178,
          65,
          147,
          179,
          123,
          118,
          122,
          136,
          136,
          288,
          163,
          124,
          219,
          120,
          180,
          101,
          183,
          172,
          160,
          260,
          246,
          121,
          288,
          146,
          132,
          70,
          136,
          169,
          64,
          93,
          111,
          213,
          87,
          108,
          72,
          258,
          142,
          227,
          149,
          174,
          138,
          216,
          192,
          109,
          265,
          100,
          159,
          280,
          229,
          103,
          105,
          170,
          122,
          249,
          114,
          96,
          55,
          220,
          172,
          131,
          108,
          91,
          95,
          75,
          84,
          254,
          82,
          157,
          126,
          106,
          122,
          63,
          82,
          91,
          262,
          113,
          111,
          78,
          81,
          94,
          202,
          62,
          213,
          113,
          133,
          131,
          195,
          195,
          77,
          187,
          279,
          189,
          48,
          68,
          262,
          265,
          100,
          109,
          222,
          241,
          84,
          126,
          153,
          160,
          264,
          75,
          204,
          84,
          56,
          168,
          175,
          87,
          71,
          121,
          177,
          212,
          193,
          58,
          272,
          275,
          193,
          247,
          184,
          120,
          177,
          252,
          81,
          139,
          136,
          93,
          262,
          208,
          144,
          172,
          102,
          215,
          108,
          107,
          126,
          156,
          105,
          148,
          80,
          152,
          219,
          105,
          142,
          273,
          114,
          105,
          207,
          103,
          196
         ],
         "y0": " ",
         "yaxis": "y"
        }
       ],
       "layout": {
        "boxmode": "group",
        "legend": {
         "tracegroupgap": 0
        },
        "template": {
         "data": {
          "bar": [
           {
            "error_x": {
             "color": "#2a3f5f"
            },
            "error_y": {
             "color": "#2a3f5f"
            },
            "marker": {
             "line": {
              "color": "#E5ECF6",
              "width": 0.5
             },
             "pattern": {
              "fillmode": "overlay",
              "size": 10,
              "solidity": 0.2
             }
            },
            "type": "bar"
           }
          ],
          "barpolar": [
           {
            "marker": {
             "line": {
              "color": "#E5ECF6",
              "width": 0.5
             },
             "pattern": {
              "fillmode": "overlay",
              "size": 10,
              "solidity": 0.2
             }
            },
            "type": "barpolar"
           }
          ],
          "carpet": [
           {
            "aaxis": {
             "endlinecolor": "#2a3f5f",
             "gridcolor": "white",
             "linecolor": "white",
             "minorgridcolor": "white",
             "startlinecolor": "#2a3f5f"
            },
            "baxis": {
             "endlinecolor": "#2a3f5f",
             "gridcolor": "white",
             "linecolor": "white",
             "minorgridcolor": "white",
             "startlinecolor": "#2a3f5f"
            },
            "type": "carpet"
           }
          ],
          "choropleth": [
           {
            "colorbar": {
             "outlinewidth": 0,
             "ticks": ""
            },
            "type": "choropleth"
           }
          ],
          "contour": [
           {
            "colorbar": {
             "outlinewidth": 0,
             "ticks": ""
            },
            "colorscale": [
             [
              0,
              "#0d0887"
             ],
             [
              0.1111111111111111,
              "#46039f"
             ],
             [
              0.2222222222222222,
              "#7201a8"
             ],
             [
              0.3333333333333333,
              "#9c179e"
             ],
             [
              0.4444444444444444,
              "#bd3786"
             ],
             [
              0.5555555555555556,
              "#d8576b"
             ],
             [
              0.6666666666666666,
              "#ed7953"
             ],
             [
              0.7777777777777778,
              "#fb9f3a"
             ],
             [
              0.8888888888888888,
              "#fdca26"
             ],
             [
              1,
              "#f0f921"
             ]
            ],
            "type": "contour"
           }
          ],
          "contourcarpet": [
           {
            "colorbar": {
             "outlinewidth": 0,
             "ticks": ""
            },
            "type": "contourcarpet"
           }
          ],
          "heatmap": [
           {
            "colorbar": {
             "outlinewidth": 0,
             "ticks": ""
            },
            "colorscale": [
             [
              0,
              "#0d0887"
             ],
             [
              0.1111111111111111,
              "#46039f"
             ],
             [
              0.2222222222222222,
              "#7201a8"
             ],
             [
              0.3333333333333333,
              "#9c179e"
             ],
             [
              0.4444444444444444,
              "#bd3786"
             ],
             [
              0.5555555555555556,
              "#d8576b"
             ],
             [
              0.6666666666666666,
              "#ed7953"
             ],
             [
              0.7777777777777778,
              "#fb9f3a"
             ],
             [
              0.8888888888888888,
              "#fdca26"
             ],
             [
              1,
              "#f0f921"
             ]
            ],
            "type": "heatmap"
           }
          ],
          "heatmapgl": [
           {
            "colorbar": {
             "outlinewidth": 0,
             "ticks": ""
            },
            "colorscale": [
             [
              0,
              "#0d0887"
             ],
             [
              0.1111111111111111,
              "#46039f"
             ],
             [
              0.2222222222222222,
              "#7201a8"
             ],
             [
              0.3333333333333333,
              "#9c179e"
             ],
             [
              0.4444444444444444,
              "#bd3786"
             ],
             [
              0.5555555555555556,
              "#d8576b"
             ],
             [
              0.6666666666666666,
              "#ed7953"
             ],
             [
              0.7777777777777778,
              "#fb9f3a"
             ],
             [
              0.8888888888888888,
              "#fdca26"
             ],
             [
              1,
              "#f0f921"
             ]
            ],
            "type": "heatmapgl"
           }
          ],
          "histogram": [
           {
            "marker": {
             "pattern": {
              "fillmode": "overlay",
              "size": 10,
              "solidity": 0.2
             }
            },
            "type": "histogram"
           }
          ],
          "histogram2d": [
           {
            "colorbar": {
             "outlinewidth": 0,
             "ticks": ""
            },
            "colorscale": [
             [
              0,
              "#0d0887"
             ],
             [
              0.1111111111111111,
              "#46039f"
             ],
             [
              0.2222222222222222,
              "#7201a8"
             ],
             [
              0.3333333333333333,
              "#9c179e"
             ],
             [
              0.4444444444444444,
              "#bd3786"
             ],
             [
              0.5555555555555556,
              "#d8576b"
             ],
             [
              0.6666666666666666,
              "#ed7953"
             ],
             [
              0.7777777777777778,
              "#fb9f3a"
             ],
             [
              0.8888888888888888,
              "#fdca26"
             ],
             [
              1,
              "#f0f921"
             ]
            ],
            "type": "histogram2d"
           }
          ],
          "histogram2dcontour": [
           {
            "colorbar": {
             "outlinewidth": 0,
             "ticks": ""
            },
            "colorscale": [
             [
              0,
              "#0d0887"
             ],
             [
              0.1111111111111111,
              "#46039f"
             ],
             [
              0.2222222222222222,
              "#7201a8"
             ],
             [
              0.3333333333333333,
              "#9c179e"
             ],
             [
              0.4444444444444444,
              "#bd3786"
             ],
             [
              0.5555555555555556,
              "#d8576b"
             ],
             [
              0.6666666666666666,
              "#ed7953"
             ],
             [
              0.7777777777777778,
              "#fb9f3a"
             ],
             [
              0.8888888888888888,
              "#fdca26"
             ],
             [
              1,
              "#f0f921"
             ]
            ],
            "type": "histogram2dcontour"
           }
          ],
          "mesh3d": [
           {
            "colorbar": {
             "outlinewidth": 0,
             "ticks": ""
            },
            "type": "mesh3d"
           }
          ],
          "parcoords": [
           {
            "line": {
             "colorbar": {
              "outlinewidth": 0,
              "ticks": ""
             }
            },
            "type": "parcoords"
           }
          ],
          "pie": [
           {
            "automargin": true,
            "type": "pie"
           }
          ],
          "scatter": [
           {
            "marker": {
             "colorbar": {
              "outlinewidth": 0,
              "ticks": ""
             }
            },
            "type": "scatter"
           }
          ],
          "scatter3d": [
           {
            "line": {
             "colorbar": {
              "outlinewidth": 0,
              "ticks": ""
             }
            },
            "marker": {
             "colorbar": {
              "outlinewidth": 0,
              "ticks": ""
             }
            },
            "type": "scatter3d"
           }
          ],
          "scattercarpet": [
           {
            "marker": {
             "colorbar": {
              "outlinewidth": 0,
              "ticks": ""
             }
            },
            "type": "scattercarpet"
           }
          ],
          "scattergeo": [
           {
            "marker": {
             "colorbar": {
              "outlinewidth": 0,
              "ticks": ""
             }
            },
            "type": "scattergeo"
           }
          ],
          "scattergl": [
           {
            "marker": {
             "colorbar": {
              "outlinewidth": 0,
              "ticks": ""
             }
            },
            "type": "scattergl"
           }
          ],
          "scattermapbox": [
           {
            "marker": {
             "colorbar": {
              "outlinewidth": 0,
              "ticks": ""
             }
            },
            "type": "scattermapbox"
           }
          ],
          "scatterpolar": [
           {
            "marker": {
             "colorbar": {
              "outlinewidth": 0,
              "ticks": ""
             }
            },
            "type": "scatterpolar"
           }
          ],
          "scatterpolargl": [
           {
            "marker": {
             "colorbar": {
              "outlinewidth": 0,
              "ticks": ""
             }
            },
            "type": "scatterpolargl"
           }
          ],
          "scatterternary": [
           {
            "marker": {
             "colorbar": {
              "outlinewidth": 0,
              "ticks": ""
             }
            },
            "type": "scatterternary"
           }
          ],
          "surface": [
           {
            "colorbar": {
             "outlinewidth": 0,
             "ticks": ""
            },
            "colorscale": [
             [
              0,
              "#0d0887"
             ],
             [
              0.1111111111111111,
              "#46039f"
             ],
             [
              0.2222222222222222,
              "#7201a8"
             ],
             [
              0.3333333333333333,
              "#9c179e"
             ],
             [
              0.4444444444444444,
              "#bd3786"
             ],
             [
              0.5555555555555556,
              "#d8576b"
             ],
             [
              0.6666666666666666,
              "#ed7953"
             ],
             [
              0.7777777777777778,
              "#fb9f3a"
             ],
             [
              0.8888888888888888,
              "#fdca26"
             ],
             [
              1,
              "#f0f921"
             ]
            ],
            "type": "surface"
           }
          ],
          "table": [
           {
            "cells": {
             "fill": {
              "color": "#EBF0F8"
             },
             "line": {
              "color": "white"
             }
            },
            "header": {
             "fill": {
              "color": "#C8D4E3"
             },
             "line": {
              "color": "white"
             }
            },
            "type": "table"
           }
          ]
         },
         "layout": {
          "annotationdefaults": {
           "arrowcolor": "#2a3f5f",
           "arrowhead": 0,
           "arrowwidth": 1
          },
          "autotypenumbers": "strict",
          "coloraxis": {
           "colorbar": {
            "outlinewidth": 0,
            "ticks": ""
           }
          },
          "colorscale": {
           "diverging": [
            [
             0,
             "#8e0152"
            ],
            [
             0.1,
             "#c51b7d"
            ],
            [
             0.2,
             "#de77ae"
            ],
            [
             0.3,
             "#f1b6da"
            ],
            [
             0.4,
             "#fde0ef"
            ],
            [
             0.5,
             "#f7f7f7"
            ],
            [
             0.6,
             "#e6f5d0"
            ],
            [
             0.7,
             "#b8e186"
            ],
            [
             0.8,
             "#7fbc41"
            ],
            [
             0.9,
             "#4d9221"
            ],
            [
             1,
             "#276419"
            ]
           ],
           "sequential": [
            [
             0,
             "#0d0887"
            ],
            [
             0.1111111111111111,
             "#46039f"
            ],
            [
             0.2222222222222222,
             "#7201a8"
            ],
            [
             0.3333333333333333,
             "#9c179e"
            ],
            [
             0.4444444444444444,
             "#bd3786"
            ],
            [
             0.5555555555555556,
             "#d8576b"
            ],
            [
             0.6666666666666666,
             "#ed7953"
            ],
            [
             0.7777777777777778,
             "#fb9f3a"
            ],
            [
             0.8888888888888888,
             "#fdca26"
            ],
            [
             1,
             "#f0f921"
            ]
           ],
           "sequentialminus": [
            [
             0,
             "#0d0887"
            ],
            [
             0.1111111111111111,
             "#46039f"
            ],
            [
             0.2222222222222222,
             "#7201a8"
            ],
            [
             0.3333333333333333,
             "#9c179e"
            ],
            [
             0.4444444444444444,
             "#bd3786"
            ],
            [
             0.5555555555555556,
             "#d8576b"
            ],
            [
             0.6666666666666666,
             "#ed7953"
            ],
            [
             0.7777777777777778,
             "#fb9f3a"
            ],
            [
             0.8888888888888888,
             "#fdca26"
            ],
            [
             1,
             "#f0f921"
            ]
           ]
          },
          "colorway": [
           "#636efa",
           "#EF553B",
           "#00cc96",
           "#ab63fa",
           "#FFA15A",
           "#19d3f3",
           "#FF6692",
           "#B6E880",
           "#FF97FF",
           "#FECB52"
          ],
          "font": {
           "color": "#2a3f5f"
          },
          "geo": {
           "bgcolor": "white",
           "lakecolor": "white",
           "landcolor": "#E5ECF6",
           "showlakes": true,
           "showland": true,
           "subunitcolor": "white"
          },
          "hoverlabel": {
           "align": "left"
          },
          "hovermode": "closest",
          "mapbox": {
           "style": "light"
          },
          "paper_bgcolor": "white",
          "plot_bgcolor": "#E5ECF6",
          "polar": {
           "angularaxis": {
            "gridcolor": "white",
            "linecolor": "white",
            "ticks": ""
           },
           "bgcolor": "#E5ECF6",
           "radialaxis": {
            "gridcolor": "white",
            "linecolor": "white",
            "ticks": ""
           }
          },
          "scene": {
           "xaxis": {
            "backgroundcolor": "#E5ECF6",
            "gridcolor": "white",
            "gridwidth": 2,
            "linecolor": "white",
            "showbackground": true,
            "ticks": "",
            "zerolinecolor": "white"
           },
           "yaxis": {
            "backgroundcolor": "#E5ECF6",
            "gridcolor": "white",
            "gridwidth": 2,
            "linecolor": "white",
            "showbackground": true,
            "ticks": "",
            "zerolinecolor": "white"
           },
           "zaxis": {
            "backgroundcolor": "#E5ECF6",
            "gridcolor": "white",
            "gridwidth": 2,
            "linecolor": "white",
            "showbackground": true,
            "ticks": "",
            "zerolinecolor": "white"
           }
          },
          "shapedefaults": {
           "line": {
            "color": "#2a3f5f"
           }
          },
          "ternary": {
           "aaxis": {
            "gridcolor": "white",
            "linecolor": "white",
            "ticks": ""
           },
           "baxis": {
            "gridcolor": "white",
            "linecolor": "white",
            "ticks": ""
           },
           "bgcolor": "#E5ECF6",
           "caxis": {
            "gridcolor": "white",
            "linecolor": "white",
            "ticks": ""
           }
          },
          "title": {
           "x": 0.05
          },
          "xaxis": {
           "automargin": true,
           "gridcolor": "white",
           "linecolor": "white",
           "ticks": "",
           "title": {
            "standoff": 15
           },
           "zerolinecolor": "white",
           "zerolinewidth": 2
          },
          "yaxis": {
           "automargin": true,
           "gridcolor": "white",
           "linecolor": "white",
           "ticks": "",
           "title": {
            "standoff": 15
           },
           "zerolinecolor": "white",
           "zerolinewidth": 2
          }
         }
        },
        "title": {
         "text": "Average tweet length"
        },
        "xaxis": {
         "anchor": "y",
         "domain": [
          0,
          1
         ]
        },
        "yaxis": {
         "anchor": "x",
         "domain": [
          0,
          1
         ],
         "title": {
          "text": "tweetLength"
         }
        }
       }
      },
      "text/html": [
       "<div>                            <div id=\"c5a893a9-4506-443e-972d-e062141d2b99\" class=\"plotly-graph-div\" style=\"height:525px; width:100%;\"></div>            <script type=\"text/javascript\">                require([\"plotly\"], function(Plotly) {                    window.PLOTLYENV=window.PLOTLYENV || {};                                    if (document.getElementById(\"c5a893a9-4506-443e-972d-e062141d2b99\")) {                    Plotly.newPlot(                        \"c5a893a9-4506-443e-972d-e062141d2b99\",                        [{\"alignmentgroup\":\"True\",\"hovertemplate\":\"tweetLength=%{y}<extra></extra>\",\"legendgroup\":\"\",\"marker\":{\"color\":\"#636efa\"},\"name\":\"\",\"notched\":false,\"offsetgroup\":\"\",\"orientation\":\"v\",\"showlegend\":false,\"type\":\"box\",\"x0\":\" \",\"xaxis\":\"x\",\"y\":[280,281,165,125,276,260,283,241,119,280,100,152,287,275,64,105,131,282,253,287,280,90,152,260,286,255,110,157,94,113,96,282,92,97,119,220,127,158,259,282,34,244,141,281,228,62,269,284,133,69,265,116,106,281,84,160,105,144,111,138,125,74,93,142,205,82,103,194,100,178,78,69,257,178,69,54,50,145,74,83,73,123,115,228,208,263,279,268,235,250,263,192,90,75,141,54,234,143,220,85,154,175,83,100,281,60,273,215,116,200,151,123,84,124,249,54,288,225,126,257,88,125,288,69,143,70,114,264,104,118,128,93,223,100,252,283,172,217,157,166,107,80,216,48,137,140,115,167,63,196,135,156,228,80,217,149,230,79,54,196,220,265,215,215,152,204,221,151,115,189,123,96,146,110,72,183,284,121,151,283,107,206,114,124,121,214,194,170,77,56,283,147,280,283,281,90,275,175,143,156,108,54,183,130,262,71,242,185,124,281,121,226,272,277,285,213,112,175,281,160,153,224,67,112,174,280,281,99,226,214,142,171,58,252,279,238,276,221,178,140,138,214,106,170,83,51,143,181,71,171,171,151,157,110,214,179,280,218,123,261,72,253,265,229,86,148,112,219,150,285,116,179,93,126,151,144,82,189,61,160,230,58,210,99,259,74,104,258,228,278,107,167,61,254,71,267,171,35,269,88,110,150,279,78,190,268,283,221,283,124,109,96,227,174,173,110,195,139,79,205,164,163,55,164,243,70,263,172,148,101,83,209,67,48,125,95,138,197,89,130,126,134,91,93,87,190,190,37,122,217,144,127,92,278,146,108,92,104,143,149,124,102,245,223,166,212,202,176,226,177,254,256,279,43,263,64,161,128,148,232,233,121,67,114,286,63,257,264,160,106,246,99,62,123,98,247,131,151,251,97,115,137,198,94,279,168,74,283,88,62,179,75,64,283,97,199,269,129,233,149,139,230,164,112,219,93,115,152,230,246,157,173,64,126,252,275,257,102,272,102,281,271,110,151,200,187,153,54,119,105,145,86,55,69,77,45,71,110,157,81,189,110,280,118,99,118,153,104,170,268,237,237,152,165,127,110,238,224,72,263,226,201,112,147,180,199,269,190,104,191,146,229,98,246,284,235,210,279,108,125,174,229,282,214,107,169,103,272,101,172,151,243,129,207,128,173,122,151,274,136,80,54,140,52,96,99,206,227,193,108,147,175,126,241,142,129,74,146,282,159,190,273,277,117,242,267,221,232,133,293,271,100,99,79,156,222,105,282,253,99,281,39,75,238,200,122,211,91,190,244,143,185,165,198,144,81,203,281,275,158,195,91,224,93,164,265,226,130,185,227,194,145,127,271,72,95,58,276,142,100,103,149,47,93,157,54,126,147,70,109,284,105,145,156,162,147,271,136,172,257,283,208,72,130,214,210,214,109,130,251,156,157,138,284,251,221,109,64,161,161,196,183,35,106,156,85,79,138,105,183,205,242,47,265,206,184,105,131,122,181,97,206,150,171,124,222,113,203,118,167,172,134,77,119,106,158,183,250,67,55,66,126,232,174,246,138,158,184,87,123,96,281,64,283,97,87,271,97,201,65,250,201,225,153,214,201,109,155,91,106,195,174,126,268,100,77,284,82,93,213,75,105,151,150,141,230,146,87,96,268,79,54,127,135,109,158,146,150,238,123,146,262,80,134,269,99,283,81,190,263,147,238,232,260,211,51,254,212,277,97,188,207,232,167,78,209,66,90,97,126,113,89,243,83,128,95,158,153,156,101,188,275,102,236,283,80,159,60,60,287,196,74,232,238,153,262,67,224,109,75,232,241,192,249,149,93,261,159,271,98,138,175,173,251,112,143,282,194,110,281,65,103,239,286,245,117,113,239,233,167,141,110,202,233,107,74,148,286,126,134,151,99,77,223,189,116,38,227,283,77,63,66,50,142,116,236,56,198,250,151,201,160,284,102,102,115,54,100,286,91,61,185,116,113,117,73,124,276,135,275,226,65,258,65,176,44,200,111,66,120,147,235,233,73,248,217,190,60,159,198,74,165,191,49,257,221,80,152,92,272,164,158,127,154,109,194,94,138,158,152,64,278,105,74,168,159,276,152,246,163,73,295,164,275,272,262,152,158,89,90,236,98,267,256,229,104,72,104,87,284,78,94,103,149,52,135,124,108,158,269,287,184,216,259,156,284,152,158,77,263,277,162,237,125,161,66,195,130,115,87,114,227,177,79,109,122,166,159,107,171,136,101,102,161,107,232,185,50,246,133,169,185,78,225,61,85,82,114,155,181,258,282,69,87,277,109,90,284,169,191,284,256,210,282,183,283,142,138,262,99,159,212,128,67,142,177,120,129,132,86,210,198,191,57,113,133,195,145,227,212,110,207,93,115,132,81,93,217,140,101,216,126,63,119,278,267,74,101,144,204,142,162,202,149,231,73,116,285,84,145,158,209,102,79,244,63,163,180,235,151,142,81,93,118,192,141,81,98,74,110,60,87,76,286,143,83,166,147,100,140,87,249,274,165,174,90,152,161,215,92,246,90,98,103,228,92,130,94,251,114,242,153,184,282,168,194,124,237,106,269,101,45,194,108,122,273,137,109,180,180,181,180,162,187,80,229,108,112,120,141,95,164,116,158,158,108,101,151,157,165,76,261,113,276,261,272,230,132,55,151,164,150,57,74,262,111,139,54,108,288,236,158,281,293,198,163,129,219,150,126,104,150,89,87,224,206,152,189,271,97,85,172,120,103,151,135,155,93,275,140,264,128,172,103,177,183,220,158,254,180,237,170,174,76,79,181,249,150,119,72,225,121,101,212,84,136,186,102,248,278,82,80,93,229,256,88,152,45,97,200,207,279,89,119,283,102,130,128,109,128,246,245,82,195,269,125,76,121,192,44,93,159,148,150,119,165,60,99,197,87,275,180,144,108,60,100,184,259,237,120,124,123,111,84,137,269,54,106,150,165,284,150,282,156,94,191,269,175,106,65,212,211,165,277,282,118,156,150,90,246,116,225,91,78,48,86,121,138,87,192,68,74,150,273,100,119,150,283,97,153,138,191,230,119,148,94,164,146,177,130,260,150,167,119,125,89,82,150,91,259,149,174,89,165,34,150,87,149,148,65,267,181,67,256,78,181,194,80,243,266,104,141,80,227,221,233,151,138,201,283,107,164,280,54,160,109,62,155,164,160,257,183,233,83,151,283,136,137,92,99,87,84,95,191,229,97,181,128,288,181,260,205,181,131,106,127,192,79,92,109,105,83,73,188,207,198,190,246,236,282,168,66,85,76,273,181,63,81,205,141,134,190,181,181,105,134,122,216,196,127,70,66,103,112,212,187,245,146,130,193,137,59,122,137,172,137,212,149,276,130,181,139,222,190,71,128,177,166,67,150,103,283,269,171,207,125,101,109,188,210,232,70,284,91,121,94,284,97,267,217,279,109,244,272,91,167,81,139,92,116,155,113,62,96,164,172,83,152,161,232,286,193,53,146,173,146,177,263,131,106,219,265,114,102,79,231,146,226,91,109,145,95,92,114,130,109,232,225,92,78,97,84,174,68,132,146,116,89,55,93,203,66,152,219,254,139,79,94,146,210,57,94,203,59,267,185,179,117,62,140,277,202,100,243,60,185,95,146,127,57,118,246,212,128,138,79,178,232,75,94,114,220,176,188,113,203,106,273,280,100,277,179,234,49,59,95,225,73,193,179,93,86,171,239,160,259,85,149,147,229,127,128,47,54,108,64,131,148,284,279,177,75,167,142,283,283,85,110,282,222,219,90,54,195,252,262,173,184,256,137,179,216,106,96,204,106,149,131,221,141,144,81,180,233,97,113,130,164,221,273,146,135,148,89,75,153,72,281,56,93,108,201,283,110,192,135,275,111,106,118,253,54,141,142,253,76,282,62,70,86,234,92,221,91,54,168,218,171,81,279,92,128,131,218,101,137,192,208,277,89,212,173,186,183,119,180,171,81,128,54,205,207,130,121,273,122,140,163,146,226,163,180,288,94,273,282,62,93,99,155,248,229,52,253,112,142,236,87,217,165,69,241,131,240,120,180,251,110,96,107,125,147,191,178,67,227,278,147,65,202,233,82,113,111,76,55,279,66,97,102,276,208,106,122,285,105,165,201,114,261,241,268,83,99,221,54,54,117,137,51,94,91,77,117,245,174,162,278,281,281,113,254,110,268,121,164,128,216,217,228,265,145,133,102,128,275,164,60,161,185,104,83,75,106,97,132,155,84,280,135,87,276,151,66,111,186,189,284,128,139,134,265,260,74,106,95,147,171,121,47,188,193,242,111,278,54,114,172,127,75,161,123,49,258,286,207,194,283,284,261,127,150,240,279,182,91,163,155,130,104,164,102,138,290,86,95,132,284,113,185,181,275,141,96,80,54,106,144,205,72,179,223,260,136,103,69,104,89,109,89,94,72,185,298,89,281,119,276,95,260,77,60,168,54,54,227,273,137,163,137,189,196,268,113,243,201,282,91,116,196,121,47,101,95,259,158,115,128,73,235,164,66,196,58,92,234,92,79,101,112,276,72,127,147,175,130,149,148,149,157,117,103,57,166,122,167,71,162,84,195,149,84,81,144,137,116,139,236,130,131,167,227,93,219,136,161,175,161,219,208,86,203,228,215,287,296,201,291,289,292,62,217,83,151,121,148,287,286,163,213,63,279,198,122,168,210,90,255,282,103,252,79,108,107,117,260,135,206,86,276,108,211,120,208,74,148,130,283,108,134,78,282,58,261,161,247,276,278,86,142,125,100,266,122,79,104,283,132,92,154,116,132,132,186,204,185,111,286,168,108,267,159,288,170,107,252,68,220,177,134,252,248,223,254,211,112,100,291,117,163,128,59,109,202,80,200,219,280,163,263,231,109,121,63,216,138,100,241,117,81,140,142,204,122,123,159,156,86,58,133,170,75,195,199,92,77,150,216,95,74,204,123,160,66,125,161,45,40,170,95,103,111,188,262,107,92,195,90,243,243,124,59,124,279,102,149,142,155,78,164,217,219,163,224,66,117,57,172,199,104,54,208,124,59,54,81,99,125,173,218,184,80,61,49,140,70,260,232,76,67,94,183,283,141,84,280,162,87,230,54,175,175,48,158,245,201,162,279,195,101,160,146,152,164,207,74,175,81,249,91,214,141,218,85,54,193,81,122,172,119,180,137,61,244,157,226,164,258,279,71,164,268,141,139,227,163,181,248,282,194,145,70,267,123,132,155,104,172,188,154,104,164,254,169,282,282,272,240,238,156,76,57,262,150,201,129,108,223,124,160,211,272,137,105,261,158,46,103,93,48,235,183,122,115,246,164,215,126,108,183,204,169,104,113,126,183,133,101,213,82,85,107,103,163,114,49,73,209,223,210,101,84,78,282,163,167,92,284,287,190,209,95,275,121,73,268,270,177,66,122,143,106,77,142,151,144,199,54,201,58,133,144,147,111,182,79,194,280,174,207,233,154,138,68,143,163,192,122,126,175,70,128,137,149,113,215,93,111,131,47,96,125,100,99,119,237,95,106,245,97,283,155,168,190,237,72,165,208,108,75,187,54,76,124,185,152,163,64,167,143,77,131,96,97,87,281,184,65,222,182,135,98,131,146,105,145,180,167,65,108,54,47,284,243,278,83,211,260,250,100,73,194,241,236,88,271,138,130,199,126,187,253,105,113,101,51,147,99,250,114,271,105,94,60,281,285,104,103,247,254,82,186,37,132,203,163,95,83,105,171,215,281,153,87,181,202,204,56,96,244,129,83,65,159,163,277,103,191,161,276,145,161,96,66,86,82,98,250,233,210,82,93,224,124,93,246,76,105,212,153,281,156,201,79,68,221,150,89,81,163,282,134,258,216,159,90,112,278,94,137,95,287,165,282,127,274,288,287,87,106,130,169,110,92,155,263,142,65,101,63,125,164,88,151,201,257,264,196,287,74,178,65,147,179,123,118,122,136,136,288,163,124,219,120,180,101,183,172,160,260,246,121,288,146,132,70,136,169,64,93,111,213,87,108,72,258,142,227,149,174,138,216,192,109,265,100,159,280,229,103,105,170,122,249,114,96,55,220,172,131,108,91,95,75,84,254,82,157,126,106,122,63,82,91,262,113,111,78,81,94,202,62,213,113,133,131,195,195,77,187,279,189,48,68,262,265,100,109,222,241,84,126,153,160,264,75,204,84,56,168,175,87,71,121,177,212,193,58,272,275,193,247,184,120,177,252,81,139,136,93,262,208,144,172,102,215,108,107,126,156,105,148,80,152,219,105,142,273,114,105,207,103,196],\"y0\":\" \",\"yaxis\":\"y\"}],                        {\"boxmode\":\"group\",\"legend\":{\"tracegroupgap\":0},\"template\":{\"data\":{\"bar\":[{\"error_x\":{\"color\":\"#2a3f5f\"},\"error_y\":{\"color\":\"#2a3f5f\"},\"marker\":{\"line\":{\"color\":\"#E5ECF6\",\"width\":0.5},\"pattern\":{\"fillmode\":\"overlay\",\"size\":10,\"solidity\":0.2}},\"type\":\"bar\"}],\"barpolar\":[{\"marker\":{\"line\":{\"color\":\"#E5ECF6\",\"width\":0.5},\"pattern\":{\"fillmode\":\"overlay\",\"size\":10,\"solidity\":0.2}},\"type\":\"barpolar\"}],\"carpet\":[{\"aaxis\":{\"endlinecolor\":\"#2a3f5f\",\"gridcolor\":\"white\",\"linecolor\":\"white\",\"minorgridcolor\":\"white\",\"startlinecolor\":\"#2a3f5f\"},\"baxis\":{\"endlinecolor\":\"#2a3f5f\",\"gridcolor\":\"white\",\"linecolor\":\"white\",\"minorgridcolor\":\"white\",\"startlinecolor\":\"#2a3f5f\"},\"type\":\"carpet\"}],\"choropleth\":[{\"colorbar\":{\"outlinewidth\":0,\"ticks\":\"\"},\"type\":\"choropleth\"}],\"contour\":[{\"colorbar\":{\"outlinewidth\":0,\"ticks\":\"\"},\"colorscale\":[[0.0,\"#0d0887\"],[0.1111111111111111,\"#46039f\"],[0.2222222222222222,\"#7201a8\"],[0.3333333333333333,\"#9c179e\"],[0.4444444444444444,\"#bd3786\"],[0.5555555555555556,\"#d8576b\"],[0.6666666666666666,\"#ed7953\"],[0.7777777777777778,\"#fb9f3a\"],[0.8888888888888888,\"#fdca26\"],[1.0,\"#f0f921\"]],\"type\":\"contour\"}],\"contourcarpet\":[{\"colorbar\":{\"outlinewidth\":0,\"ticks\":\"\"},\"type\":\"contourcarpet\"}],\"heatmap\":[{\"colorbar\":{\"outlinewidth\":0,\"ticks\":\"\"},\"colorscale\":[[0.0,\"#0d0887\"],[0.1111111111111111,\"#46039f\"],[0.2222222222222222,\"#7201a8\"],[0.3333333333333333,\"#9c179e\"],[0.4444444444444444,\"#bd3786\"],[0.5555555555555556,\"#d8576b\"],[0.6666666666666666,\"#ed7953\"],[0.7777777777777778,\"#fb9f3a\"],[0.8888888888888888,\"#fdca26\"],[1.0,\"#f0f921\"]],\"type\":\"heatmap\"}],\"heatmapgl\":[{\"colorbar\":{\"outlinewidth\":0,\"ticks\":\"\"},\"colorscale\":[[0.0,\"#0d0887\"],[0.1111111111111111,\"#46039f\"],[0.2222222222222222,\"#7201a8\"],[0.3333333333333333,\"#9c179e\"],[0.4444444444444444,\"#bd3786\"],[0.5555555555555556,\"#d8576b\"],[0.6666666666666666,\"#ed7953\"],[0.7777777777777778,\"#fb9f3a\"],[0.8888888888888888,\"#fdca26\"],[1.0,\"#f0f921\"]],\"type\":\"heatmapgl\"}],\"histogram\":[{\"marker\":{\"pattern\":{\"fillmode\":\"overlay\",\"size\":10,\"solidity\":0.2}},\"type\":\"histogram\"}],\"histogram2d\":[{\"colorbar\":{\"outlinewidth\":0,\"ticks\":\"\"},\"colorscale\":[[0.0,\"#0d0887\"],[0.1111111111111111,\"#46039f\"],[0.2222222222222222,\"#7201a8\"],[0.3333333333333333,\"#9c179e\"],[0.4444444444444444,\"#bd3786\"],[0.5555555555555556,\"#d8576b\"],[0.6666666666666666,\"#ed7953\"],[0.7777777777777778,\"#fb9f3a\"],[0.8888888888888888,\"#fdca26\"],[1.0,\"#f0f921\"]],\"type\":\"histogram2d\"}],\"histogram2dcontour\":[{\"colorbar\":{\"outlinewidth\":0,\"ticks\":\"\"},\"colorscale\":[[0.0,\"#0d0887\"],[0.1111111111111111,\"#46039f\"],[0.2222222222222222,\"#7201a8\"],[0.3333333333333333,\"#9c179e\"],[0.4444444444444444,\"#bd3786\"],[0.5555555555555556,\"#d8576b\"],[0.6666666666666666,\"#ed7953\"],[0.7777777777777778,\"#fb9f3a\"],[0.8888888888888888,\"#fdca26\"],[1.0,\"#f0f921\"]],\"type\":\"histogram2dcontour\"}],\"mesh3d\":[{\"colorbar\":{\"outlinewidth\":0,\"ticks\":\"\"},\"type\":\"mesh3d\"}],\"parcoords\":[{\"line\":{\"colorbar\":{\"outlinewidth\":0,\"ticks\":\"\"}},\"type\":\"parcoords\"}],\"pie\":[{\"automargin\":true,\"type\":\"pie\"}],\"scatter\":[{\"marker\":{\"colorbar\":{\"outlinewidth\":0,\"ticks\":\"\"}},\"type\":\"scatter\"}],\"scatter3d\":[{\"line\":{\"colorbar\":{\"outlinewidth\":0,\"ticks\":\"\"}},\"marker\":{\"colorbar\":{\"outlinewidth\":0,\"ticks\":\"\"}},\"type\":\"scatter3d\"}],\"scattercarpet\":[{\"marker\":{\"colorbar\":{\"outlinewidth\":0,\"ticks\":\"\"}},\"type\":\"scattercarpet\"}],\"scattergeo\":[{\"marker\":{\"colorbar\":{\"outlinewidth\":0,\"ticks\":\"\"}},\"type\":\"scattergeo\"}],\"scattergl\":[{\"marker\":{\"colorbar\":{\"outlinewidth\":0,\"ticks\":\"\"}},\"type\":\"scattergl\"}],\"scattermapbox\":[{\"marker\":{\"colorbar\":{\"outlinewidth\":0,\"ticks\":\"\"}},\"type\":\"scattermapbox\"}],\"scatterpolar\":[{\"marker\":{\"colorbar\":{\"outlinewidth\":0,\"ticks\":\"\"}},\"type\":\"scatterpolar\"}],\"scatterpolargl\":[{\"marker\":{\"colorbar\":{\"outlinewidth\":0,\"ticks\":\"\"}},\"type\":\"scatterpolargl\"}],\"scatterternary\":[{\"marker\":{\"colorbar\":{\"outlinewidth\":0,\"ticks\":\"\"}},\"type\":\"scatterternary\"}],\"surface\":[{\"colorbar\":{\"outlinewidth\":0,\"ticks\":\"\"},\"colorscale\":[[0.0,\"#0d0887\"],[0.1111111111111111,\"#46039f\"],[0.2222222222222222,\"#7201a8\"],[0.3333333333333333,\"#9c179e\"],[0.4444444444444444,\"#bd3786\"],[0.5555555555555556,\"#d8576b\"],[0.6666666666666666,\"#ed7953\"],[0.7777777777777778,\"#fb9f3a\"],[0.8888888888888888,\"#fdca26\"],[1.0,\"#f0f921\"]],\"type\":\"surface\"}],\"table\":[{\"cells\":{\"fill\":{\"color\":\"#EBF0F8\"},\"line\":{\"color\":\"white\"}},\"header\":{\"fill\":{\"color\":\"#C8D4E3\"},\"line\":{\"color\":\"white\"}},\"type\":\"table\"}]},\"layout\":{\"annotationdefaults\":{\"arrowcolor\":\"#2a3f5f\",\"arrowhead\":0,\"arrowwidth\":1},\"autotypenumbers\":\"strict\",\"coloraxis\":{\"colorbar\":{\"outlinewidth\":0,\"ticks\":\"\"}},\"colorscale\":{\"diverging\":[[0,\"#8e0152\"],[0.1,\"#c51b7d\"],[0.2,\"#de77ae\"],[0.3,\"#f1b6da\"],[0.4,\"#fde0ef\"],[0.5,\"#f7f7f7\"],[0.6,\"#e6f5d0\"],[0.7,\"#b8e186\"],[0.8,\"#7fbc41\"],[0.9,\"#4d9221\"],[1,\"#276419\"]],\"sequential\":[[0.0,\"#0d0887\"],[0.1111111111111111,\"#46039f\"],[0.2222222222222222,\"#7201a8\"],[0.3333333333333333,\"#9c179e\"],[0.4444444444444444,\"#bd3786\"],[0.5555555555555556,\"#d8576b\"],[0.6666666666666666,\"#ed7953\"],[0.7777777777777778,\"#fb9f3a\"],[0.8888888888888888,\"#fdca26\"],[1.0,\"#f0f921\"]],\"sequentialminus\":[[0.0,\"#0d0887\"],[0.1111111111111111,\"#46039f\"],[0.2222222222222222,\"#7201a8\"],[0.3333333333333333,\"#9c179e\"],[0.4444444444444444,\"#bd3786\"],[0.5555555555555556,\"#d8576b\"],[0.6666666666666666,\"#ed7953\"],[0.7777777777777778,\"#fb9f3a\"],[0.8888888888888888,\"#fdca26\"],[1.0,\"#f0f921\"]]},\"colorway\":[\"#636efa\",\"#EF553B\",\"#00cc96\",\"#ab63fa\",\"#FFA15A\",\"#19d3f3\",\"#FF6692\",\"#B6E880\",\"#FF97FF\",\"#FECB52\"],\"font\":{\"color\":\"#2a3f5f\"},\"geo\":{\"bgcolor\":\"white\",\"lakecolor\":\"white\",\"landcolor\":\"#E5ECF6\",\"showlakes\":true,\"showland\":true,\"subunitcolor\":\"white\"},\"hoverlabel\":{\"align\":\"left\"},\"hovermode\":\"closest\",\"mapbox\":{\"style\":\"light\"},\"paper_bgcolor\":\"white\",\"plot_bgcolor\":\"#E5ECF6\",\"polar\":{\"angularaxis\":{\"gridcolor\":\"white\",\"linecolor\":\"white\",\"ticks\":\"\"},\"bgcolor\":\"#E5ECF6\",\"radialaxis\":{\"gridcolor\":\"white\",\"linecolor\":\"white\",\"ticks\":\"\"}},\"scene\":{\"xaxis\":{\"backgroundcolor\":\"#E5ECF6\",\"gridcolor\":\"white\",\"gridwidth\":2,\"linecolor\":\"white\",\"showbackground\":true,\"ticks\":\"\",\"zerolinecolor\":\"white\"},\"yaxis\":{\"backgroundcolor\":\"#E5ECF6\",\"gridcolor\":\"white\",\"gridwidth\":2,\"linecolor\":\"white\",\"showbackground\":true,\"ticks\":\"\",\"zerolinecolor\":\"white\"},\"zaxis\":{\"backgroundcolor\":\"#E5ECF6\",\"gridcolor\":\"white\",\"gridwidth\":2,\"linecolor\":\"white\",\"showbackground\":true,\"ticks\":\"\",\"zerolinecolor\":\"white\"}},\"shapedefaults\":{\"line\":{\"color\":\"#2a3f5f\"}},\"ternary\":{\"aaxis\":{\"gridcolor\":\"white\",\"linecolor\":\"white\",\"ticks\":\"\"},\"baxis\":{\"gridcolor\":\"white\",\"linecolor\":\"white\",\"ticks\":\"\"},\"bgcolor\":\"#E5ECF6\",\"caxis\":{\"gridcolor\":\"white\",\"linecolor\":\"white\",\"ticks\":\"\"}},\"title\":{\"x\":0.05},\"xaxis\":{\"automargin\":true,\"gridcolor\":\"white\",\"linecolor\":\"white\",\"ticks\":\"\",\"title\":{\"standoff\":15},\"zerolinecolor\":\"white\",\"zerolinewidth\":2},\"yaxis\":{\"automargin\":true,\"gridcolor\":\"white\",\"linecolor\":\"white\",\"ticks\":\"\",\"title\":{\"standoff\":15},\"zerolinecolor\":\"white\",\"zerolinewidth\":2}}},\"title\":{\"text\":\"Average tweet length\"},\"xaxis\":{\"anchor\":\"y\",\"domain\":[0.0,1.0]},\"yaxis\":{\"anchor\":\"x\",\"domain\":[0.0,1.0],\"title\":{\"text\":\"tweetLength\"}}},                        {\"responsive\": true}                    ).then(function(){\n",
       "                            \n",
       "var gd = document.getElementById('c5a893a9-4506-443e-972d-e062141d2b99');\n",
       "var x = new MutationObserver(function (mutations, observer) {{\n",
       "        var display = window.getComputedStyle(gd).display;\n",
       "        if (!display || display === 'none') {{\n",
       "            console.log([gd, 'removed!']);\n",
       "            Plotly.purge(gd);\n",
       "            observer.disconnect();\n",
       "        }}\n",
       "}});\n",
       "\n",
       "// Listen for the removal of the full notebook cells\n",
       "var notebookContainer = gd.closest('#notebook-container');\n",
       "if (notebookContainer) {{\n",
       "    x.observe(notebookContainer, {childList: true});\n",
       "}}\n",
       "\n",
       "// Listen for the clearing of the current output cell\n",
       "var outputEl = gd.closest('.output');\n",
       "if (outputEl) {{\n",
       "    x.observe(outputEl, {childList: true});\n",
       "}}\n",
       "\n",
       "                        })                };                });            </script>        </div>"
      ]
     },
     "metadata": {},
     "output_type": "display_data"
    }
   ],
   "source": [
    "#Now let's get a feel of the average length of a tweet\n",
    "\n",
    "df['tweetLength'] = df['tweet'].apply(lambda tweet:len(tweet))\n",
    "fig = px.box(df,y='tweetLength',title=\"Average tweet length\")\n",
    "fig.show()"
   ]
  },
  {
   "cell_type": "code",
   "execution_count": 83,
   "id": "2c96ba40",
   "metadata": {},
   "outputs": [
    {
     "data": {
      "application/vnd.plotly.v1+json": {
       "config": {
        "plotlyServerURL": "https://plot.ly"
       },
       "data": [
        {
         "alignmentgroup": "True",
         "hovertemplate": "Month=%{x}<br>Number of tweets=%{y}<extra></extra>",
         "legendgroup": "",
         "marker": {
          "color": "#636efa",
          "pattern": {
           "shape": ""
          }
         },
         "name": "",
         "offsetgroup": "",
         "orientation": "v",
         "showlegend": false,
         "textposition": "auto",
         "type": "bar",
         "x": [
          4,
          2,
          10,
          1,
          11,
          12,
          3,
          5,
          8,
          7,
          6,
          9
         ],
         "xaxis": "x",
         "y": [
          340,
          286,
          254,
          245,
          245,
          242,
          242,
          226,
          220,
          173,
          158,
          152
         ],
         "yaxis": "y"
        }
       ],
       "layout": {
        "barmode": "relative",
        "legend": {
         "tracegroupgap": 0
        },
        "template": {
         "data": {
          "bar": [
           {
            "error_x": {
             "color": "#2a3f5f"
            },
            "error_y": {
             "color": "#2a3f5f"
            },
            "marker": {
             "line": {
              "color": "#E5ECF6",
              "width": 0.5
             },
             "pattern": {
              "fillmode": "overlay",
              "size": 10,
              "solidity": 0.2
             }
            },
            "type": "bar"
           }
          ],
          "barpolar": [
           {
            "marker": {
             "line": {
              "color": "#E5ECF6",
              "width": 0.5
             },
             "pattern": {
              "fillmode": "overlay",
              "size": 10,
              "solidity": 0.2
             }
            },
            "type": "barpolar"
           }
          ],
          "carpet": [
           {
            "aaxis": {
             "endlinecolor": "#2a3f5f",
             "gridcolor": "white",
             "linecolor": "white",
             "minorgridcolor": "white",
             "startlinecolor": "#2a3f5f"
            },
            "baxis": {
             "endlinecolor": "#2a3f5f",
             "gridcolor": "white",
             "linecolor": "white",
             "minorgridcolor": "white",
             "startlinecolor": "#2a3f5f"
            },
            "type": "carpet"
           }
          ],
          "choropleth": [
           {
            "colorbar": {
             "outlinewidth": 0,
             "ticks": ""
            },
            "type": "choropleth"
           }
          ],
          "contour": [
           {
            "colorbar": {
             "outlinewidth": 0,
             "ticks": ""
            },
            "colorscale": [
             [
              0,
              "#0d0887"
             ],
             [
              0.1111111111111111,
              "#46039f"
             ],
             [
              0.2222222222222222,
              "#7201a8"
             ],
             [
              0.3333333333333333,
              "#9c179e"
             ],
             [
              0.4444444444444444,
              "#bd3786"
             ],
             [
              0.5555555555555556,
              "#d8576b"
             ],
             [
              0.6666666666666666,
              "#ed7953"
             ],
             [
              0.7777777777777778,
              "#fb9f3a"
             ],
             [
              0.8888888888888888,
              "#fdca26"
             ],
             [
              1,
              "#f0f921"
             ]
            ],
            "type": "contour"
           }
          ],
          "contourcarpet": [
           {
            "colorbar": {
             "outlinewidth": 0,
             "ticks": ""
            },
            "type": "contourcarpet"
           }
          ],
          "heatmap": [
           {
            "colorbar": {
             "outlinewidth": 0,
             "ticks": ""
            },
            "colorscale": [
             [
              0,
              "#0d0887"
             ],
             [
              0.1111111111111111,
              "#46039f"
             ],
             [
              0.2222222222222222,
              "#7201a8"
             ],
             [
              0.3333333333333333,
              "#9c179e"
             ],
             [
              0.4444444444444444,
              "#bd3786"
             ],
             [
              0.5555555555555556,
              "#d8576b"
             ],
             [
              0.6666666666666666,
              "#ed7953"
             ],
             [
              0.7777777777777778,
              "#fb9f3a"
             ],
             [
              0.8888888888888888,
              "#fdca26"
             ],
             [
              1,
              "#f0f921"
             ]
            ],
            "type": "heatmap"
           }
          ],
          "heatmapgl": [
           {
            "colorbar": {
             "outlinewidth": 0,
             "ticks": ""
            },
            "colorscale": [
             [
              0,
              "#0d0887"
             ],
             [
              0.1111111111111111,
              "#46039f"
             ],
             [
              0.2222222222222222,
              "#7201a8"
             ],
             [
              0.3333333333333333,
              "#9c179e"
             ],
             [
              0.4444444444444444,
              "#bd3786"
             ],
             [
              0.5555555555555556,
              "#d8576b"
             ],
             [
              0.6666666666666666,
              "#ed7953"
             ],
             [
              0.7777777777777778,
              "#fb9f3a"
             ],
             [
              0.8888888888888888,
              "#fdca26"
             ],
             [
              1,
              "#f0f921"
             ]
            ],
            "type": "heatmapgl"
           }
          ],
          "histogram": [
           {
            "marker": {
             "pattern": {
              "fillmode": "overlay",
              "size": 10,
              "solidity": 0.2
             }
            },
            "type": "histogram"
           }
          ],
          "histogram2d": [
           {
            "colorbar": {
             "outlinewidth": 0,
             "ticks": ""
            },
            "colorscale": [
             [
              0,
              "#0d0887"
             ],
             [
              0.1111111111111111,
              "#46039f"
             ],
             [
              0.2222222222222222,
              "#7201a8"
             ],
             [
              0.3333333333333333,
              "#9c179e"
             ],
             [
              0.4444444444444444,
              "#bd3786"
             ],
             [
              0.5555555555555556,
              "#d8576b"
             ],
             [
              0.6666666666666666,
              "#ed7953"
             ],
             [
              0.7777777777777778,
              "#fb9f3a"
             ],
             [
              0.8888888888888888,
              "#fdca26"
             ],
             [
              1,
              "#f0f921"
             ]
            ],
            "type": "histogram2d"
           }
          ],
          "histogram2dcontour": [
           {
            "colorbar": {
             "outlinewidth": 0,
             "ticks": ""
            },
            "colorscale": [
             [
              0,
              "#0d0887"
             ],
             [
              0.1111111111111111,
              "#46039f"
             ],
             [
              0.2222222222222222,
              "#7201a8"
             ],
             [
              0.3333333333333333,
              "#9c179e"
             ],
             [
              0.4444444444444444,
              "#bd3786"
             ],
             [
              0.5555555555555556,
              "#d8576b"
             ],
             [
              0.6666666666666666,
              "#ed7953"
             ],
             [
              0.7777777777777778,
              "#fb9f3a"
             ],
             [
              0.8888888888888888,
              "#fdca26"
             ],
             [
              1,
              "#f0f921"
             ]
            ],
            "type": "histogram2dcontour"
           }
          ],
          "mesh3d": [
           {
            "colorbar": {
             "outlinewidth": 0,
             "ticks": ""
            },
            "type": "mesh3d"
           }
          ],
          "parcoords": [
           {
            "line": {
             "colorbar": {
              "outlinewidth": 0,
              "ticks": ""
             }
            },
            "type": "parcoords"
           }
          ],
          "pie": [
           {
            "automargin": true,
            "type": "pie"
           }
          ],
          "scatter": [
           {
            "marker": {
             "colorbar": {
              "outlinewidth": 0,
              "ticks": ""
             }
            },
            "type": "scatter"
           }
          ],
          "scatter3d": [
           {
            "line": {
             "colorbar": {
              "outlinewidth": 0,
              "ticks": ""
             }
            },
            "marker": {
             "colorbar": {
              "outlinewidth": 0,
              "ticks": ""
             }
            },
            "type": "scatter3d"
           }
          ],
          "scattercarpet": [
           {
            "marker": {
             "colorbar": {
              "outlinewidth": 0,
              "ticks": ""
             }
            },
            "type": "scattercarpet"
           }
          ],
          "scattergeo": [
           {
            "marker": {
             "colorbar": {
              "outlinewidth": 0,
              "ticks": ""
             }
            },
            "type": "scattergeo"
           }
          ],
          "scattergl": [
           {
            "marker": {
             "colorbar": {
              "outlinewidth": 0,
              "ticks": ""
             }
            },
            "type": "scattergl"
           }
          ],
          "scattermapbox": [
           {
            "marker": {
             "colorbar": {
              "outlinewidth": 0,
              "ticks": ""
             }
            },
            "type": "scattermapbox"
           }
          ],
          "scatterpolar": [
           {
            "marker": {
             "colorbar": {
              "outlinewidth": 0,
              "ticks": ""
             }
            },
            "type": "scatterpolar"
           }
          ],
          "scatterpolargl": [
           {
            "marker": {
             "colorbar": {
              "outlinewidth": 0,
              "ticks": ""
             }
            },
            "type": "scatterpolargl"
           }
          ],
          "scatterternary": [
           {
            "marker": {
             "colorbar": {
              "outlinewidth": 0,
              "ticks": ""
             }
            },
            "type": "scatterternary"
           }
          ],
          "surface": [
           {
            "colorbar": {
             "outlinewidth": 0,
             "ticks": ""
            },
            "colorscale": [
             [
              0,
              "#0d0887"
             ],
             [
              0.1111111111111111,
              "#46039f"
             ],
             [
              0.2222222222222222,
              "#7201a8"
             ],
             [
              0.3333333333333333,
              "#9c179e"
             ],
             [
              0.4444444444444444,
              "#bd3786"
             ],
             [
              0.5555555555555556,
              "#d8576b"
             ],
             [
              0.6666666666666666,
              "#ed7953"
             ],
             [
              0.7777777777777778,
              "#fb9f3a"
             ],
             [
              0.8888888888888888,
              "#fdca26"
             ],
             [
              1,
              "#f0f921"
             ]
            ],
            "type": "surface"
           }
          ],
          "table": [
           {
            "cells": {
             "fill": {
              "color": "#EBF0F8"
             },
             "line": {
              "color": "white"
             }
            },
            "header": {
             "fill": {
              "color": "#C8D4E3"
             },
             "line": {
              "color": "white"
             }
            },
            "type": "table"
           }
          ]
         },
         "layout": {
          "annotationdefaults": {
           "arrowcolor": "#2a3f5f",
           "arrowhead": 0,
           "arrowwidth": 1
          },
          "autotypenumbers": "strict",
          "coloraxis": {
           "colorbar": {
            "outlinewidth": 0,
            "ticks": ""
           }
          },
          "colorscale": {
           "diverging": [
            [
             0,
             "#8e0152"
            ],
            [
             0.1,
             "#c51b7d"
            ],
            [
             0.2,
             "#de77ae"
            ],
            [
             0.3,
             "#f1b6da"
            ],
            [
             0.4,
             "#fde0ef"
            ],
            [
             0.5,
             "#f7f7f7"
            ],
            [
             0.6,
             "#e6f5d0"
            ],
            [
             0.7,
             "#b8e186"
            ],
            [
             0.8,
             "#7fbc41"
            ],
            [
             0.9,
             "#4d9221"
            ],
            [
             1,
             "#276419"
            ]
           ],
           "sequential": [
            [
             0,
             "#0d0887"
            ],
            [
             0.1111111111111111,
             "#46039f"
            ],
            [
             0.2222222222222222,
             "#7201a8"
            ],
            [
             0.3333333333333333,
             "#9c179e"
            ],
            [
             0.4444444444444444,
             "#bd3786"
            ],
            [
             0.5555555555555556,
             "#d8576b"
            ],
            [
             0.6666666666666666,
             "#ed7953"
            ],
            [
             0.7777777777777778,
             "#fb9f3a"
            ],
            [
             0.8888888888888888,
             "#fdca26"
            ],
            [
             1,
             "#f0f921"
            ]
           ],
           "sequentialminus": [
            [
             0,
             "#0d0887"
            ],
            [
             0.1111111111111111,
             "#46039f"
            ],
            [
             0.2222222222222222,
             "#7201a8"
            ],
            [
             0.3333333333333333,
             "#9c179e"
            ],
            [
             0.4444444444444444,
             "#bd3786"
            ],
            [
             0.5555555555555556,
             "#d8576b"
            ],
            [
             0.6666666666666666,
             "#ed7953"
            ],
            [
             0.7777777777777778,
             "#fb9f3a"
            ],
            [
             0.8888888888888888,
             "#fdca26"
            ],
            [
             1,
             "#f0f921"
            ]
           ]
          },
          "colorway": [
           "#636efa",
           "#EF553B",
           "#00cc96",
           "#ab63fa",
           "#FFA15A",
           "#19d3f3",
           "#FF6692",
           "#B6E880",
           "#FF97FF",
           "#FECB52"
          ],
          "font": {
           "color": "#2a3f5f"
          },
          "geo": {
           "bgcolor": "white",
           "lakecolor": "white",
           "landcolor": "#E5ECF6",
           "showlakes": true,
           "showland": true,
           "subunitcolor": "white"
          },
          "hoverlabel": {
           "align": "left"
          },
          "hovermode": "closest",
          "mapbox": {
           "style": "light"
          },
          "paper_bgcolor": "white",
          "plot_bgcolor": "#E5ECF6",
          "polar": {
           "angularaxis": {
            "gridcolor": "white",
            "linecolor": "white",
            "ticks": ""
           },
           "bgcolor": "#E5ECF6",
           "radialaxis": {
            "gridcolor": "white",
            "linecolor": "white",
            "ticks": ""
           }
          },
          "scene": {
           "xaxis": {
            "backgroundcolor": "#E5ECF6",
            "gridcolor": "white",
            "gridwidth": 2,
            "linecolor": "white",
            "showbackground": true,
            "ticks": "",
            "zerolinecolor": "white"
           },
           "yaxis": {
            "backgroundcolor": "#E5ECF6",
            "gridcolor": "white",
            "gridwidth": 2,
            "linecolor": "white",
            "showbackground": true,
            "ticks": "",
            "zerolinecolor": "white"
           },
           "zaxis": {
            "backgroundcolor": "#E5ECF6",
            "gridcolor": "white",
            "gridwidth": 2,
            "linecolor": "white",
            "showbackground": true,
            "ticks": "",
            "zerolinecolor": "white"
           }
          },
          "shapedefaults": {
           "line": {
            "color": "#2a3f5f"
           }
          },
          "ternary": {
           "aaxis": {
            "gridcolor": "white",
            "linecolor": "white",
            "ticks": ""
           },
           "baxis": {
            "gridcolor": "white",
            "linecolor": "white",
            "ticks": ""
           },
           "bgcolor": "#E5ECF6",
           "caxis": {
            "gridcolor": "white",
            "linecolor": "white",
            "ticks": ""
           }
          },
          "title": {
           "x": 0.05
          },
          "xaxis": {
           "automargin": true,
           "gridcolor": "white",
           "linecolor": "white",
           "ticks": "",
           "title": {
            "standoff": 15
           },
           "zerolinecolor": "white",
           "zerolinewidth": 2
          },
          "yaxis": {
           "automargin": true,
           "gridcolor": "white",
           "linecolor": "white",
           "ticks": "",
           "title": {
            "standoff": 15
           },
           "zerolinecolor": "white",
           "zerolinewidth": 2
          }
         }
        },
        "title": {
         "text": "Counts of tweets by Month"
        },
        "xaxis": {
         "anchor": "y",
         "domain": [
          0,
          1
         ],
         "title": {
          "text": "Month"
         }
        },
        "yaxis": {
         "anchor": "x",
         "domain": [
          0,
          1
         ],
         "title": {
          "text": "Number of tweets"
         }
        }
       }
      },
      "text/html": [
       "<div>                            <div id=\"48fe8384-5ad0-43ed-93a5-fae25d554870\" class=\"plotly-graph-div\" style=\"height:525px; width:100%;\"></div>            <script type=\"text/javascript\">                require([\"plotly\"], function(Plotly) {                    window.PLOTLYENV=window.PLOTLYENV || {};                                    if (document.getElementById(\"48fe8384-5ad0-43ed-93a5-fae25d554870\")) {                    Plotly.newPlot(                        \"48fe8384-5ad0-43ed-93a5-fae25d554870\",                        [{\"alignmentgroup\":\"True\",\"hovertemplate\":\"Month=%{x}<br>Number of tweets=%{y}<extra></extra>\",\"legendgroup\":\"\",\"marker\":{\"color\":\"#636efa\",\"pattern\":{\"shape\":\"\"}},\"name\":\"\",\"offsetgroup\":\"\",\"orientation\":\"v\",\"showlegend\":false,\"textposition\":\"auto\",\"type\":\"bar\",\"x\":[4,2,10,1,11,12,3,5,8,7,6,9],\"xaxis\":\"x\",\"y\":[340,286,254,245,245,242,242,226,220,173,158,152],\"yaxis\":\"y\"}],                        {\"barmode\":\"relative\",\"legend\":{\"tracegroupgap\":0},\"template\":{\"data\":{\"bar\":[{\"error_x\":{\"color\":\"#2a3f5f\"},\"error_y\":{\"color\":\"#2a3f5f\"},\"marker\":{\"line\":{\"color\":\"#E5ECF6\",\"width\":0.5},\"pattern\":{\"fillmode\":\"overlay\",\"size\":10,\"solidity\":0.2}},\"type\":\"bar\"}],\"barpolar\":[{\"marker\":{\"line\":{\"color\":\"#E5ECF6\",\"width\":0.5},\"pattern\":{\"fillmode\":\"overlay\",\"size\":10,\"solidity\":0.2}},\"type\":\"barpolar\"}],\"carpet\":[{\"aaxis\":{\"endlinecolor\":\"#2a3f5f\",\"gridcolor\":\"white\",\"linecolor\":\"white\",\"minorgridcolor\":\"white\",\"startlinecolor\":\"#2a3f5f\"},\"baxis\":{\"endlinecolor\":\"#2a3f5f\",\"gridcolor\":\"white\",\"linecolor\":\"white\",\"minorgridcolor\":\"white\",\"startlinecolor\":\"#2a3f5f\"},\"type\":\"carpet\"}],\"choropleth\":[{\"colorbar\":{\"outlinewidth\":0,\"ticks\":\"\"},\"type\":\"choropleth\"}],\"contour\":[{\"colorbar\":{\"outlinewidth\":0,\"ticks\":\"\"},\"colorscale\":[[0.0,\"#0d0887\"],[0.1111111111111111,\"#46039f\"],[0.2222222222222222,\"#7201a8\"],[0.3333333333333333,\"#9c179e\"],[0.4444444444444444,\"#bd3786\"],[0.5555555555555556,\"#d8576b\"],[0.6666666666666666,\"#ed7953\"],[0.7777777777777778,\"#fb9f3a\"],[0.8888888888888888,\"#fdca26\"],[1.0,\"#f0f921\"]],\"type\":\"contour\"}],\"contourcarpet\":[{\"colorbar\":{\"outlinewidth\":0,\"ticks\":\"\"},\"type\":\"contourcarpet\"}],\"heatmap\":[{\"colorbar\":{\"outlinewidth\":0,\"ticks\":\"\"},\"colorscale\":[[0.0,\"#0d0887\"],[0.1111111111111111,\"#46039f\"],[0.2222222222222222,\"#7201a8\"],[0.3333333333333333,\"#9c179e\"],[0.4444444444444444,\"#bd3786\"],[0.5555555555555556,\"#d8576b\"],[0.6666666666666666,\"#ed7953\"],[0.7777777777777778,\"#fb9f3a\"],[0.8888888888888888,\"#fdca26\"],[1.0,\"#f0f921\"]],\"type\":\"heatmap\"}],\"heatmapgl\":[{\"colorbar\":{\"outlinewidth\":0,\"ticks\":\"\"},\"colorscale\":[[0.0,\"#0d0887\"],[0.1111111111111111,\"#46039f\"],[0.2222222222222222,\"#7201a8\"],[0.3333333333333333,\"#9c179e\"],[0.4444444444444444,\"#bd3786\"],[0.5555555555555556,\"#d8576b\"],[0.6666666666666666,\"#ed7953\"],[0.7777777777777778,\"#fb9f3a\"],[0.8888888888888888,\"#fdca26\"],[1.0,\"#f0f921\"]],\"type\":\"heatmapgl\"}],\"histogram\":[{\"marker\":{\"pattern\":{\"fillmode\":\"overlay\",\"size\":10,\"solidity\":0.2}},\"type\":\"histogram\"}],\"histogram2d\":[{\"colorbar\":{\"outlinewidth\":0,\"ticks\":\"\"},\"colorscale\":[[0.0,\"#0d0887\"],[0.1111111111111111,\"#46039f\"],[0.2222222222222222,\"#7201a8\"],[0.3333333333333333,\"#9c179e\"],[0.4444444444444444,\"#bd3786\"],[0.5555555555555556,\"#d8576b\"],[0.6666666666666666,\"#ed7953\"],[0.7777777777777778,\"#fb9f3a\"],[0.8888888888888888,\"#fdca26\"],[1.0,\"#f0f921\"]],\"type\":\"histogram2d\"}],\"histogram2dcontour\":[{\"colorbar\":{\"outlinewidth\":0,\"ticks\":\"\"},\"colorscale\":[[0.0,\"#0d0887\"],[0.1111111111111111,\"#46039f\"],[0.2222222222222222,\"#7201a8\"],[0.3333333333333333,\"#9c179e\"],[0.4444444444444444,\"#bd3786\"],[0.5555555555555556,\"#d8576b\"],[0.6666666666666666,\"#ed7953\"],[0.7777777777777778,\"#fb9f3a\"],[0.8888888888888888,\"#fdca26\"],[1.0,\"#f0f921\"]],\"type\":\"histogram2dcontour\"}],\"mesh3d\":[{\"colorbar\":{\"outlinewidth\":0,\"ticks\":\"\"},\"type\":\"mesh3d\"}],\"parcoords\":[{\"line\":{\"colorbar\":{\"outlinewidth\":0,\"ticks\":\"\"}},\"type\":\"parcoords\"}],\"pie\":[{\"automargin\":true,\"type\":\"pie\"}],\"scatter\":[{\"marker\":{\"colorbar\":{\"outlinewidth\":0,\"ticks\":\"\"}},\"type\":\"scatter\"}],\"scatter3d\":[{\"line\":{\"colorbar\":{\"outlinewidth\":0,\"ticks\":\"\"}},\"marker\":{\"colorbar\":{\"outlinewidth\":0,\"ticks\":\"\"}},\"type\":\"scatter3d\"}],\"scattercarpet\":[{\"marker\":{\"colorbar\":{\"outlinewidth\":0,\"ticks\":\"\"}},\"type\":\"scattercarpet\"}],\"scattergeo\":[{\"marker\":{\"colorbar\":{\"outlinewidth\":0,\"ticks\":\"\"}},\"type\":\"scattergeo\"}],\"scattergl\":[{\"marker\":{\"colorbar\":{\"outlinewidth\":0,\"ticks\":\"\"}},\"type\":\"scattergl\"}],\"scattermapbox\":[{\"marker\":{\"colorbar\":{\"outlinewidth\":0,\"ticks\":\"\"}},\"type\":\"scattermapbox\"}],\"scatterpolar\":[{\"marker\":{\"colorbar\":{\"outlinewidth\":0,\"ticks\":\"\"}},\"type\":\"scatterpolar\"}],\"scatterpolargl\":[{\"marker\":{\"colorbar\":{\"outlinewidth\":0,\"ticks\":\"\"}},\"type\":\"scatterpolargl\"}],\"scatterternary\":[{\"marker\":{\"colorbar\":{\"outlinewidth\":0,\"ticks\":\"\"}},\"type\":\"scatterternary\"}],\"surface\":[{\"colorbar\":{\"outlinewidth\":0,\"ticks\":\"\"},\"colorscale\":[[0.0,\"#0d0887\"],[0.1111111111111111,\"#46039f\"],[0.2222222222222222,\"#7201a8\"],[0.3333333333333333,\"#9c179e\"],[0.4444444444444444,\"#bd3786\"],[0.5555555555555556,\"#d8576b\"],[0.6666666666666666,\"#ed7953\"],[0.7777777777777778,\"#fb9f3a\"],[0.8888888888888888,\"#fdca26\"],[1.0,\"#f0f921\"]],\"type\":\"surface\"}],\"table\":[{\"cells\":{\"fill\":{\"color\":\"#EBF0F8\"},\"line\":{\"color\":\"white\"}},\"header\":{\"fill\":{\"color\":\"#C8D4E3\"},\"line\":{\"color\":\"white\"}},\"type\":\"table\"}]},\"layout\":{\"annotationdefaults\":{\"arrowcolor\":\"#2a3f5f\",\"arrowhead\":0,\"arrowwidth\":1},\"autotypenumbers\":\"strict\",\"coloraxis\":{\"colorbar\":{\"outlinewidth\":0,\"ticks\":\"\"}},\"colorscale\":{\"diverging\":[[0,\"#8e0152\"],[0.1,\"#c51b7d\"],[0.2,\"#de77ae\"],[0.3,\"#f1b6da\"],[0.4,\"#fde0ef\"],[0.5,\"#f7f7f7\"],[0.6,\"#e6f5d0\"],[0.7,\"#b8e186\"],[0.8,\"#7fbc41\"],[0.9,\"#4d9221\"],[1,\"#276419\"]],\"sequential\":[[0.0,\"#0d0887\"],[0.1111111111111111,\"#46039f\"],[0.2222222222222222,\"#7201a8\"],[0.3333333333333333,\"#9c179e\"],[0.4444444444444444,\"#bd3786\"],[0.5555555555555556,\"#d8576b\"],[0.6666666666666666,\"#ed7953\"],[0.7777777777777778,\"#fb9f3a\"],[0.8888888888888888,\"#fdca26\"],[1.0,\"#f0f921\"]],\"sequentialminus\":[[0.0,\"#0d0887\"],[0.1111111111111111,\"#46039f\"],[0.2222222222222222,\"#7201a8\"],[0.3333333333333333,\"#9c179e\"],[0.4444444444444444,\"#bd3786\"],[0.5555555555555556,\"#d8576b\"],[0.6666666666666666,\"#ed7953\"],[0.7777777777777778,\"#fb9f3a\"],[0.8888888888888888,\"#fdca26\"],[1.0,\"#f0f921\"]]},\"colorway\":[\"#636efa\",\"#EF553B\",\"#00cc96\",\"#ab63fa\",\"#FFA15A\",\"#19d3f3\",\"#FF6692\",\"#B6E880\",\"#FF97FF\",\"#FECB52\"],\"font\":{\"color\":\"#2a3f5f\"},\"geo\":{\"bgcolor\":\"white\",\"lakecolor\":\"white\",\"landcolor\":\"#E5ECF6\",\"showlakes\":true,\"showland\":true,\"subunitcolor\":\"white\"},\"hoverlabel\":{\"align\":\"left\"},\"hovermode\":\"closest\",\"mapbox\":{\"style\":\"light\"},\"paper_bgcolor\":\"white\",\"plot_bgcolor\":\"#E5ECF6\",\"polar\":{\"angularaxis\":{\"gridcolor\":\"white\",\"linecolor\":\"white\",\"ticks\":\"\"},\"bgcolor\":\"#E5ECF6\",\"radialaxis\":{\"gridcolor\":\"white\",\"linecolor\":\"white\",\"ticks\":\"\"}},\"scene\":{\"xaxis\":{\"backgroundcolor\":\"#E5ECF6\",\"gridcolor\":\"white\",\"gridwidth\":2,\"linecolor\":\"white\",\"showbackground\":true,\"ticks\":\"\",\"zerolinecolor\":\"white\"},\"yaxis\":{\"backgroundcolor\":\"#E5ECF6\",\"gridcolor\":\"white\",\"gridwidth\":2,\"linecolor\":\"white\",\"showbackground\":true,\"ticks\":\"\",\"zerolinecolor\":\"white\"},\"zaxis\":{\"backgroundcolor\":\"#E5ECF6\",\"gridcolor\":\"white\",\"gridwidth\":2,\"linecolor\":\"white\",\"showbackground\":true,\"ticks\":\"\",\"zerolinecolor\":\"white\"}},\"shapedefaults\":{\"line\":{\"color\":\"#2a3f5f\"}},\"ternary\":{\"aaxis\":{\"gridcolor\":\"white\",\"linecolor\":\"white\",\"ticks\":\"\"},\"baxis\":{\"gridcolor\":\"white\",\"linecolor\":\"white\",\"ticks\":\"\"},\"bgcolor\":\"#E5ECF6\",\"caxis\":{\"gridcolor\":\"white\",\"linecolor\":\"white\",\"ticks\":\"\"}},\"title\":{\"x\":0.05},\"xaxis\":{\"automargin\":true,\"gridcolor\":\"white\",\"linecolor\":\"white\",\"ticks\":\"\",\"title\":{\"standoff\":15},\"zerolinecolor\":\"white\",\"zerolinewidth\":2},\"yaxis\":{\"automargin\":true,\"gridcolor\":\"white\",\"linecolor\":\"white\",\"ticks\":\"\",\"title\":{\"standoff\":15},\"zerolinecolor\":\"white\",\"zerolinewidth\":2}}},\"title\":{\"text\":\"Counts of tweets by Month\"},\"xaxis\":{\"anchor\":\"y\",\"domain\":[0.0,1.0],\"title\":{\"text\":\"Month\"}},\"yaxis\":{\"anchor\":\"x\",\"domain\":[0.0,1.0],\"title\":{\"text\":\"Number of tweets\"}}},                        {\"responsive\": true}                    ).then(function(){\n",
       "                            \n",
       "var gd = document.getElementById('48fe8384-5ad0-43ed-93a5-fae25d554870');\n",
       "var x = new MutationObserver(function (mutations, observer) {{\n",
       "        var display = window.getComputedStyle(gd).display;\n",
       "        if (!display || display === 'none') {{\n",
       "            console.log([gd, 'removed!']);\n",
       "            Plotly.purge(gd);\n",
       "            observer.disconnect();\n",
       "        }}\n",
       "}});\n",
       "\n",
       "// Listen for the removal of the full notebook cells\n",
       "var notebookContainer = gd.closest('#notebook-container');\n",
       "if (notebookContainer) {{\n",
       "    x.observe(notebookContainer, {childList: true});\n",
       "}}\n",
       "\n",
       "// Listen for the clearing of the current output cell\n",
       "var outputEl = gd.closest('.output');\n",
       "if (outputEl) {{\n",
       "    x.observe(outputEl, {childList: true});\n",
       "}}\n",
       "\n",
       "                        })                };                });            </script>        </div>"
      ]
     },
     "metadata": {},
     "output_type": "display_data"
    }
   ],
   "source": [
    "#lets get to see the distribution of the tweets over different months\n",
    "\n",
    "fig = px.bar(df,\n",
    "             y=df['Month'].value_counts().values, \n",
    "             x=df['Month'].value_counts().index,\n",
    "             title = \"Counts of tweets by Month\",\n",
    "            labels={\"x\":\"Month\",\"y\":\"Number of tweets\"})\n",
    "fig.show()"
   ]
  },
  {
   "cell_type": "code",
   "execution_count": 128,
   "id": "cd09742f",
   "metadata": {},
   "outputs": [
    {
     "data": {
      "application/vnd.plotly.v1+json": {
       "config": {
        "plotlyServerURL": "https://plot.ly"
       },
       "data": [
        {
         "alignmentgroup": "True",
         "hovertemplate": "Hour=%{x}<br>Number of tweets=%{y}<extra></extra>",
         "legendgroup": "",
         "marker": {
          "color": "#636efa",
          "pattern": {
           "shape": ""
          }
         },
         "name": "",
         "offsetgroup": "",
         "orientation": "v",
         "showlegend": false,
         "textposition": "auto",
         "type": "bar",
         "x": [
          16,
          17,
          15,
          18,
          8,
          7,
          14,
          6,
          9,
          5,
          10,
          11,
          12,
          13,
          19,
          4,
          3,
          20,
          21,
          2,
          1,
          0,
          22,
          23
         ],
         "xaxis": "x",
         "y": [
          301,
          266,
          186,
          181,
          175,
          174,
          167,
          159,
          159,
          137,
          136,
          136,
          127,
          127,
          114,
          77,
          54,
          39,
          19,
          18,
          9,
          8,
          7,
          7
         ],
         "yaxis": "y"
        }
       ],
       "layout": {
        "barmode": "relative",
        "legend": {
         "tracegroupgap": 0
        },
        "template": {
         "data": {
          "bar": [
           {
            "error_x": {
             "color": "#2a3f5f"
            },
            "error_y": {
             "color": "#2a3f5f"
            },
            "marker": {
             "line": {
              "color": "#E5ECF6",
              "width": 0.5
             },
             "pattern": {
              "fillmode": "overlay",
              "size": 10,
              "solidity": 0.2
             }
            },
            "type": "bar"
           }
          ],
          "barpolar": [
           {
            "marker": {
             "line": {
              "color": "#E5ECF6",
              "width": 0.5
             },
             "pattern": {
              "fillmode": "overlay",
              "size": 10,
              "solidity": 0.2
             }
            },
            "type": "barpolar"
           }
          ],
          "carpet": [
           {
            "aaxis": {
             "endlinecolor": "#2a3f5f",
             "gridcolor": "white",
             "linecolor": "white",
             "minorgridcolor": "white",
             "startlinecolor": "#2a3f5f"
            },
            "baxis": {
             "endlinecolor": "#2a3f5f",
             "gridcolor": "white",
             "linecolor": "white",
             "minorgridcolor": "white",
             "startlinecolor": "#2a3f5f"
            },
            "type": "carpet"
           }
          ],
          "choropleth": [
           {
            "colorbar": {
             "outlinewidth": 0,
             "ticks": ""
            },
            "type": "choropleth"
           }
          ],
          "contour": [
           {
            "colorbar": {
             "outlinewidth": 0,
             "ticks": ""
            },
            "colorscale": [
             [
              0,
              "#0d0887"
             ],
             [
              0.1111111111111111,
              "#46039f"
             ],
             [
              0.2222222222222222,
              "#7201a8"
             ],
             [
              0.3333333333333333,
              "#9c179e"
             ],
             [
              0.4444444444444444,
              "#bd3786"
             ],
             [
              0.5555555555555556,
              "#d8576b"
             ],
             [
              0.6666666666666666,
              "#ed7953"
             ],
             [
              0.7777777777777778,
              "#fb9f3a"
             ],
             [
              0.8888888888888888,
              "#fdca26"
             ],
             [
              1,
              "#f0f921"
             ]
            ],
            "type": "contour"
           }
          ],
          "contourcarpet": [
           {
            "colorbar": {
             "outlinewidth": 0,
             "ticks": ""
            },
            "type": "contourcarpet"
           }
          ],
          "heatmap": [
           {
            "colorbar": {
             "outlinewidth": 0,
             "ticks": ""
            },
            "colorscale": [
             [
              0,
              "#0d0887"
             ],
             [
              0.1111111111111111,
              "#46039f"
             ],
             [
              0.2222222222222222,
              "#7201a8"
             ],
             [
              0.3333333333333333,
              "#9c179e"
             ],
             [
              0.4444444444444444,
              "#bd3786"
             ],
             [
              0.5555555555555556,
              "#d8576b"
             ],
             [
              0.6666666666666666,
              "#ed7953"
             ],
             [
              0.7777777777777778,
              "#fb9f3a"
             ],
             [
              0.8888888888888888,
              "#fdca26"
             ],
             [
              1,
              "#f0f921"
             ]
            ],
            "type": "heatmap"
           }
          ],
          "heatmapgl": [
           {
            "colorbar": {
             "outlinewidth": 0,
             "ticks": ""
            },
            "colorscale": [
             [
              0,
              "#0d0887"
             ],
             [
              0.1111111111111111,
              "#46039f"
             ],
             [
              0.2222222222222222,
              "#7201a8"
             ],
             [
              0.3333333333333333,
              "#9c179e"
             ],
             [
              0.4444444444444444,
              "#bd3786"
             ],
             [
              0.5555555555555556,
              "#d8576b"
             ],
             [
              0.6666666666666666,
              "#ed7953"
             ],
             [
              0.7777777777777778,
              "#fb9f3a"
             ],
             [
              0.8888888888888888,
              "#fdca26"
             ],
             [
              1,
              "#f0f921"
             ]
            ],
            "type": "heatmapgl"
           }
          ],
          "histogram": [
           {
            "marker": {
             "pattern": {
              "fillmode": "overlay",
              "size": 10,
              "solidity": 0.2
             }
            },
            "type": "histogram"
           }
          ],
          "histogram2d": [
           {
            "colorbar": {
             "outlinewidth": 0,
             "ticks": ""
            },
            "colorscale": [
             [
              0,
              "#0d0887"
             ],
             [
              0.1111111111111111,
              "#46039f"
             ],
             [
              0.2222222222222222,
              "#7201a8"
             ],
             [
              0.3333333333333333,
              "#9c179e"
             ],
             [
              0.4444444444444444,
              "#bd3786"
             ],
             [
              0.5555555555555556,
              "#d8576b"
             ],
             [
              0.6666666666666666,
              "#ed7953"
             ],
             [
              0.7777777777777778,
              "#fb9f3a"
             ],
             [
              0.8888888888888888,
              "#fdca26"
             ],
             [
              1,
              "#f0f921"
             ]
            ],
            "type": "histogram2d"
           }
          ],
          "histogram2dcontour": [
           {
            "colorbar": {
             "outlinewidth": 0,
             "ticks": ""
            },
            "colorscale": [
             [
              0,
              "#0d0887"
             ],
             [
              0.1111111111111111,
              "#46039f"
             ],
             [
              0.2222222222222222,
              "#7201a8"
             ],
             [
              0.3333333333333333,
              "#9c179e"
             ],
             [
              0.4444444444444444,
              "#bd3786"
             ],
             [
              0.5555555555555556,
              "#d8576b"
             ],
             [
              0.6666666666666666,
              "#ed7953"
             ],
             [
              0.7777777777777778,
              "#fb9f3a"
             ],
             [
              0.8888888888888888,
              "#fdca26"
             ],
             [
              1,
              "#f0f921"
             ]
            ],
            "type": "histogram2dcontour"
           }
          ],
          "mesh3d": [
           {
            "colorbar": {
             "outlinewidth": 0,
             "ticks": ""
            },
            "type": "mesh3d"
           }
          ],
          "parcoords": [
           {
            "line": {
             "colorbar": {
              "outlinewidth": 0,
              "ticks": ""
             }
            },
            "type": "parcoords"
           }
          ],
          "pie": [
           {
            "automargin": true,
            "type": "pie"
           }
          ],
          "scatter": [
           {
            "marker": {
             "colorbar": {
              "outlinewidth": 0,
              "ticks": ""
             }
            },
            "type": "scatter"
           }
          ],
          "scatter3d": [
           {
            "line": {
             "colorbar": {
              "outlinewidth": 0,
              "ticks": ""
             }
            },
            "marker": {
             "colorbar": {
              "outlinewidth": 0,
              "ticks": ""
             }
            },
            "type": "scatter3d"
           }
          ],
          "scattercarpet": [
           {
            "marker": {
             "colorbar": {
              "outlinewidth": 0,
              "ticks": ""
             }
            },
            "type": "scattercarpet"
           }
          ],
          "scattergeo": [
           {
            "marker": {
             "colorbar": {
              "outlinewidth": 0,
              "ticks": ""
             }
            },
            "type": "scattergeo"
           }
          ],
          "scattergl": [
           {
            "marker": {
             "colorbar": {
              "outlinewidth": 0,
              "ticks": ""
             }
            },
            "type": "scattergl"
           }
          ],
          "scattermapbox": [
           {
            "marker": {
             "colorbar": {
              "outlinewidth": 0,
              "ticks": ""
             }
            },
            "type": "scattermapbox"
           }
          ],
          "scatterpolar": [
           {
            "marker": {
             "colorbar": {
              "outlinewidth": 0,
              "ticks": ""
             }
            },
            "type": "scatterpolar"
           }
          ],
          "scatterpolargl": [
           {
            "marker": {
             "colorbar": {
              "outlinewidth": 0,
              "ticks": ""
             }
            },
            "type": "scatterpolargl"
           }
          ],
          "scatterternary": [
           {
            "marker": {
             "colorbar": {
              "outlinewidth": 0,
              "ticks": ""
             }
            },
            "type": "scatterternary"
           }
          ],
          "surface": [
           {
            "colorbar": {
             "outlinewidth": 0,
             "ticks": ""
            },
            "colorscale": [
             [
              0,
              "#0d0887"
             ],
             [
              0.1111111111111111,
              "#46039f"
             ],
             [
              0.2222222222222222,
              "#7201a8"
             ],
             [
              0.3333333333333333,
              "#9c179e"
             ],
             [
              0.4444444444444444,
              "#bd3786"
             ],
             [
              0.5555555555555556,
              "#d8576b"
             ],
             [
              0.6666666666666666,
              "#ed7953"
             ],
             [
              0.7777777777777778,
              "#fb9f3a"
             ],
             [
              0.8888888888888888,
              "#fdca26"
             ],
             [
              1,
              "#f0f921"
             ]
            ],
            "type": "surface"
           }
          ],
          "table": [
           {
            "cells": {
             "fill": {
              "color": "#EBF0F8"
             },
             "line": {
              "color": "white"
             }
            },
            "header": {
             "fill": {
              "color": "#C8D4E3"
             },
             "line": {
              "color": "white"
             }
            },
            "type": "table"
           }
          ]
         },
         "layout": {
          "annotationdefaults": {
           "arrowcolor": "#2a3f5f",
           "arrowhead": 0,
           "arrowwidth": 1
          },
          "autotypenumbers": "strict",
          "coloraxis": {
           "colorbar": {
            "outlinewidth": 0,
            "ticks": ""
           }
          },
          "colorscale": {
           "diverging": [
            [
             0,
             "#8e0152"
            ],
            [
             0.1,
             "#c51b7d"
            ],
            [
             0.2,
             "#de77ae"
            ],
            [
             0.3,
             "#f1b6da"
            ],
            [
             0.4,
             "#fde0ef"
            ],
            [
             0.5,
             "#f7f7f7"
            ],
            [
             0.6,
             "#e6f5d0"
            ],
            [
             0.7,
             "#b8e186"
            ],
            [
             0.8,
             "#7fbc41"
            ],
            [
             0.9,
             "#4d9221"
            ],
            [
             1,
             "#276419"
            ]
           ],
           "sequential": [
            [
             0,
             "#0d0887"
            ],
            [
             0.1111111111111111,
             "#46039f"
            ],
            [
             0.2222222222222222,
             "#7201a8"
            ],
            [
             0.3333333333333333,
             "#9c179e"
            ],
            [
             0.4444444444444444,
             "#bd3786"
            ],
            [
             0.5555555555555556,
             "#d8576b"
            ],
            [
             0.6666666666666666,
             "#ed7953"
            ],
            [
             0.7777777777777778,
             "#fb9f3a"
            ],
            [
             0.8888888888888888,
             "#fdca26"
            ],
            [
             1,
             "#f0f921"
            ]
           ],
           "sequentialminus": [
            [
             0,
             "#0d0887"
            ],
            [
             0.1111111111111111,
             "#46039f"
            ],
            [
             0.2222222222222222,
             "#7201a8"
            ],
            [
             0.3333333333333333,
             "#9c179e"
            ],
            [
             0.4444444444444444,
             "#bd3786"
            ],
            [
             0.5555555555555556,
             "#d8576b"
            ],
            [
             0.6666666666666666,
             "#ed7953"
            ],
            [
             0.7777777777777778,
             "#fb9f3a"
            ],
            [
             0.8888888888888888,
             "#fdca26"
            ],
            [
             1,
             "#f0f921"
            ]
           ]
          },
          "colorway": [
           "#636efa",
           "#EF553B",
           "#00cc96",
           "#ab63fa",
           "#FFA15A",
           "#19d3f3",
           "#FF6692",
           "#B6E880",
           "#FF97FF",
           "#FECB52"
          ],
          "font": {
           "color": "#2a3f5f"
          },
          "geo": {
           "bgcolor": "white",
           "lakecolor": "white",
           "landcolor": "#E5ECF6",
           "showlakes": true,
           "showland": true,
           "subunitcolor": "white"
          },
          "hoverlabel": {
           "align": "left"
          },
          "hovermode": "closest",
          "mapbox": {
           "style": "light"
          },
          "paper_bgcolor": "white",
          "plot_bgcolor": "#E5ECF6",
          "polar": {
           "angularaxis": {
            "gridcolor": "white",
            "linecolor": "white",
            "ticks": ""
           },
           "bgcolor": "#E5ECF6",
           "radialaxis": {
            "gridcolor": "white",
            "linecolor": "white",
            "ticks": ""
           }
          },
          "scene": {
           "xaxis": {
            "backgroundcolor": "#E5ECF6",
            "gridcolor": "white",
            "gridwidth": 2,
            "linecolor": "white",
            "showbackground": true,
            "ticks": "",
            "zerolinecolor": "white"
           },
           "yaxis": {
            "backgroundcolor": "#E5ECF6",
            "gridcolor": "white",
            "gridwidth": 2,
            "linecolor": "white",
            "showbackground": true,
            "ticks": "",
            "zerolinecolor": "white"
           },
           "zaxis": {
            "backgroundcolor": "#E5ECF6",
            "gridcolor": "white",
            "gridwidth": 2,
            "linecolor": "white",
            "showbackground": true,
            "ticks": "",
            "zerolinecolor": "white"
           }
          },
          "shapedefaults": {
           "line": {
            "color": "#2a3f5f"
           }
          },
          "ternary": {
           "aaxis": {
            "gridcolor": "white",
            "linecolor": "white",
            "ticks": ""
           },
           "baxis": {
            "gridcolor": "white",
            "linecolor": "white",
            "ticks": ""
           },
           "bgcolor": "#E5ECF6",
           "caxis": {
            "gridcolor": "white",
            "linecolor": "white",
            "ticks": ""
           }
          },
          "title": {
           "x": 0.05
          },
          "xaxis": {
           "automargin": true,
           "gridcolor": "white",
           "linecolor": "white",
           "ticks": "",
           "title": {
            "standoff": 15
           },
           "zerolinecolor": "white",
           "zerolinewidth": 2
          },
          "yaxis": {
           "automargin": true,
           "gridcolor": "white",
           "linecolor": "white",
           "ticks": "",
           "title": {
            "standoff": 15
           },
           "zerolinecolor": "white",
           "zerolinewidth": 2
          }
         }
        },
        "title": {
         "text": "Counts of tweets by Month"
        },
        "xaxis": {
         "anchor": "y",
         "domain": [
          0,
          1
         ],
         "title": {
          "text": "Hour"
         }
        },
        "yaxis": {
         "anchor": "x",
         "domain": [
          0,
          1
         ],
         "title": {
          "text": "Number of tweets"
         }
        }
       }
      },
      "text/html": [
       "<div>                            <div id=\"8bce7cc7-6811-48f8-b48e-b3b056aaa316\" class=\"plotly-graph-div\" style=\"height:525px; width:100%;\"></div>            <script type=\"text/javascript\">                require([\"plotly\"], function(Plotly) {                    window.PLOTLYENV=window.PLOTLYENV || {};                                    if (document.getElementById(\"8bce7cc7-6811-48f8-b48e-b3b056aaa316\")) {                    Plotly.newPlot(                        \"8bce7cc7-6811-48f8-b48e-b3b056aaa316\",                        [{\"alignmentgroup\":\"True\",\"hovertemplate\":\"Hour=%{x}<br>Number of tweets=%{y}<extra></extra>\",\"legendgroup\":\"\",\"marker\":{\"color\":\"#636efa\",\"pattern\":{\"shape\":\"\"}},\"name\":\"\",\"offsetgroup\":\"\",\"orientation\":\"v\",\"showlegend\":false,\"textposition\":\"auto\",\"type\":\"bar\",\"x\":[16,17,15,18,8,7,14,6,9,5,10,11,12,13,19,4,3,20,21,2,1,0,22,23],\"xaxis\":\"x\",\"y\":[301,266,186,181,175,174,167,159,159,137,136,136,127,127,114,77,54,39,19,18,9,8,7,7],\"yaxis\":\"y\"}],                        {\"barmode\":\"relative\",\"legend\":{\"tracegroupgap\":0},\"template\":{\"data\":{\"bar\":[{\"error_x\":{\"color\":\"#2a3f5f\"},\"error_y\":{\"color\":\"#2a3f5f\"},\"marker\":{\"line\":{\"color\":\"#E5ECF6\",\"width\":0.5},\"pattern\":{\"fillmode\":\"overlay\",\"size\":10,\"solidity\":0.2}},\"type\":\"bar\"}],\"barpolar\":[{\"marker\":{\"line\":{\"color\":\"#E5ECF6\",\"width\":0.5},\"pattern\":{\"fillmode\":\"overlay\",\"size\":10,\"solidity\":0.2}},\"type\":\"barpolar\"}],\"carpet\":[{\"aaxis\":{\"endlinecolor\":\"#2a3f5f\",\"gridcolor\":\"white\",\"linecolor\":\"white\",\"minorgridcolor\":\"white\",\"startlinecolor\":\"#2a3f5f\"},\"baxis\":{\"endlinecolor\":\"#2a3f5f\",\"gridcolor\":\"white\",\"linecolor\":\"white\",\"minorgridcolor\":\"white\",\"startlinecolor\":\"#2a3f5f\"},\"type\":\"carpet\"}],\"choropleth\":[{\"colorbar\":{\"outlinewidth\":0,\"ticks\":\"\"},\"type\":\"choropleth\"}],\"contour\":[{\"colorbar\":{\"outlinewidth\":0,\"ticks\":\"\"},\"colorscale\":[[0.0,\"#0d0887\"],[0.1111111111111111,\"#46039f\"],[0.2222222222222222,\"#7201a8\"],[0.3333333333333333,\"#9c179e\"],[0.4444444444444444,\"#bd3786\"],[0.5555555555555556,\"#d8576b\"],[0.6666666666666666,\"#ed7953\"],[0.7777777777777778,\"#fb9f3a\"],[0.8888888888888888,\"#fdca26\"],[1.0,\"#f0f921\"]],\"type\":\"contour\"}],\"contourcarpet\":[{\"colorbar\":{\"outlinewidth\":0,\"ticks\":\"\"},\"type\":\"contourcarpet\"}],\"heatmap\":[{\"colorbar\":{\"outlinewidth\":0,\"ticks\":\"\"},\"colorscale\":[[0.0,\"#0d0887\"],[0.1111111111111111,\"#46039f\"],[0.2222222222222222,\"#7201a8\"],[0.3333333333333333,\"#9c179e\"],[0.4444444444444444,\"#bd3786\"],[0.5555555555555556,\"#d8576b\"],[0.6666666666666666,\"#ed7953\"],[0.7777777777777778,\"#fb9f3a\"],[0.8888888888888888,\"#fdca26\"],[1.0,\"#f0f921\"]],\"type\":\"heatmap\"}],\"heatmapgl\":[{\"colorbar\":{\"outlinewidth\":0,\"ticks\":\"\"},\"colorscale\":[[0.0,\"#0d0887\"],[0.1111111111111111,\"#46039f\"],[0.2222222222222222,\"#7201a8\"],[0.3333333333333333,\"#9c179e\"],[0.4444444444444444,\"#bd3786\"],[0.5555555555555556,\"#d8576b\"],[0.6666666666666666,\"#ed7953\"],[0.7777777777777778,\"#fb9f3a\"],[0.8888888888888888,\"#fdca26\"],[1.0,\"#f0f921\"]],\"type\":\"heatmapgl\"}],\"histogram\":[{\"marker\":{\"pattern\":{\"fillmode\":\"overlay\",\"size\":10,\"solidity\":0.2}},\"type\":\"histogram\"}],\"histogram2d\":[{\"colorbar\":{\"outlinewidth\":0,\"ticks\":\"\"},\"colorscale\":[[0.0,\"#0d0887\"],[0.1111111111111111,\"#46039f\"],[0.2222222222222222,\"#7201a8\"],[0.3333333333333333,\"#9c179e\"],[0.4444444444444444,\"#bd3786\"],[0.5555555555555556,\"#d8576b\"],[0.6666666666666666,\"#ed7953\"],[0.7777777777777778,\"#fb9f3a\"],[0.8888888888888888,\"#fdca26\"],[1.0,\"#f0f921\"]],\"type\":\"histogram2d\"}],\"histogram2dcontour\":[{\"colorbar\":{\"outlinewidth\":0,\"ticks\":\"\"},\"colorscale\":[[0.0,\"#0d0887\"],[0.1111111111111111,\"#46039f\"],[0.2222222222222222,\"#7201a8\"],[0.3333333333333333,\"#9c179e\"],[0.4444444444444444,\"#bd3786\"],[0.5555555555555556,\"#d8576b\"],[0.6666666666666666,\"#ed7953\"],[0.7777777777777778,\"#fb9f3a\"],[0.8888888888888888,\"#fdca26\"],[1.0,\"#f0f921\"]],\"type\":\"histogram2dcontour\"}],\"mesh3d\":[{\"colorbar\":{\"outlinewidth\":0,\"ticks\":\"\"},\"type\":\"mesh3d\"}],\"parcoords\":[{\"line\":{\"colorbar\":{\"outlinewidth\":0,\"ticks\":\"\"}},\"type\":\"parcoords\"}],\"pie\":[{\"automargin\":true,\"type\":\"pie\"}],\"scatter\":[{\"marker\":{\"colorbar\":{\"outlinewidth\":0,\"ticks\":\"\"}},\"type\":\"scatter\"}],\"scatter3d\":[{\"line\":{\"colorbar\":{\"outlinewidth\":0,\"ticks\":\"\"}},\"marker\":{\"colorbar\":{\"outlinewidth\":0,\"ticks\":\"\"}},\"type\":\"scatter3d\"}],\"scattercarpet\":[{\"marker\":{\"colorbar\":{\"outlinewidth\":0,\"ticks\":\"\"}},\"type\":\"scattercarpet\"}],\"scattergeo\":[{\"marker\":{\"colorbar\":{\"outlinewidth\":0,\"ticks\":\"\"}},\"type\":\"scattergeo\"}],\"scattergl\":[{\"marker\":{\"colorbar\":{\"outlinewidth\":0,\"ticks\":\"\"}},\"type\":\"scattergl\"}],\"scattermapbox\":[{\"marker\":{\"colorbar\":{\"outlinewidth\":0,\"ticks\":\"\"}},\"type\":\"scattermapbox\"}],\"scatterpolar\":[{\"marker\":{\"colorbar\":{\"outlinewidth\":0,\"ticks\":\"\"}},\"type\":\"scatterpolar\"}],\"scatterpolargl\":[{\"marker\":{\"colorbar\":{\"outlinewidth\":0,\"ticks\":\"\"}},\"type\":\"scatterpolargl\"}],\"scatterternary\":[{\"marker\":{\"colorbar\":{\"outlinewidth\":0,\"ticks\":\"\"}},\"type\":\"scatterternary\"}],\"surface\":[{\"colorbar\":{\"outlinewidth\":0,\"ticks\":\"\"},\"colorscale\":[[0.0,\"#0d0887\"],[0.1111111111111111,\"#46039f\"],[0.2222222222222222,\"#7201a8\"],[0.3333333333333333,\"#9c179e\"],[0.4444444444444444,\"#bd3786\"],[0.5555555555555556,\"#d8576b\"],[0.6666666666666666,\"#ed7953\"],[0.7777777777777778,\"#fb9f3a\"],[0.8888888888888888,\"#fdca26\"],[1.0,\"#f0f921\"]],\"type\":\"surface\"}],\"table\":[{\"cells\":{\"fill\":{\"color\":\"#EBF0F8\"},\"line\":{\"color\":\"white\"}},\"header\":{\"fill\":{\"color\":\"#C8D4E3\"},\"line\":{\"color\":\"white\"}},\"type\":\"table\"}]},\"layout\":{\"annotationdefaults\":{\"arrowcolor\":\"#2a3f5f\",\"arrowhead\":0,\"arrowwidth\":1},\"autotypenumbers\":\"strict\",\"coloraxis\":{\"colorbar\":{\"outlinewidth\":0,\"ticks\":\"\"}},\"colorscale\":{\"diverging\":[[0,\"#8e0152\"],[0.1,\"#c51b7d\"],[0.2,\"#de77ae\"],[0.3,\"#f1b6da\"],[0.4,\"#fde0ef\"],[0.5,\"#f7f7f7\"],[0.6,\"#e6f5d0\"],[0.7,\"#b8e186\"],[0.8,\"#7fbc41\"],[0.9,\"#4d9221\"],[1,\"#276419\"]],\"sequential\":[[0.0,\"#0d0887\"],[0.1111111111111111,\"#46039f\"],[0.2222222222222222,\"#7201a8\"],[0.3333333333333333,\"#9c179e\"],[0.4444444444444444,\"#bd3786\"],[0.5555555555555556,\"#d8576b\"],[0.6666666666666666,\"#ed7953\"],[0.7777777777777778,\"#fb9f3a\"],[0.8888888888888888,\"#fdca26\"],[1.0,\"#f0f921\"]],\"sequentialminus\":[[0.0,\"#0d0887\"],[0.1111111111111111,\"#46039f\"],[0.2222222222222222,\"#7201a8\"],[0.3333333333333333,\"#9c179e\"],[0.4444444444444444,\"#bd3786\"],[0.5555555555555556,\"#d8576b\"],[0.6666666666666666,\"#ed7953\"],[0.7777777777777778,\"#fb9f3a\"],[0.8888888888888888,\"#fdca26\"],[1.0,\"#f0f921\"]]},\"colorway\":[\"#636efa\",\"#EF553B\",\"#00cc96\",\"#ab63fa\",\"#FFA15A\",\"#19d3f3\",\"#FF6692\",\"#B6E880\",\"#FF97FF\",\"#FECB52\"],\"font\":{\"color\":\"#2a3f5f\"},\"geo\":{\"bgcolor\":\"white\",\"lakecolor\":\"white\",\"landcolor\":\"#E5ECF6\",\"showlakes\":true,\"showland\":true,\"subunitcolor\":\"white\"},\"hoverlabel\":{\"align\":\"left\"},\"hovermode\":\"closest\",\"mapbox\":{\"style\":\"light\"},\"paper_bgcolor\":\"white\",\"plot_bgcolor\":\"#E5ECF6\",\"polar\":{\"angularaxis\":{\"gridcolor\":\"white\",\"linecolor\":\"white\",\"ticks\":\"\"},\"bgcolor\":\"#E5ECF6\",\"radialaxis\":{\"gridcolor\":\"white\",\"linecolor\":\"white\",\"ticks\":\"\"}},\"scene\":{\"xaxis\":{\"backgroundcolor\":\"#E5ECF6\",\"gridcolor\":\"white\",\"gridwidth\":2,\"linecolor\":\"white\",\"showbackground\":true,\"ticks\":\"\",\"zerolinecolor\":\"white\"},\"yaxis\":{\"backgroundcolor\":\"#E5ECF6\",\"gridcolor\":\"white\",\"gridwidth\":2,\"linecolor\":\"white\",\"showbackground\":true,\"ticks\":\"\",\"zerolinecolor\":\"white\"},\"zaxis\":{\"backgroundcolor\":\"#E5ECF6\",\"gridcolor\":\"white\",\"gridwidth\":2,\"linecolor\":\"white\",\"showbackground\":true,\"ticks\":\"\",\"zerolinecolor\":\"white\"}},\"shapedefaults\":{\"line\":{\"color\":\"#2a3f5f\"}},\"ternary\":{\"aaxis\":{\"gridcolor\":\"white\",\"linecolor\":\"white\",\"ticks\":\"\"},\"baxis\":{\"gridcolor\":\"white\",\"linecolor\":\"white\",\"ticks\":\"\"},\"bgcolor\":\"#E5ECF6\",\"caxis\":{\"gridcolor\":\"white\",\"linecolor\":\"white\",\"ticks\":\"\"}},\"title\":{\"x\":0.05},\"xaxis\":{\"automargin\":true,\"gridcolor\":\"white\",\"linecolor\":\"white\",\"ticks\":\"\",\"title\":{\"standoff\":15},\"zerolinecolor\":\"white\",\"zerolinewidth\":2},\"yaxis\":{\"automargin\":true,\"gridcolor\":\"white\",\"linecolor\":\"white\",\"ticks\":\"\",\"title\":{\"standoff\":15},\"zerolinecolor\":\"white\",\"zerolinewidth\":2}}},\"title\":{\"text\":\"Counts of tweets by Month\"},\"xaxis\":{\"anchor\":\"y\",\"domain\":[0.0,1.0],\"title\":{\"text\":\"Hour\"}},\"yaxis\":{\"anchor\":\"x\",\"domain\":[0.0,1.0],\"title\":{\"text\":\"Number of tweets\"}}},                        {\"responsive\": true}                    ).then(function(){\n",
       "                            \n",
       "var gd = document.getElementById('8bce7cc7-6811-48f8-b48e-b3b056aaa316');\n",
       "var x = new MutationObserver(function (mutations, observer) {{\n",
       "        var display = window.getComputedStyle(gd).display;\n",
       "        if (!display || display === 'none') {{\n",
       "            console.log([gd, 'removed!']);\n",
       "            Plotly.purge(gd);\n",
       "            observer.disconnect();\n",
       "        }}\n",
       "}});\n",
       "\n",
       "// Listen for the removal of the full notebook cells\n",
       "var notebookContainer = gd.closest('#notebook-container');\n",
       "if (notebookContainer) {{\n",
       "    x.observe(notebookContainer, {childList: true});\n",
       "}}\n",
       "\n",
       "// Listen for the clearing of the current output cell\n",
       "var outputEl = gd.closest('.output');\n",
       "if (outputEl) {{\n",
       "    x.observe(outputEl, {childList: true});\n",
       "}}\n",
       "\n",
       "                        })                };                });            </script>        </div>"
      ]
     },
     "metadata": {},
     "output_type": "display_data"
    }
   ],
   "source": [
    "#Getting distribution on accordance to hour of the day\n",
    "\n",
    "df['hour'] = df['Time'].apply(lambda time: time.hour)\n",
    "\n",
    "fig = px.bar(df,\n",
    "             y=df['hour'].value_counts().values, \n",
    "             x=df['hour'].value_counts().index,\n",
    "             title = \"Counts of tweets by Month\",\n",
    "            labels={\"x\":\"Hour\",\"y\":\"Number of tweets\"},\n",
    "            )\n",
    "fig.show()"
   ]
  },
  {
   "cell_type": "markdown",
   "id": "e4ffb2c6",
   "metadata": {},
   "source": [
    "#### From the initial EDA we have the following info:\n",
    "#### 1. The tweets are multilingual with the larger percentage being on English and the lesser is Kiswahili.\n",
    "#### 2. The average length of a tweet is 148 characters which tells us that people don't write long tweets for this company\n",
    "#### 3. The first quarter of the year saw relatively more tweets than the other quarters.\n",
    "#### 4. Most people tweet in the morning hours (6am - 9am) and in the afternoon (2pm - 6pm)\n",
    "\n",
    "#### We will proceed to analyze the English reviews since they are more as compared to the English once and we also have more resources for English compared to swahili"
   ]
  },
  {
   "cell_type": "code",
   "execution_count": 99,
   "id": "1969b5ed",
   "metadata": {},
   "outputs": [
    {
     "data": {
      "text/html": [
       "<div>\n",
       "<style scoped>\n",
       "    .dataframe tbody tr th:only-of-type {\n",
       "        vertical-align: middle;\n",
       "    }\n",
       "\n",
       "    .dataframe tbody tr th {\n",
       "        vertical-align: top;\n",
       "    }\n",
       "\n",
       "    .dataframe thead th {\n",
       "        text-align: right;\n",
       "    }\n",
       "</style>\n",
       "<table border=\"1\" class=\"dataframe\">\n",
       "  <thead>\n",
       "    <tr style=\"text-align: right;\">\n",
       "      <th></th>\n",
       "      <th>tweet</th>\n",
       "      <th>tweet_cleaned</th>\n",
       "      <th>Month</th>\n",
       "      <th>Day</th>\n",
       "      <th>tweetLength</th>\n",
       "    </tr>\n",
       "  </thead>\n",
       "  <tbody>\n",
       "    <tr>\n",
       "      <th>1374</th>\n",
       "      <td>\\n@KenyaPower_Care\\n \\n@KenyaPower\\n</td>\n",
       "      <td>@KenyaPower_Care   @KenyaPower</td>\n",
       "      <td>6</td>\n",
       "      <td>13</td>\n",
       "      <td>34</td>\n",
       "    </tr>\n",
       "    <tr>\n",
       "      <th>1334</th>\n",
       "      <td>Aye \\n@KenyaPower\\n \\n@KenyaPower_Care\\n  tusi...</td>\n",
       "      <td>Aye  @KenyaPower   @KenyaPower_Care   tusizoeane</td>\n",
       "      <td>6</td>\n",
       "      <td>22</td>\n",
       "      <td>48</td>\n",
       "    </tr>\n",
       "    <tr>\n",
       "      <th>1823</th>\n",
       "      <td>Working from home and then KPLC decided to do ...</td>\n",
       "      <td>Working from home and then KPLC decided to do ...</td>\n",
       "      <td>4</td>\n",
       "      <td>16</td>\n",
       "      <td>122</td>\n",
       "    </tr>\n",
       "    <tr>\n",
       "      <th>760</th>\n",
       "      <td>Gmorng \\n\\n@KenyaPower_Care\\n\\n \\n\\n@KenyaPowe...</td>\n",
       "      <td>Gmorng   @KenyaPower_Care     @KenyaPower   ha...</td>\n",
       "      <td>9</td>\n",
       "      <td>28</td>\n",
       "      <td>188</td>\n",
       "    </tr>\n",
       "    <tr>\n",
       "      <th>917</th>\n",
       "      <td>No power in langata (jambo Estate) Ref No.7045...</td>\n",
       "      <td>No power in langata (jambo Estate) Ref No.7045...</td>\n",
       "      <td>8</td>\n",
       "      <td>28</td>\n",
       "      <td>138</td>\n",
       "    </tr>\n",
       "    <tr>\n",
       "      <th>827</th>\n",
       "      <td>Hi, \\n@KenyaPower\\n \\n@KenyaPower_Care\\n power...</td>\n",
       "      <td>Hi,  @KenyaPower   @KenyaPower_Care  power out...</td>\n",
       "      <td>9</td>\n",
       "      <td>15</td>\n",
       "      <td>239</td>\n",
       "    </tr>\n",
       "    <tr>\n",
       "      <th>1939</th>\n",
       "      <td>Hello \\n@KenyaPower_Care\\n and \\n@KenyaPower\\n...</td>\n",
       "      <td>Hello  @KenyaPower_Care  and  @KenyaPower , th...</td>\n",
       "      <td>4</td>\n",
       "      <td>6</td>\n",
       "      <td>185</td>\n",
       "    </tr>\n",
       "    <tr>\n",
       "      <th>697</th>\n",
       "      <td>Hi \\n@KenyaPower_Care\\n \\n@KenyaPower\\n what's...</td>\n",
       "      <td>Hi  @KenyaPower_Care   @KenyaPower  what's tim...</td>\n",
       "      <td>10</td>\n",
       "      <td>7</td>\n",
       "      <td>97</td>\n",
       "    </tr>\n",
       "    <tr>\n",
       "      <th>2260</th>\n",
       "      <td>Greetings \\n@KenyaPower_Care\\n \\n@KenyaPower\\n...</td>\n",
       "      <td>Greetings  @KenyaPower_Care   @KenyaPower . Ki...</td>\n",
       "      <td>2</td>\n",
       "      <td>28</td>\n",
       "      <td>175</td>\n",
       "    </tr>\n",
       "    <tr>\n",
       "      <th>2082</th>\n",
       "      <td>Hey \\n@KenyaPower_Care\\n \\n@KenyaPower\\n we do...</td>\n",
       "      <td>Hey  @KenyaPower_Care   @KenyaPower  we don't ...</td>\n",
       "      <td>3</td>\n",
       "      <td>25</td>\n",
       "      <td>108</td>\n",
       "    </tr>\n",
       "  </tbody>\n",
       "</table>\n",
       "</div>"
      ],
      "text/plain": [
       "                                                  tweet  \\\n",
       "1374              \\n@KenyaPower_Care\\n \\n@KenyaPower\\n    \n",
       "1334  Aye \\n@KenyaPower\\n \\n@KenyaPower_Care\\n  tusi...   \n",
       "1823  Working from home and then KPLC decided to do ...   \n",
       "760   Gmorng \\n\\n@KenyaPower_Care\\n\\n \\n\\n@KenyaPowe...   \n",
       "917   No power in langata (jambo Estate) Ref No.7045...   \n",
       "827   Hi, \\n@KenyaPower\\n \\n@KenyaPower_Care\\n power...   \n",
       "1939  Hello \\n@KenyaPower_Care\\n and \\n@KenyaPower\\n...   \n",
       "697   Hi \\n@KenyaPower_Care\\n \\n@KenyaPower\\n what's...   \n",
       "2260  Greetings \\n@KenyaPower_Care\\n \\n@KenyaPower\\n...   \n",
       "2082  Hey \\n@KenyaPower_Care\\n \\n@KenyaPower\\n we do...   \n",
       "\n",
       "                                          tweet_cleaned  Month  Day  \\\n",
       "1374                   @KenyaPower_Care   @KenyaPower        6   13   \n",
       "1334   Aye  @KenyaPower   @KenyaPower_Care   tusizoeane      6   22   \n",
       "1823  Working from home and then KPLC decided to do ...      4   16   \n",
       "760   Gmorng   @KenyaPower_Care     @KenyaPower   ha...      9   28   \n",
       "917   No power in langata (jambo Estate) Ref No.7045...      8   28   \n",
       "827   Hi,  @KenyaPower   @KenyaPower_Care  power out...      9   15   \n",
       "1939  Hello  @KenyaPower_Care  and  @KenyaPower , th...      4    6   \n",
       "697   Hi  @KenyaPower_Care   @KenyaPower  what's tim...     10    7   \n",
       "2260  Greetings  @KenyaPower_Care   @KenyaPower . Ki...      2   28   \n",
       "2082  Hey  @KenyaPower_Care   @KenyaPower  we don't ...      3   25   \n",
       "\n",
       "      tweetLength  \n",
       "1374           34  \n",
       "1334           48  \n",
       "1823          122  \n",
       "760           188  \n",
       "917           138  \n",
       "827           239  \n",
       "1939          185  \n",
       "697            97  \n",
       "2260          175  \n",
       "2082          108  "
      ]
     },
     "execution_count": 99,
     "metadata": {},
     "output_type": "execute_result"
    }
   ],
   "source": [
    "#We'll first of all get our subset of the English reviews\n",
    "\n",
    "df_english = df[df['language'] == 'English'].copy()\n",
    "df_english.drop(['handle','comments','reshare','likes','Time','language'], axis = 1, inplace= True)\n",
    "df_english.sample(10, random_state=9)"
   ]
  },
  {
   "cell_type": "code",
   "execution_count": 134,
   "id": "860c4cec",
   "metadata": {},
   "outputs": [],
   "source": [
    "#Lets no clean the data to so a more indepth analysis\n",
    "\n",
    "#removing contractions, special charaters, spell checking\n",
    "\n",
    "df_english['tweet_cleaned2'] = df_english['tweet_cleaned'].apply(lambda tweet:re.sub('[^\\w\\d\\s]+','',tweet))"
   ]
  },
  {
   "cell_type": "code",
   "execution_count": null,
   "id": "b0ccb6bf",
   "metadata": {},
   "outputs": [],
   "source": [
    "from spellchecker import SpellChecker\n",
    "\n",
    "def spellCheckSentence(tweet):\n",
    "    words = []\n",
    "    for word in tweet.split():\n",
    "        words.append(spell.correction(word))\n",
    "    return ' '.join(words)\n",
    "\n",
    "spell = SpellChecker()\n",
    "    \n",
    "df_english['tweet_cleaned2'] = df_english['tweet_cleaned2'].apply(spellCheckSentence)"
   ]
  },
  {
   "cell_type": "code",
   "execution_count": null,
   "id": "25d2e76e",
   "metadata": {},
   "outputs": [],
   "source": [
    "#this is EDA\n",
    "\n",
    "#get word count for tweets\n",
    "#get word cloud\n",
    "\n",
    "#remove contractions\n",
    "#make lower case\n",
    "#check spelling\n",
    "#break to month on month and check most common word and polarity\n",
    "#check word count"
   ]
  }
 ],
 "metadata": {
  "kernelspec": {
   "display_name": "Python 3",
   "language": "python",
   "name": "python3"
  },
  "language_info": {
   "codemirror_mode": {
    "name": "ipython",
    "version": 3
   },
   "file_extension": ".py",
   "mimetype": "text/x-python",
   "name": "python",
   "nbconvert_exporter": "python",
   "pygments_lexer": "ipython3",
   "version": "3.8.8"
  }
 },
 "nbformat": 4,
 "nbformat_minor": 5
}
